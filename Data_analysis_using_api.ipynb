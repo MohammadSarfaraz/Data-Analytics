{
 "cells": [
  {
   "cell_type": "markdown",
   "metadata": {},
   "source": [
    "# Assignment -:Data Analytics"
   ]
  },
  {
   "cell_type": "markdown",
   "metadata": {},
   "source": [
    "Task:\n",
    "* Acquire data for Indian region from openAQ (or any other open api) the data is mainly about gases such as PM2.5, PM10, NO2, CO, SO2, Ozone and others. \n",
    "* You have to perform all this task using python/R language and make sure the data you fetch is of at least 100 records or more records for a period of time.\n",
    "* Its upto you that you are fetching the historical air quality data or live\n",
    "* Get the actual parameters PM2.5, PM10, NO2, CO, SO2, Ozone and region name \n",
    "* Perform exploratory data analysis.\n",
    "* Mine the data using any ML algorithm\n",
    "* Visualise the results.\n",
    "* The output of your work will be the python code that we will run and evaluate at our end.\n",
    "\n",
    "Note: \n",
    "1. You have to extract the data through API, not to use already available dataset.\n",
    "2. This assignment is to evaluate your basic data science skills, kindly read the steps and perform accordingly"
   ]
  },
  {
   "cell_type": "code",
   "execution_count": 1,
   "metadata": {},
   "outputs": [],
   "source": [
    "import pandas as pd\n",
    "import requests # perform using api get and post method\n",
    "import numpy as np\n",
    "import matplotlib.pyplot as plt\n",
    "import seaborn as sns"
   ]
  },
  {
   "cell_type": "code",
   "execution_count": 2,
   "metadata": {},
   "outputs": [],
   "source": [
    "result = requests.get('https://api.openaq.org/v1/locations?country=IN')"
   ]
  },
  {
   "cell_type": "code",
   "execution_count": 3,
   "metadata": {},
   "outputs": [
    {
     "data": {
      "text/plain": [
       "200"
      ]
     },
     "execution_count": 3,
     "metadata": {},
     "output_type": "execute_result"
    }
   ],
   "source": [
    "result.status_code"
   ]
  },
  {
   "cell_type": "code",
   "execution_count": 4,
   "metadata": {},
   "outputs": [
    {
     "data": {
      "text/plain": [
       "'{\"meta\":{\"name\":\"openaq-api\",\"license\":\"CC BY 4.0\",\"website\":\"https://docs.openaq.org/\",\"page\":1,\"limit\":100,\"found\":321},\"results\":[{\"id\":\"IN-35\",\"country\":\"IN\",\"city\":\"Agra\",\"cities\":[\"Agra\"],\"location\":\"Sanjay Palace, Agra - UPPCB\",\"locations\":[\"Sanjay Palace\",\"Sanjay Palace, Agra - UPPCB\"],\"sourceName\":\"caaqm\",\"sourceNames\":[\"CPCB\",\"data.gov.in\",\"caaqm\"],\"sourceType\":\"government\",\"sourceTypes\":[\"government\"],\"coordinates\":{\"longitude\":78.00598,\"latitude\":27.19866},\"firstUpdated\":\"2016-03-22T00:20:00.000Z\",\"lastUpdated\":\"2020-10-12T01:15:00.000Z\",\"parameters\":[\"co\",\"no2\",\"o3\",\"pm25\",\"so2\"],\"countsByMeasurement\":[{\"parameter\":\"co\",\"count\":58297},{\"parameter\":\"no2\",\"count\":34395},{\"parameter\":\"o3\",\"count\":59990},{\"parameter\":\"pm25\",\"count\":58836},{\"parameter\":\"so2\",\"count\":42847}],\"count\":254365},{\"id\":\"IN-101\",\"country\":\"IN\",\"city\":\"Ahmedabad\",\"cities\":[\"Ahmedabad\",\"On the terrace of Water distribution Center\"],\"location\":\"Maninagar, Ahmedabad - GPCB\",\"locations\":[\"Maninagar, Ahmedabad - GPCB\"],\"sourceName\":\"caaqm\",\"sourceNames\":[\"data.gov.in\",\"caaqm\"],\"sourceType\":\"government\",\"sourceTypes\":[\"government\"],\"coordinates\":{\"longitude\":72.59191,\"latitude\":23.00266},\"firstUpdated\":\"2018-03-09T05:30:00.000Z\",\"lastUpdated\":\"2020-10-12T01:15:00.000Z\",\"parameters\":[\"co\",\"no2\",\"o3\",\"pm10\",\"pm25\",\"so2\"],\"countsByMeasurement\":[{\"parameter\":\"co\",\"count\":35733},{\"parameter\":\"no2\",\"count\":36040},{\"parameter\":\"o3\",\"count\":35820},{\"parameter\":\"pm10\",\"count\":24772},{\"parameter\":\"pm25\",\"count\":36064},{\"parameter\":\"so2\",\"count\":35119}],\"count\":203548},{\"id\":\"IN-314\",\"country\":\"IN\",\"city\":\"Aizawl\",\"cities\":[\"Aizawl\"],\"location\":\"Sikulpuikawn, Aizawl - Mizoram PCB\",\"locations\":[\"Sikulpuikawn, Aizawl - Mizoram PCB\"],\"sourceName\":\"caaqm\",\"sourceNames\":[\"caaqm\"],\"sourceType\":\"government\",\"sourceTypes\":[\"government\"],\"coordinates\":{\"longitude\":92.71928,\"latitude\":23.71763},\"firstUpdated\":\"2020-03-19T04:30:00.000Z\",\"lastUpdated\":\"2020-10-02T23:15:00.000Z\",\"parameters\":[\"co\",\"no2\",\"o3\",\"pm10\",\"pm25\",\"so2\"],\"countsByMeasurement\":[{\"parameter\":\"co\",\"count\":4962},{\"parameter\":\"no2\",\"count\":4962},{\"parameter\":\"o3\",\"count\":4962},{\"parameter\":\"pm10\",\"count\":4962},{\"parameter\":\"pm25\",\"count\":4962},{\"parameter\":\"so2\",\"count\":4962}],\"count\":29772},{\"id\":\"IN-143\",\"country\":\"IN\",\"city\":\"Ajmer\",\"cities\":[\"Ajmer\"],\"location\":\"Civil Lines,  Ajmer - RSPCB\",\"locations\":[\"Civil Lines,  Ajmer - RSPCB\"],\"sourceName\":\"caaqm\",\"sourceNames\":[\"caaqm\"],\"sourceType\":\"government\",\"sourceTypes\":[\"government\"],\"coordinates\":{\"longitude\":74.64659,\"latitude\":26.47086},\"firstUpdated\":\"2018-04-16T03:15:00.000Z\",\"lastUpdated\":\"2020-10-12T01:00:00.000Z\",\"parameters\":[\"co\",\"no2\",\"o3\",\"pm10\",\"pm25\",\"so2\"],\"countsByMeasurement\":[{\"parameter\":\"co\",\"count\":32985},{\"parameter\":\"no2\",\"count\":32988},{\"parameter\":\"o3\",\"count\":32636},{\"parameter\":\"pm10\",\"count\":32984},{\"parameter\":\"pm25\",\"count\":32977},{\"parameter\":\"so2\",\"count\":32994}],\"count\":197564},{\"id\":\"IN-72\",\"country\":\"IN\",\"city\":\" Alwar\",\"cities\":[\"Alwar\",\" Alwar\",\"Alwar - Jaipur Rd\"],\"location\":\"Moti Doongri, Alwar - RSPCB\",\"locations\":[\"Moti Doongri, Alwar, Rajasthan - RSPCB\",\"Moti Doongri, Alwar - RSPCB\"],\"sourceName\":\"caaqm\",\"sourceNames\":[\"data.gov.in\",\"caaqm\"],\"sourceType\":\"government\",\"sourceTypes\":[\"government\"],\"coordinates\":{\"longitude\":76.61153,\"latitude\":27.55479},\"firstUpdated\":\"2018-03-09T05:30:00.000Z\",\"lastUpdated\":\"2020-10-12T01:15:00.000Z\",\"parameters\":[\"co\",\"no2\",\"o3\",\"pm10\",\"pm25\",\"so2\"],\"countsByMeasurement\":[{\"parameter\":\"co\",\"count\":37576},{\"parameter\":\"no2\",\"count\":37588},{\"parameter\":\"o3\",\"count\":36592},{\"parameter\":\"pm10\",\"count\":37591},{\"parameter\":\"pm25\",\"count\":37530},{\"parameter\":\"so2\",\"count\":37534}],\"count\":224411},{\"id\":\"IN-99\",\"country\":\"IN\",\"city\":\"Amaravati\",\"cities\":[\"Amaravati\",\"CAAQM Station\"],\"location\":\"Secretariat, Amaravati - APPCB\",\"locations\":[\"Secretariat, Amaravati - APPCB\"],\"sourceName\":\"caaqm\",\"sourceNames\":[\"data.gov.in\",\"caaqm\"],\"sourceType\":\"government\",\"sourceTypes\":[\"government\"],\"coordinates\":{\"longitude\":80.51817,\"latitude\":16.51508},\"firstUpdated\":\"2018-03-09T05:30:00.000Z\",\"lastUpdated\":\"2020-10-12T01:15:00.000Z\",\"parameters\":[\"co\",\"no2\",\"o3\",\"pm10\",\"pm25\",\"so2\"],\"countsByMeasurement\":[{\"parameter\":\"co\",\"count\":26655},{\"parameter\":\"no2\",\"count\":28453},{\"parameter\":\"o3\",\"count\":28442},{\"parameter\":\"pm10\",\"count\":28143},{\"parameter\":\"pm25\",\"count\":27744},{\"parameter\":\"so2\",\"count\":28434}],\"count\":167871},{\"id\":\"IN-210\",\"country\":\"IN\",\"city\":\"Ambala \",\"cities\":[\"Ambala \",\"Saraswati Block Top Floor\"],\"location\":\"Patti Mehar, Ambala - HSPCB\",\"locations\":[\"Patti Mehar, Ambala - HSPCB\"],\"sourceName\":\"caaqm\",\"sourceNames\":[\"caaqm\"],\"sourceType\":\"government\",\"sourceTypes\":[\"government\"],\"coordinates\":{\"longitude\":76.77833,\"latitude\":30.37959},\"firstUpdated\":\"2019-02-12T01:45:00.000Z\",\"lastUpdated\":\"2020-10-09T09:30:00.000Z\",\"parameters\":[\"co\",\"no2\",\"o3\",\"pm10\",\"pm25\",\"so2\"],\"countsByMeasurement\":[{\"parameter\":\"co\",\"count\":22491},{\"parameter\":\"no2\",\"count\":22472},{\"parameter\":\"o3\",\"count\":22495},{\"parameter\":\"pm10\",\"count\":22483},{\"parameter\":\"pm25\",\"count\":22484},{\"parameter\":\"so2\",\"count\":22490}],\"count\":134915},{\"id\":\"IN-77\",\"country\":\"IN\",\"city\":\"Amritsar\",\"cities\":[\"Amritsar\",\"Near musical Fountain \"],\"location\":\"Golden Temple, Amritsar - PPCB\",\"locations\":[\"Golden Temple, Amritsar - PPCB\"],\"sourceName\":\"caaqm\",\"sourceNames\":[\"data.gov.in\",\"caaqm\"],\"sourceType\":\"government\",\"sourceTypes\":[\"government\"],\"coordinates\":{\"longitude\":74.87651,\"latitude\":31.62},\"firstUpdated\":\"2018-03-09T05:30:00.000Z\",\"lastUpdated\":\"2020-10-12T01:00:00.000Z\",\"parameters\":[\"co\",\"no2\",\"o3\",\"pm10\",\"pm25\",\"so2\"],\"countsByMeasurement\":[{\"parameter\":\"co\",\"count\":35392},{\"parameter\":\"no2\",\"count\":35303},{\"parameter\":\"o3\",\"count\":34834},{\"parameter\":\"pm10\",\"count\":35298},{\"parameter\":\"pm25\",\"count\":35288},{\"parameter\":\"so2\",\"count\":35301}],\"count\":211416},{\"id\":\"IN-229\",\"country\":\"IN\",\"city\":\"Ankleshwar\",\"cities\":[\"Ankleshwar\",\"Bulding Of Ankleshwar Industries Association\"],\"location\":\"GIDC, Ankleshwar - GPCB\",\"locations\":[\"GIDC, Ankleshwar - GPCB\"],\"sourceName\":\"caaqm\",\"sourceNames\":[\"caaqm\"],\"sourceType\":\"government\",\"sourceTypes\":[\"government\"],\"coordinates\":{\"longitude\":73.01055,\"latitude\":21.61327},\"firstUpdated\":\"2019-02-12T02:00:00.000Z\",\"lastUpdated\":\"2020-10-11T09:30:00.000Z\",\"parameters\":[\"co\",\"no2\",\"o3\",\"pm10\",\"pm25\",\"so2\"],\"countsByMeasurement\":[{\"parameter\":\"co\",\"count\":19867},{\"parameter\":\"no2\",\"count\":19864},{\"parameter\":\"o3\",\"count\":19867},{\"parameter\":\"pm10\",\"count\":19865},{\"parameter\":\"pm25\",\"count\":19862},{\"parameter\":\"so2\",\"count\":19871}],\"count\":119196},{\"id\":\"IN-105\",\"country\":\"IN\",\"city\":\"Asansol\",\"cities\":[\"Asanol\",\"Asansol\"],\"location\":\"Asansol Court Area, Asansol - WBPCB\",\"locations\":[\"Asanol Court Area, Asanol - WBPCB\",\"Asansol Court Area, Asanol - WBPCB\",\"Asansol Court Area, Asansol - WBPCB\"],\"sourceName\":\"caaqm\",\"sourceNames\":[\"data.gov.in\",\"caaqm\"],\"sourceType\":\"government\",\"sourceTypes\":[\"government\"],\"coordinates\":{\"longitude\":86.94597,\"latitude\":23.6853},\"firstUpdated\":\"2018-03-09T05:30:00.000Z\",\"lastUpdated\":\"2020-10-11T23:30:00.000Z\",\"parameters\":[\"co\",\"no2\",\"o3\",\"pm10\",\"pm25\",\"so2\"],\"countsByMeasurement\":[{\"parameter\":\"co\",\"count\":30303},{\"parameter\":\"no2\",\"count\":29712},{\"parameter\":\"o3\",\"count\":30309},{\"parameter\":\"pm10\",\"count\":30304},{\"parameter\":\"pm25\",\"count\":30305},{\"parameter\":\"so2\",\"count\":30146}],\"count\":181079},{\"id\":\"IN-79\",\"country\":\"IN\",\"city\":\"Aurangabad\",\"cities\":[\"Aurangabad\"],\"location\":\"More Chowk Waluj, Aurangabad - MPCB\",\"locations\":[\"More Chowk Waluj, Aurangabad - MPCB\"],\"sourceName\":\"caaqm\",\"sourceNames\":[\"data.gov.in\",\"caaqm\"],\"sourceType\":\"government\",\"sourceTypes\":[\"government\"],\"coordinates\":{\"longitude\":75.24445,\"latitude\":19.83894},\"firstUpdated\":\"2018-03-09T05:30:00.000Z\",\"lastUpdated\":\"2020-10-12T01:00:00.000Z\",\"parameters\":[\"co\",\"no2\",\"o3\",\"pm10\",\"pm25\",\"so2\"],\"countsByMeasurement\":[{\"parameter\":\"co\",\"count\":30483},{\"parameter\":\"no2\",\"count\":30424},{\"parameter\":\"o3\",\"count\":30545},{\"parameter\":\"pm10\",\"count\":29738},{\"parameter\":\"pm25\",\"count\":29342},{\"parameter\":\"so2\",\"count\":30546}],\"count\":181078},{\"id\":\"IN-302\",\"country\":\"IN\",\"city\":\"Bagalkot\",\"cities\":[\"Bagalkot\"],\"location\":\"Vidayagiri, Bagalkot - KSPCB\",\"locations\":[\"Vidayagiri, Bagalkot - KSPCB\"],\"sourceName\":\"caaqm\",\"sourceNames\":[\"caaqm\"],\"sourceType\":\"government\",\"sourceTypes\":[\"government\"],\"coordinates\":{\"longitude\":75.65969,\"latitude\":16.17281},\"firstUpdated\":\"2020-02-11T05:45:00.000Z\",\"lastUpdated\":\"2020-10-11T22:45:00.000Z\",\"parameters\":[\"co\",\"no2\",\"o3\",\"pm10\",\"pm25\",\"so2\"],\"countsByMeasurement\":[{\"parameter\":\"co\",\"count\":5398},{\"parameter\":\"no2\",\"count\":5396},{\"parameter\":\"o3\",\"count\":5398},{\"parameter\":\"pm10\",\"count\":5398},{\"parameter\":\"pm25\",\"count\":5399},{\"parameter\":\"so2\",\"count\":5396}],\"count\":32385},{\"id\":\"IN-166\",\"country\":\"IN\",\"city\":\"Baghpat\",\"cities\":[\"Baghpat\",\"Government District Hospital\"],\"location\":\"New Collectorate, Baghpat - UPPCB\",\"locations\":[\"New Collectorate, Baghpat - UPPCB\"],\"sourceName\":\"caaqm\",\"sourceNames\":[\"caaqm\"],\"sourceType\":\"government\",\"sourceTypes\":[\"government\"],\"coordinates\":{\"longitude\":77.21336,\"latitude\":28.9748},\"firstUpdated\":\"2018-08-10T06:00:00.000Z\",\"lastUpdated\":\"2020-10-07T03:15:00.000Z\",\"parameters\":[\"co\",\"no2\",\"o3\",\"pm10\",\"pm25\",\"so2\"],\"countsByMeasurement\":[{\"parameter\":\"co\",\"count\":21889},{\"parameter\":\"no2\",\"count\":22311},{\"parameter\":\"o3\",\"count\":22231},{\"parameter\":\"pm10\",\"count\":23265},{\"parameter\":\"pm25\",\"count\":22969},{\"parameter\":\"so2\",\"count\":21088}],\"count\":133753},{\"id\":\"IN-222\",\"country\":\"IN\",\"city\":\"Bahadurgarh \",\"cities\":[\"Bahadurgarh \",\"Mini secretariat 301/13\"],\"location\":\"Arya Nagar, Bahadurgarh - HSPCB\",\"locations\":[\"Arya Nagar, Bahadurgarh - HSPCB\"],\"sourceName\":\"caaqm\",\"sourceNames\":[\"caaqm\"],\"sourceType\":\"government\",\"sourceTypes\":[\"government\"],\"coordinates\":{\"longitude\":76.9254,\"latitude\":28.6701},\"firstUpdated\":\"2019-02-12T01:45:00.000Z\",\"lastUpdated\":\"2020-10-09T09:30:00.000Z\",\"parameters\":[\"co\",\"no2\",\"o3\",\"pm10\",\"pm25\",\"so2\"],\"countsByMeasurement\":[{\"parameter\":\"co\",\"count\":22456},{\"parameter\":\"no2\",\"count\":22426},{\"parameter\":\"o3\",\"count\":22462},{\"parameter\":\"pm10\",\"count\":22451},{\"parameter\":\"pm25\",\"count\":22425},{\"parameter\":\"so2\",\"count\":22465}],\"count\":134685},{\"id\":\"IN-213\",\"country\":\"IN\",\"city\":\"Ballabgarh\",\"cities\":[\"Ballabgarh\",\"BDPO Office\"],\"location\":\"Nathu Colony, Ballabgarh - HSPCB\",\"locations\":[\"Nathu Colony, Ballabgarh - HSPCB\"],\"sourceName\":\"caaqm\",\"sourceNames\":[\"caaqm\"],\"sourceType\":\"government\",\"sourceTypes\":[\"government\"],\"coordinates\":{\"longitude\":77.3197,\"latitude\":28.34192},\"firstUpdated\":\"2019-02-12T01:45:00.000Z\",\"lastUpdated\":\"2020-10-11T09:15:00.000Z\",\"parameters\":[\"co\",\"no2\",\"o3\",\"pm10\",\"pm25\",\"so2\"],\"countsByMeasurement\":[{\"parameter\":\"co\",\"count\":21394},{\"parameter\":\"no2\",\"count\":21380},{\"parameter\":\"o3\",\"count\":21396},{\"parameter\":\"pm10\",\"count\":21392},{\"parameter\":\"pm25\",\"count\":21388},{\"parameter\":\"so2\",\"count\":21395}],\"count\":128345},{\"id\":\"IN-171\",\"country\":\"IN\",\"city\":\"Bathinda \",\"cities\":[\"Bathinda \",\"AMBUJA CEMENTS LIMITED.n(UNIT : BATHINDA)nNEAR G.N.D.T.P.P\"],\"location\":\"Hardev Nagar, Bathinda - PPCB\",\"locations\":[\"Hardev Nagar, Bathinda - PPCB\"],\"sourceName\":\"caaqm\",\"sourceNames\":[\"caaqm\"],\"sourceType\":\"government\",\"sourceTypes\":[\"government\"],\"coordinates\":{\"longitude\":74.90776,\"latitude\":30.23301},\"firstUpdated\":\"2018-08-10T06:00:00.000Z\",\"lastUpdated\":\"2020-10-07T18:00:00.000Z\",\"parameters\":[\"co\",\"no2\",\"pm10\",\"pm25\",\"so2\"],\"countsByMeasurement\":[{\"parameter\":\"co\",\"count\":26482},{\"parameter\":\"no2\",\"count\":29712},{\"parameter\":\"pm10\",\"count\":29703},{\"parameter\":\"pm25\",\"count\":29677},{\"parameter\":\"so2\",\"count\":29706}],\"count\":145280},{\"id\":\"IN-174\",\"country\":\"IN\",\"city\":\"Bengaluru\",\"cities\":[\"Bengaluru\",\"Mysore Rd\"],\"location\":\"Bapuji Nagar, Bengaluru - KSPCB\",\"locations\":[\"Bapuji Nagar, Bengaluru - KSPCB\"],\"sourceName\":\"caaqm\",\"sourceNames\":[\"caaqm\"],\"sourceType\":\"government\",\"sourceTypes\":[\"government\"],\"coordinates\":{\"longitude\":77.53979,\"latitude\":12.95191},\"firstUpdated\":\"2018-08-10T06:00:00.000Z\",\"lastUpdated\":\"2020-10-07T18:30:00.000Z\",\"parameters\":[\"co\",\"no2\",\"o3\",\"pm10\",\"pm25\",\"so2\"],\"countsByMeasurement\":[{\"parameter\":\"co\",\"count\":22626},{\"parameter\":\"no2\",\"count\":23956},{\"parameter\":\"o3\",\"count\":23216},{\"parameter\":\"pm10\",\"count\":24213},{\"parameter\":\"pm25\",\"count\":23980},{\"parameter\":\"so2\",\"count\":19776}],\"count\":137767},{\"id\":\"IN-94\",\"country\":\"IN\",\"city\":\"Bengaluru\",\"cities\":[\"Bengaluru\"],\"location\":\"BTM Layout, Bengaluru - CPCB\",\"locations\":[\"BTM Layout, Bengaluru - CPCB\"],\"sourceName\":\"caaqm\",\"sourceNames\":[\"data.gov.in\",\"caaqm\"],\"sourceType\":\"government\",\"sourceTypes\":[\"government\"],\"coordinates\":{\"longitude\":77.59508,\"latitude\":12.91352},\"firstUpdated\":\"2018-03-09T05:30:00.000Z\",\"lastUpdated\":\"2020-10-12T01:30:00.000Z\",\"parameters\":[\"co\",\"no2\",\"o3\",\"pm25\",\"so2\"],\"countsByMeasurement\":[{\"parameter\":\"co\",\"count\":35182},{\"parameter\":\"no2\",\"count\":34840},{\"parameter\":\"o3\",\"count\":34681},{\"parameter\":\"pm25\",\"count\":34889},{\"parameter\":\"so2\",\"count\":34409}],\"count\":174001},{\"id\":\"IN-43\",\"country\":\"IN\",\"city\":\"Bengaluru\",\"cities\":[\"Bengaluru\"],\"location\":\"BTM Layout, Bengaluru - KSPCB\",\"locations\":[\"BTM Layout\",\"BTM Layout, Bengaluru - KSPCB\"],\"sourceName\":\"CPCB\",\"sourceNames\":[\"CPCB\"],\"sourceType\":\"government\",\"sourceTypes\":[\"government\"],\"coordinates\":{\"longitude\":77.60922,\"latitude\":12.91281},\"firstUpdated\":\"2016-03-22T00:45:00.000Z\",\"lastUpdated\":\"2018-02-22T03:00:00.000Z\",\"parameters\":[\"co\",\"no2\",\"o3\",\"pm25\",\"so2\"],\"countsByMeasurement\":[{\"parameter\":\"co\",\"count\":30764},{\"parameter\":\"no2\",\"count\":32591},{\"parameter\":\"o3\",\"count\":29683},{\"parameter\":\"pm25\",\"count\":15402},{\"parameter\":\"so2\",\"count\":7225}],\"count\":115665},{\"id\":\"IN-122\",\"country\":\"IN\",\"city\":\"Bengaluru\",\"cities\":[\"Bengaluru\"],\"location\":\"BWSSB Kadabesanahalli, Bengaluru - CPCB\",\"locations\":[\"BWSSB Kadabesanahalli, Bengaluru - CPCB\"],\"sourceName\":\"caaqm\",\"sourceNames\":[\"data.gov.in\",\"caaqm\"],\"sourceType\":\"government\",\"sourceTypes\":[\"government\"],\"coordinates\":{\"longitude\":77.68145,\"latitude\":12.9352},\"firstUpdated\":\"2018-03-09T05:30:00.000Z\",\"lastUpdated\":\"2020-10-09T19:30:00.000Z\",\"parameters\":[\"co\",\"no2\",\"o3\",\"pm25\",\"so2\"],\"countsByMeasurement\":[{\"parameter\":\"co\",\"count\":30943},{\"parameter\":\"no2\",\"count\":31069},{\"parameter\":\"o3\",\"count\":26986},{\"parameter\":\"pm25\",\"count\":31080},{\"parameter\":\"so2\",\"count\":30978}],\"count\":151056},{\"id\":\"IN-37\",\"country\":\"IN\",\"city\":\"Bengaluru\",\"cities\":[\"Bengaluru\"],\"location\":\"BWSSB Kadabesanahalli, Bengaluru - KSPCB\",\"locations\":[\"BWSSB Kadabesanahalli\",\"BWSSB Kadabesanahalli, Bengaluru - KSPCB\"],\"sourceName\":\"CPCB\",\"sourceNames\":[\"CPCB\"],\"sourceType\":\"government\",\"sourceTypes\":[\"government\"],\"coordinates\":{\"longitude\":77.69727,\"latitude\":12.93891},\"firstUpdated\":\"2016-03-22T00:30:00.000Z\",\"lastUpdated\":\"2018-02-22T03:00:00.000Z\",\"parameters\":[\"co\",\"no2\",\"o3\",\"pm25\",\"so2\"],\"countsByMeasurement\":[{\"parameter\":\"co\",\"count\":22473},{\"parameter\":\"no2\",\"count\":24136},{\"parameter\":\"o3\",\"count\":8448},{\"parameter\":\"pm25\",\"count\":12266},{\"parameter\":\"so2\",\"count\":7637}],\"count\":74960},{\"id\":\"IN-58\",\"country\":\"IN\",\"city\":\"Bengaluru\",\"cities\":[\"Bengaluru\"],\"location\":\"City Railway Station, Bengaluru - KSPCB\",\"locations\":[\"City Railway Station, Bengaluru - KSPCB\"],\"sourceName\":\"caaqm\",\"sourceNames\":[\"data.gov.in\",\"caaqm\"],\"sourceType\":\"government\",\"sourceTypes\":[\"government\"],\"coordinates\":{\"longitude\":77.56608,\"latitude\":12.97568},\"firstUpdated\":\"2018-03-09T03:30:00.000Z\",\"lastUpdated\":\"2020-10-10T15:45:00.000Z\",\"parameters\":[\"co\",\"no2\",\"pm10\",\"so2\"],\"countsByMeasurement\":[{\"parameter\":\"co\",\"count\":21926},{\"parameter\":\"no2\",\"count\":21068},{\"parameter\":\"pm10\",\"count\":21904},{\"parameter\":\"so2\",\"count\":20829}],\"count\":85727},{\"id\":\"IN-21\",\"country\":\"IN\",\"city\":\"Bengaluru\",\"cities\":[\"Bengaluru\"],\"location\":\"City Railway Station - KSPCB\",\"locations\":[\"City Railway Station - KSPCB\"],\"sourceName\":\"CPCB\",\"sourceNames\":[\"CPCB\"],\"sourceType\":\"government\",\"sourceTypes\":[\"government\"],\"coordinates\":{\"longitude\":77.57069,\"latitude\":12.97735},\"firstUpdated\":\"2016-03-21T13:45:00.000Z\",\"lastUpdated\":\"2018-02-22T03:00:00.000Z\",\"parameters\":[\"co\",\"no2\",\"pm10\",\"so2\"],\"countsByMeasurement\":[{\"parameter\":\"co\",\"count\":22395},{\"parameter\":\"no2\",\"count\":21973},{\"parameter\":\"pm10\",\"count\":22621},{\"parameter\":\"so2\",\"count\":8032}],\"count\":75021},{\"id\":\"IN-167\",\"country\":\"IN\",\"city\":\"Bengaluru\",\"cities\":[\"Bengaluru\",\"Opp.: CBI Office\"],\"location\":\"Hebbal, Bengaluru - KSPCB\",\"locations\":[\"Hebbal, Bengaluru - KSPCB\"],\"sourceName\":\"caaqm\",\"sourceNames\":[\"caaqm\"],\"sourceType\":\"government\",\"sourceTypes\":[\"government\"],\"coordinates\":{\"longitude\":77.5859,\"latitude\":13.02915},\"firstUpdated\":\"2018-08-10T06:00:00.000Z\",\"lastUpdated\":\"2020-10-07T03:15:00.000Z\",\"parameters\":[\"co\",\"no2\",\"o3\",\"pm10\",\"pm25\",\"so2\"],\"countsByMeasurement\":[{\"parameter\":\"co\",\"count\":25410},{\"parameter\":\"no2\",\"count\":27257},{\"parameter\":\"o3\",\"count\":26250},{\"parameter\":\"pm10\",\"count\":27985},{\"parameter\":\"pm25\",\"count\":27758},{\"parameter\":\"so2\",\"count\":25594}],\"count\":160254},{\"id\":\"IN-181\",\"country\":\"IN\",\"city\":\"Bengaluru\",\"cities\":[\"Bengaluru\",\"Rajiv Gandhi Institute of Chest Diseases\"],\"location\":\"Hombegowda Nagar, Bengaluru - KSPCB\",\"locations\":[\"Hombegowda Nagar, Bengaluru - KSPCB\"],\"sourceName\":\"caaqm\",\"sourceNames\":[\"caaqm\"],\"sourceType\":\"government\",\"sourceTypes\":[\"government\"],\"coordinates\":{\"longitude\":77.5901,\"latitude\":12.93854},\"firstUpdated\":\"2018-08-10T06:00:00.000Z\",\"lastUpdated\":\"2020-10-07T03:15:00.000Z\",\"parameters\":[\"co\",\"no2\",\"o3\",\"pm10\",\"pm25\",\"so2\"],\"countsByMeasurement\":[{\"parameter\":\"co\",\"count\":25650},{\"parameter\":\"no2\",\"count\":26400},{\"parameter\":\"o3\",\"count\":26422},{\"parameter\":\"pm10\",\"count\":26824},{\"parameter\":\"pm25\",\"count\":26587},{\"parameter\":\"so2\",\"count\":25697}],\"count\":157580},{\"id\":\"IN-170\",\"country\":\"IN\",\"city\":\"Bengaluru\",\"cities\":[\"Bengaluru\",\"Shalini Playground 5th Block \"],\"location\":\"Jayanagar 5th Block, Bengaluru - KSPCB\",\"locations\":[\"Jayanagar 5th Block, Bengaluru - KSPCB\"],\"sourceName\":\"caaqm\",\"sourceNames\":[\"caaqm\"],\"sourceType\":\"government\",\"sourceTypes\":[\"government\"],\"coordinates\":{\"longitude\":77.58491,\"latitude\":12.92098},\"firstUpdated\":\"2018-08-10T06:00:00.000Z\",\"lastUpdated\":\"2020-10-07T03:00:00.000Z\",\"parameters\":[\"co\",\"no2\",\"o3\",\"pm10\",\"pm25\",\"so2\"],\"countsByMeasurement\":[{\"parameter\":\"co\",\"count\":21688},{\"parameter\":\"no2\",\"count\":25589},{\"parameter\":\"o3\",\"count\":25473},{\"parameter\":\"pm10\",\"count\":26166},{\"parameter\":\"pm25\",\"count\":25858},{\"parameter\":\"so2\",\"count\":18212}],\"count\":142986},{\"id\":\"IN-112\",\"country\":\"IN\",\"city\":\"Bengaluru\",\"cities\":[\"Bengaluru\"],\"location\":\"Peenya, Bengaluru - CPCB\",\"locations\":[\"Peenya, Bengaluru - CPCB\"],\"sourceName\":\"caaqm\",\"sourceNames\":[\"data.gov.in\",\"caaqm\"],\"sourceType\":\"government\",\"sourceTypes\":[\"government\"],\"coordinates\":{\"longitude\":77.49409,\"latitude\":13.02702},\"firstUpdated\":\"2018-03-09T05:30:00.000Z\",\"lastUpdated\":\"2020-10-12T01:15:00.000Z\",\"parameters\":[\"co\",\"no2\",\"pm25\",\"so2\"],\"countsByMeasurement\":[{\"parameter\":\"co\",\"count\":35795},{\"parameter\":\"no2\",\"count\":35747},{\"parameter\":\"pm25\",\"count\":35019},{\"parameter\":\"so2\",\"count\":35289}],\"count\":141850},{\"id\":\"IN-45\",\"country\":\"IN\",\"city\":\"Bengaluru\",\"cities\":[\"Bengaluru\"],\"location\":\"Peenya, Bengaluru - KSPCB\",\"locations\":[\"Peenya\",\"Peenya, Bengaluru - KSPCB\"],\"sourceName\":\"CPCB\",\"sourceNames\":[\"CPCB\"],\"sourceType\":\"government\",\"sourceTypes\":[\"government\"],\"coordinates\":{\"longitude\":77.51321,\"latitude\":13.0339},\"firstUpdated\":\"2016-03-22T03:15:00.000Z\",\"lastUpdated\":\"2018-02-22T02:45:00.000Z\",\"parameters\":[\"co\",\"no2\",\"pm25\",\"so2\"],\"countsByMeasurement\":[{\"parameter\":\"co\",\"count\":21111},{\"parameter\":\"no2\",\"count\":22348},{\"parameter\":\"pm25\",\"count\":10456},{\"parameter\":\"so2\",\"count\":6558}],\"count\":60473},{\"id\":\"IN-78\",\"country\":\"IN\",\"city\":\"Bengaluru\",\"cities\":[\"Bengaluru\"],\"location\":\"Sanegurava Halli, Bengaluru - KSPCB\",\"locations\":[\"Sanegurava Halli, Bengaluru - KSPCB\"],\"sourceName\":\"caaqm\",\"sourceNames\":[\"data.gov.in\",\"caaqm\"],\"sourceType\":\"government\",\"sourceTypes\":[\"government\"],\"coordinates\":{\"longitude\":77.54314,\"latitude\":12.99033},\"firstUpdated\":\"2018-03-09T05:30:00.000Z\",\"lastUpdated\":\"2020-10-09T11:30:00.000Z\",\"parameters\":[\"co\",\"no2\",\"pm10\",\"so2\"],\"countsByMeasurement\":[{\"parameter\":\"co\",\"count\":32607},{\"parameter\":\"no2\",\"count\":32321},{\"parameter\":\"pm10\",\"count\":31902},{\"parameter\":\"so2\",\"count\":32024}],\"count\":128854},{\"id\":\"IN-27\",\"country\":\"IN\",\"city\":\"Bengaluru\",\"cities\":[\"Bengaluru\"],\"location\":\"SaneguravaHalli - KSPCB\",\"locations\":[\"SaneguravaHalli - KSPCB\"],\"sourceName\":\"CPCB\",\"sourceNames\":[\"CPCB\"],\"sourceType\":\"government\",\"sourceTypes\":[\"government\"],\"coordinates\":{\"longitude\":77.54583,\"latitude\":12.99167},\"firstUpdated\":\"2016-03-21T18:30:00.000Z\",\"lastUpdated\":\"2018-02-21T23:45:00.000Z\",\"parameters\":[\"co\",\"no2\",\"pm10\",\"so2\"],\"countsByMeasurement\":[{\"parameter\":\"co\",\"count\":18689},{\"parameter\":\"no2\",\"count\":19026},{\"parameter\":\"pm10\",\"count\":18876},{\"parameter\":\"so2\",\"count\":4883}],\"count\":61474},{\"id\":\"IN-173\",\"country\":\"IN\",\"city\":\"Bengaluru\",\"cities\":[\"Bengaluru\",\"Silkboard Junction 323\"],\"location\":\"Silk Board, Bengaluru - KSPCB\",\"locations\":[\"Silk Board, Bengaluru - KSPCB\"],\"sourceName\":\"caaqm\",\"sourceNames\":[\"caaqm\"],\"sourceType\":\"government\",\"sourceTypes\":[\"government\"],\"coordinates\":{\"longitude\":77.62281,\"latitude\":12.91735},\"firstUpdated\":\"2018-08-10T06:00:00.000Z\",\"lastUpdated\":\"2020-10-07T03:15:00.000Z\",\"parameters\":[\"co\",\"no2\",\"o3\",\"pm10\",\"pm25\",\"so2\"],\"countsByMeasurement\":[{\"parameter\":\"co\",\"count\":22498},{\"parameter\":\"no2\",\"count\":24584},{\"parameter\":\"o3\",\"count\":23374},{\"parameter\":\"pm10\",\"count\":24978},{\"parameter\":\"pm25\",\"count\":24966},{\"parameter\":\"so2\",\"count\":20387}],\"count\":140787},{\"id\":\"IN-96\",\"country\":\"IN\",\"city\":\"Bhiwadi\",\"cities\":[\"Bhiwadi\",\"Phase-lll\"],\"location\":\"RIICO Ind. Area III, Bhiwadi - RSPCB\",\"locations\":[\"RIICO Ind. Area III, Bhiwadi, Rajasthan - RSPCB\",\"RIICO Ind. Area III, Bhiwadi - RSPCB\"],\"sourceName\":\"caaqm\",\"sourceNames\":[\"data.gov.in\",\"caaqm\"],\"sourceType\":\"government\",\"sourceTypes\":[\"government\"],\"coordinates\":{\"longitude\":76.8623,\"latitude\":28.19491},\"firstUpdated\":\"2018-03-09T05:30:00.000Z\",\"lastUpdated\":\"2020-10-12T01:15:00.000Z\",\"parameters\":[\"co\",\"no2\",\"o3\",\"pm10\",\"pm25\",\"so2\"],\"countsByMeasurement\":[{\"parameter\":\"co\",\"count\":34803},{\"parameter\":\"no2\",\"count\":34687},{\"parameter\":\"o3\",\"count\":34359},{\"parameter\":\"pm10\",\"count\":34787},{\"parameter\":\"pm25\",\"count\":34753},{\"parameter\":\"so2\",\"count\":34791}],\"count\":208180},{\"id\":\"IN-221\",\"country\":\"IN\",\"city\":\"Bhiwani\",\"cities\":[\"Bhiwani\",\"MINI  SECRETARIATE OFFICE  3RD FLOOR  DISTT. BHIWANI\"],\"location\":\"H.B. Colony, Bhiwani - HSPCB\",\"locations\":[\"H.B. Colony, Bhiwani - HSPCB\"],\"sourceName\":\"caaqm\",\"sourceNames\":[\"caaqm\"],\"sourceType\":\"government\",\"sourceTypes\":[\"government\"],\"coordinates\":{\"longitude\":76.14111,\"latitude\":28.80622},\"firstUpdated\":\"2019-02-12T01:45:00.000Z\",\"lastUpdated\":\"2020-10-09T09:00:00.000Z\",\"parameters\":[\"co\",\"no2\",\"o3\",\"pm10\",\"pm25\",\"so2\"],\"countsByMeasurement\":[{\"parameter\":\"co\",\"count\":20129},{\"parameter\":\"no2\",\"count\":20083},{\"parameter\":\"o3\",\"count\":20112},{\"parameter\":\"pm10\",\"count\":20118},{\"parameter\":\"pm25\",\"count\":20097},{\"parameter\":\"so2\",\"count\":20131}],\"count\":120670},{\"id\":\"IN-268\",\"country\":\"IN\",\"city\":\"Bhopal\",\"cities\":[\"Bhopal\"],\"location\":\"T T Nagar, Bhopal - MPPCB\",\"locations\":[\"T T Nagar, Bhopal - MPPCB\"],\"sourceName\":\"caaqm\",\"sourceNames\":[\"caaqm\"],\"sourceType\":\"government\",\"sourceTypes\":[\"government\"],\"coordinates\":{\"longitude\":77.40057,\"latitude\":23.23358},\"firstUpdated\":\"2019-09-23T09:15:00.000Z\",\"lastUpdated\":\"2020-10-11T23:00:00.000Z\",\"parameters\":[\"co\",\"no2\",\"o3\",\"pm10\",\"pm25\",\"so2\"],\"countsByMeasurement\":[{\"parameter\":\"co\",\"count\":13162},{\"parameter\":\"no2\",\"count\":14176},{\"parameter\":\"o3\",\"count\":14110},{\"parameter\":\"pm10\",\"count\":14291},{\"parameter\":\"pm25\",\"count\":14228},{\"parameter\":\"so2\",\"count\":13833}],\"count\":83800},{\"id\":\"IN-104\",\"country\":\"IN\",\"city\":\"Brajrajnagar\",\"cities\":[\"Brajrajnagar\",\"Mahanadi Coal fields  Limited\"],\"location\":\"GM Office, Brajrajnagar - OSPCB\",\"locations\":[\"GM Office, Brajrajnagar - OSPCB\"],\"sourceName\":\"caaqm\",\"sourceNames\":[\"data.gov.in\",\"caaqm\"],\"sourceType\":\"government\",\"sourceTypes\":[\"government\"],\"coordinates\":{\"longitude\":83.8397,\"latitude\":21.8005},\"firstUpdated\":\"2018-03-09T05:30:00.000Z\",\"lastUpdated\":\"2020-10-12T01:15:00.000Z\",\"parameters\":[\"co\",\"no2\",\"o3\",\"pm10\",\"pm25\",\"so2\"],\"countsByMeasurement\":[{\"parameter\":\"co\",\"count\":27706},{\"parameter\":\"no2\",\"count\":27435},{\"parameter\":\"o3\",\"count\":27360},{\"parameter\":\"pm10\",\"count\":27413},{\"parameter\":\"pm25\",\"count\":27705},{\"parameter\":\"so2\",\"count\":27435}],\"count\":165054},{\"id\":\"IN-182\",\"country\":\"IN\",\"city\":\"Bulandshahr\",\"cities\":[\"Bulandshahr\",\"F-5\"],\"location\":\"Yamunapuram, Bulandshahr - UPPCB\",\"locations\":[\"Yamunapuram, Bulandshahr - UPPCB\"],\"sourceName\":\"caaqm\",\"sourceNames\":[\"caaqm\"],\"sourceType\":\"government\",\"sourceTypes\":[\"government\"],\"coordinates\":{\"longitude\":77.84983,\"latitude\":28.40696},\"firstUpdated\":\"2018-08-10T06:00:00.000Z\",\"lastUpdated\":\"2020-10-07T18:30:00.000Z\",\"parameters\":[\"co\",\"no2\",\"o3\",\"pm10\",\"pm25\",\"so2\"],\"countsByMeasurement\":[{\"parameter\":\"co\",\"count\":24768},{\"parameter\":\"no2\",\"count\":27624},{\"parameter\":\"o3\",\"count\":27063},{\"parameter\":\"pm10\",\"count\":25065},{\"parameter\":\"pm25\",\"count\":28621},{\"parameter\":\"so2\",\"count\":23831}],\"count\":156972},{\"id\":\"IN-259\",\"country\":\"IN\",\"city\":\"Chamarajanagar\",\"cities\":[\"Chamarajanagar\"],\"location\":\"Urban, Chamarajanagar - KSPCB\",\"locations\":[\"Urban, Chamarajanagar - KSPCB\"],\"sourceName\":\"caaqm\",\"sourceNames\":[\"caaqm\"],\"sourceType\":\"government\",\"sourceTypes\":[\"government\"],\"coordinates\":{\"longitude\":76.93114,\"latitude\":11.92661},\"firstUpdated\":\"2019-07-25T17:30:00.000Z\",\"lastUpdated\":\"2020-01-03T09:45:00.000Z\",\"parameters\":[\"co\",\"no2\",\"o3\",\"pm10\",\"pm25\",\"so2\"],\"countsByMeasurement\":[{\"parameter\":\"co\",\"count\":354},{\"parameter\":\"no2\",\"count\":354},{\"parameter\":\"o3\",\"count\":354},{\"parameter\":\"pm10\",\"count\":354},{\"parameter\":\"pm25\",\"count\":354},{\"parameter\":\"so2\",\"count\":354}],\"count\":2124},{\"id\":\"IN-283\",\"country\":\"IN\",\"city\":\"Chamarajanagar\",\"cities\":[\"Chamarajanagar\"],\"location\":\"Urban, Chamarajanagar - KSPCB\",\"locations\":[\"Urban, Chamarajanagar - KSPCB\"],\"sourceName\":\"caaqm\",\"sourceNames\":[\"caaqm\"],\"sourceType\":\"government\",\"sourceTypes\":[\"government\"],\"coordinates\":{\"longitude\":76.55521,\"latitude\":11.55358},\"firstUpdated\":\"2020-01-03T11:15:00.000Z\",\"lastUpdated\":\"2020-10-09T08:00:00.000Z\",\"parameters\":[\"co\",\"no2\",\"o3\",\"pm10\",\"pm25\",\"so2\"],\"countsByMeasurement\":[{\"parameter\":\"co\",\"count\":2766},{\"parameter\":\"no2\",\"count\":2765},{\"parameter\":\"o3\",\"count\":2765},{\"parameter\":\"pm10\",\"count\":2766},{\"parameter\":\"pm25\",\"count\":2766},{\"parameter\":\"so2\",\"count\":2765}],\"count\":16593},{\"id\":\"IN-264\",\"country\":\"IN\",\"city\":\"Chandigarh\",\"cities\":[\"Chandigarh\"],\"location\":\"Sector-25, Chandigarh - CPCC\",\"locations\":[\"Sector-25, Chandigarh - CPCC\"],\"sourceName\":\"caaqm\",\"sourceNames\":[\"caaqm\"],\"sourceType\":\"government\",\"sourceTypes\":[\"government\"],\"coordinates\":{\"longitude\":76.76288,\"latitude\":30.75146},\"firstUpdated\":\"2019-09-17T05:45:00.000Z\",\"lastUpdated\":\"2020-10-11T23:00:00.000Z\",\"parameters\":[\"co\",\"no2\",\"o3\",\"pm10\",\"pm25\",\"so2\"],\"countsByMeasurement\":[{\"parameter\":\"co\",\"count\":15495},{\"parameter\":\"no2\",\"count\":15488},{\"parameter\":\"o3\",\"count\":15504},{\"parameter\":\"pm10\",\"count\":15495},{\"parameter\":\"pm25\",\"count\":15497},{\"parameter\":\"so2\",\"count\":15496}],\"count\":92975},{\"id\":\"IN-36\",\"country\":\"IN\",\"city\":\"Chandrapur\",\"cities\":[\"Chandrapur\"],\"location\":\"Chandrapur\",\"locations\":[\"Chandrapur\"],\"sourceName\":\"CPCB\",\"sourceNames\":[\"CPCB\"],\"sourceType\":\"government\",\"sourceTypes\":[\"government\"],\"coordinates\":{\"longitude\":79.3,\"latitude\":19.95},\"firstUpdated\":\"2016-03-22T00:25:00.000Z\",\"lastUpdated\":\"2018-02-22T04:00:00.000Z\",\"parameters\":[\"co\",\"no2\",\"o3\",\"pm10\",\"pm25\",\"so2\"],\"countsByMeasurement\":[{\"parameter\":\"co\",\"count\":27746},{\"parameter\":\"no2\",\"count\":27768},{\"parameter\":\"o3\",\"count\":27773},{\"parameter\":\"pm10\",\"count\":27311},{\"parameter\":\"pm25\",\"count\":25455},{\"parameter\":\"so2\",\"count\":27772}],\"count\":163825},{\"id\":\"IN-102\",\"country\":\"IN\",\"city\":\"Chandrapur\",\"cities\":[\"Chandrapur\"],\"location\":\"Chandrapur, Chandrapur - MPCB\",\"locations\":[\"Chandrapur, Chandrapur - MPCB\"],\"sourceName\":\"caaqm\",\"sourceNames\":[\"data.gov.in\",\"caaqm\"],\"sourceType\":\"government\",\"sourceTypes\":[\"government\"],\"coordinates\":{\"longitude\":77.63452,\"latitude\":19.64532},\"firstUpdated\":\"2018-03-09T05:30:00.000Z\",\"lastUpdated\":\"2020-10-12T01:15:00.000Z\",\"parameters\":[\"co\",\"no2\",\"o3\",\"pm10\",\"pm25\",\"so2\"],\"countsByMeasurement\":[{\"parameter\":\"co\",\"count\":32040},{\"parameter\":\"no2\",\"count\":32042},{\"parameter\":\"o3\",\"count\":32016},{\"parameter\":\"pm10\",\"count\":30170},{\"parameter\":\"pm25\",\"count\":30465},{\"parameter\":\"so2\",\"count\":32039}],\"count\":188772},{\"id\":\"IN-85\",\"country\":\"IN\",\"city\":\"Chandrapur\",\"cities\":[\"Chandrapur\",\"nKhutala\"],\"location\":\"MIDC Khutala, Chandrapur - MPCB\",\"locations\":[\"MIDC Khutala, Chandrapur - MPCB\"],\"sourceName\":\"caaqm\",\"sourceNames\":[\"data.gov.in\",\"caaqm\"],\"sourceType\":\"government\",\"sourceTypes\":[\"government\"],\"coordinates\":{\"longitude\":79.23371,\"latitude\":19.97753},\"firstUpdated\":\"2018-03-09T05:30:00.000Z\",\"lastUpdated\":\"2020-10-12T01:15:00.000Z\",\"parameters\":[\"co\",\"no2\",\"o3\",\"pm10\",\"pm25\",\"so2\"],\"countsByMeasurement\":[{\"parameter\":\"co\",\"count\":30739},{\"parameter\":\"no2\",\"count\":27625},{\"parameter\":\"o3\",\"count\":29153},{\"parameter\":\"pm10\",\"count\":29845},{\"parameter\":\"pm25\",\"count\":28640},{\"parameter\":\"so2\",\"count\":30770}],\"count\":176772},{\"id\":\"IN-317\",\"country\":\"IN\",\"city\":\"Charkhi Dadri\",\"cities\":[\"Charkhi Dadri\"],\"location\":\"Mini Secretariat, Charkhi Dadri - HSPCB\",\"locations\":[\"Mini Secretariat, Charkhi Dadri - HSPCB\"],\"sourceName\":\"caaqm\",\"sourceNames\":[\"caaqm\"],\"sourceType\":\"government\",\"sourceTypes\":[\"government\"],\"coordinates\":{\"longitude\":76.27065,\"latitude\":28.59388},\"firstUpdated\":\"2020-04-23T07:45:00.000Z\",\"lastUpdated\":\"2020-10-12T00:30:00.000Z\",\"parameters\":[\"co\",\"no2\",\"o3\",\"pm10\",\"pm25\",\"so2\"],\"countsByMeasurement\":[{\"parameter\":\"co\",\"count\":2450},{\"parameter\":\"no2\",\"count\":2450},{\"parameter\":\"o3\",\"count\":2448},{\"parameter\":\"pm10\",\"count\":2443},{\"parameter\":\"pm25\",\"count\":2450},{\"parameter\":\"so2\",\"count\":2450}],\"count\":14691},{\"id\":\"IN-44\",\"country\":\"IN\",\"city\":\"Chennai\",\"cities\":[\"Chennai\"],\"location\":\"Alandur Bus Depot\",\"locations\":[\"Alandur Bus Depot\"],\"sourceName\":\"CPCB\",\"sourceNames\":[\"CPCB\"],\"sourceType\":\"government\",\"sourceTypes\":[\"government\"],\"coordinates\":{\"longitude\":80.19151,\"latitude\":12.99711},\"firstUpdated\":\"2016-03-22T00:45:00.000Z\",\"lastUpdated\":\"2018-02-22T03:45:00.000Z\",\"parameters\":[\"co\",\"no2\",\"o3\",\"pm25\",\"so2\"],\"countsByMeasurement\":[{\"parameter\":\"co\",\"count\":104},{\"parameter\":\"no2\",\"count\":25860},{\"parameter\":\"o3\",\"count\":26208},{\"parameter\":\"pm25\",\"count\":13224},{\"parameter\":\"so2\",\"count\":7301}],\"count\":72697},{\"id\":\"IN-135\",\"country\":\"IN\",\"city\":\"Chennai\",\"cities\":[\"Chennai\",\"MKN Rd\"],\"location\":\"Alandur Bus Depot, Chennai - CPCB\",\"locations\":[\"Alandur Bus Depot, Chennai - CPCB\"],\"sourceName\":\"caaqm\",\"sourceNames\":[\"data.gov.in\",\"caaqm\"],\"sourceType\":\"government\",\"sourceTypes\":[\"government\"],\"coordinates\":{\"longitude\":80.10765,\"latitude\":12.90992},\"firstUpdated\":\"2018-03-09T05:30:00.000Z\",\"lastUpdated\":\"2020-10-12T01:30:00.000Z\",\"parameters\":[\"co\",\"no2\",\"o3\",\"pm25\",\"so2\"],\"countsByMeasurement\":[{\"parameter\":\"co\",\"count\":35751},{\"parameter\":\"no2\",\"count\":35703},{\"parameter\":\"o3\",\"count\":35393},{\"parameter\":\"pm25\",\"count\":35510},{\"parameter\":\"so2\",\"count\":35467}],\"count\":177824},{\"id\":\"IN-42\",\"country\":\"IN\",\"city\":\"Chennai\",\"cities\":[\"Chennai\"],\"location\":\"IIT\",\"locations\":[\"IIT\"],\"sourceName\":\"CPCB\",\"sourceNames\":[\"CPCB\"],\"sourceType\":\"government\",\"sourceTypes\":[\"government\"],\"coordinates\":{\"longitude\":80.23745,\"latitude\":12.99251},\"firstUpdated\":\"2016-03-22T00:45:00.000Z\",\"lastUpdated\":\"2018-02-22T03:45:00.000Z\",\"parameters\":[\"co\",\"no2\",\"o3\",\"pm25\",\"so2\"],\"countsByMeasurement\":[{\"parameter\":\"co\",\"count\":31550},{\"parameter\":\"no2\",\"count\":31419},{\"parameter\":\"o3\",\"count\":29069},{\"parameter\":\"pm25\",\"count\":16204},{\"parameter\":\"so2\",\"count\":9656}],\"count\":117898},{\"id\":\"IN-20\",\"country\":\"IN\",\"city\":\"Chennai\",\"cities\":[\"Chennai\"],\"location\":\"Manali, Chennai - CPCB\",\"locations\":[\"Manali\",\"Manali, Chennai - CPCB\"],\"sourceName\":\"caaqm\",\"sourceNames\":[\"CPCB\",\"data.gov.in\",\"caaqm\"],\"sourceType\":\"government\",\"sourceTypes\":[\"government\"],\"coordinates\":{\"longitude\":80.26285,\"latitude\":13.16454},\"firstUpdated\":\"2016-03-21T10:00:00.000Z\",\"lastUpdated\":\"2020-10-12T01:15:00.000Z\",\"parameters\":[\"co\",\"no2\",\"pm25\",\"so2\"],\"countsByMeasurement\":[{\"parameter\":\"co\",\"count\":64122},{\"parameter\":\"no2\",\"count\":64684},{\"parameter\":\"pm25\",\"count\":52199},{\"parameter\":\"so2\",\"count\":43604}],\"count\":224609},{\"id\":\"IN-239\",\"country\":\"IN\",\"city\":\"Chennai\",\"cities\":[\"Government School\",\"Chennai\"],\"location\":\"Manali Village, Chennai - TNPCB\",\"locations\":[\"Manali Village, Chennai - TNPCB\"],\"sourceName\":\"caaqm\",\"sourceNames\":[\"caaqm\"],\"sourceType\":\"government\",\"sourceTypes\":[\"government\"],\"coordinates\":{\"longitude\":77.55243,\"latitude\":11.25824},\"firstUpdated\":\"2019-06-18T23:00:00.000Z\",\"lastUpdated\":\"2019-07-19T05:15:00.000Z\",\"parameters\":[\"co\",\"no2\",\"o3\",\"pm10\",\"pm25\",\"so2\"],\"countsByMeasurement\":[{\"parameter\":\"co\",\"count\":184},{\"parameter\":\"no2\",\"count\":184},{\"parameter\":\"o3\",\"count\":158},{\"parameter\":\"pm10\",\"count\":164},{\"parameter\":\"pm25\",\"count\":165},{\"parameter\":\"so2\",\"count\":184}],\"count\":1039},{\"id\":\"IN-258\",\"country\":\"IN\",\"city\":\"Chennai\",\"cities\":[\"Chennai\"],\"location\":\"Manali Village, Chennai - TNPCB\",\"locations\":[\"Manali Village, Chennai - TNPCB\"],\"sourceName\":\"caaqm\",\"sourceNames\":[\"caaqm\"],\"sourceType\":\"government\",\"sourceTypes\":[\"government\"],\"coordinates\":{\"longitude\":80.2584,\"latitude\":13.1662},\"firstUpdated\":\"2019-07-19T06:00:00.000Z\",\"lastUpdated\":\"2020-10-11T23:00:00.000Z\",\"parameters\":[\"co\",\"no2\",\"o3\",\"pm10\",\"pm25\",\"so2\"],\"countsByMeasurement\":[{\"parameter\":\"co\",\"count\":16768},{\"parameter\":\"no2\",\"count\":16767},{\"parameter\":\"o3\",\"count\":16767},{\"parameter\":\"pm10\",\"count\":16760},{\"parameter\":\"pm25\",\"count\":16753},{\"parameter\":\"so2\",\"count\":16767}],\"count\":100582},{\"id\":\"IN-12\",\"country\":\"IN\",\"city\":\"Chennai\",\"cities\":[\"Chennai\"],\"location\":\"US Diplomatic Post: Chennai\",\"locations\":[\"US Diplomatic Post: Chennai\"],\"sourceName\":\"StateAir_Chennai\",\"sourceNames\":[\"StateAir_Chennai\"],\"sourceType\":\"government\",\"sourceTypes\":[\"government\"],\"coordinates\":{\"longitude\":80.25193,\"latitude\":13.05237},\"firstUpdated\":\"2015-12-11T21:30:00.000Z\",\"lastUpdated\":\"2016-11-09T16:30:00.000Z\",\"parameters\":[\"pm25\"],\"countsByMeasurement\":[{\"parameter\":\"pm25\",\"count\":7835}],\"count\":7835},{\"id\":\"IN-90\",\"country\":\"IN\",\"city\":\"Chennai\",\"cities\":[\"Chennai\",\"Sardar Patel Road\"],\"location\":\"Velachery Res. Area, Chennai - CPCB\",\"locations\":[\"IIT, Chennai - CPCB\",\"Velachery Res. Area, Chennai - CPCB\"],\"sourceName\":\"caaqm\",\"sourceNames\":[\"data.gov.in\",\"caaqm\"],\"sourceType\":\"government\",\"sourceTypes\":[\"government\"],\"coordinates\":{\"longitude\":80.23981,\"latitude\":13.00522},\"firstUpdated\":\"2018-03-09T05:30:00.000Z\",\"lastUpdated\":\"2020-10-12T01:15:00.000Z\",\"parameters\":[\"co\",\"no2\",\"o3\",\"pm25\",\"so2\"],\"countsByMeasurement\":[{\"parameter\":\"co\",\"count\":30785},{\"parameter\":\"no2\",\"count\":30745},{\"parameter\":\"o3\",\"count\":30660},{\"parameter\":\"pm25\",\"count\":30268},{\"parameter\":\"so2\",\"count\":30792}],\"count\":153250},{\"id\":\"IN-168\",\"country\":\"IN\",\"city\":\"Chikkaballapur\",\"cities\":[\"Chikkaballapur\",\"Government PU college \"],\"location\":\"Chikkaballapur Rural, Chikkaballapur - KSPCB\",\"locations\":[\"Chikkaballapur Rural, Chikkaballapur - KSPCB\"],\"sourceName\":\"caaqm\",\"sourceNames\":[\"caaqm\"],\"sourceType\":\"government\",\"sourceTypes\":[\"government\"],\"coordinates\":{\"longitude\":77.73141,\"latitude\":13.42883},\"firstUpdated\":\"2018-08-10T06:00:00.000Z\",\"lastUpdated\":\"2020-10-07T17:30:00.000Z\",\"parameters\":[\"co\",\"no2\",\"o3\",\"pm10\",\"pm25\",\"so2\"],\"countsByMeasurement\":[{\"parameter\":\"co\",\"count\":23510},{\"parameter\":\"no2\",\"count\":25240},{\"parameter\":\"o3\",\"count\":25161},{\"parameter\":\"pm10\",\"count\":25844},{\"parameter\":\"pm25\",\"count\":25642},{\"parameter\":\"so2\",\"count\":24849}],\"count\":150246},{\"id\":\"IN-296\",\"country\":\"IN\",\"city\":\"Chikkamagaluru\",\"cities\":[\"Chikkamagaluru\"],\"location\":\"Kalyana Nagara, Chikkamagaluru - KSPCB\",\"locations\":[\"Kalyana Nagara, Chikkamagaluru - KSPCB\"],\"sourceName\":\"caaqm\",\"sourceNames\":[\"caaqm\"],\"sourceType\":\"government\",\"sourceTypes\":[\"government\"],\"coordinates\":{\"longitude\":75.79706,\"latitude\":13.32803},\"firstUpdated\":\"2020-02-03T08:45:00.000Z\",\"lastUpdated\":\"2020-10-11T23:00:00.000Z\",\"parameters\":[\"co\",\"no2\",\"o3\",\"pm10\",\"pm25\",\"so2\"],\"countsByMeasurement\":[{\"parameter\":\"co\",\"count\":6225},{\"parameter\":\"no2\",\"count\":6225},{\"parameter\":\"o3\",\"count\":6228},{\"parameter\":\"pm10\",\"count\":6228},{\"parameter\":\"pm25\",\"count\":6218},{\"parameter\":\"so2\",\"count\":6225}],\"count\":37349},{\"id\":\"IN-257\",\"country\":\"IN\",\"city\":\"Coimbatore\",\"cities\":[\"Coimbatore\"],\"location\":\"SIDCO Kurichi, Coimbatore - TNPCB\",\"locations\":[\"SIDCO Kurichi, Coimbatore - TNPCB\"],\"sourceName\":\"caaqm\",\"sourceNames\":[\"caaqm\"],\"sourceType\":\"government\",\"sourceTypes\":[\"government\"],\"coordinates\":{\"longitude\":76.979,\"latitude\":10.94245},\"firstUpdated\":\"2019-07-11T11:15:00.000Z\",\"lastUpdated\":\"2020-10-11T22:45:00.000Z\",\"parameters\":[\"co\",\"no2\",\"o3\",\"pm10\",\"pm25\",\"so2\"],\"countsByMeasurement\":[{\"parameter\":\"co\",\"count\":17854},{\"parameter\":\"no2\",\"count\":17854},{\"parameter\":\"o3\",\"count\":17854},{\"parameter\":\"pm10\",\"count\":17706},{\"parameter\":\"pm25\",\"count\":17604},{\"parameter\":\"so2\",\"count\":17854}],\"count\":106726},{\"id\":\"IN-228\",\"country\":\"IN\",\"city\":\"Damoh\",\"cities\":[\"Damoh\",\"Collectorate Campus\"],\"location\":\"Shrivastav Colony, Damoh - MPPCB\",\"locations\":[\"Shrivastav Colony, Damoh - MPPCB\"],\"sourceName\":\"caaqm\",\"sourceNames\":[\"caaqm\"],\"sourceType\":\"government\",\"sourceTypes\":[\"government\"],\"coordinates\":{\"longitude\":79.44624,\"latitude\":23.81749},\"firstUpdated\":\"2019-02-12T02:00:00.000Z\",\"lastUpdated\":\"2020-10-09T09:45:00.000Z\",\"parameters\":[\"co\",\"no2\",\"pm10\",\"pm25\"],\"countsByMeasurement\":[{\"parameter\":\"co\",\"count\":19662},{\"parameter\":\"no2\",\"count\":15507},{\"parameter\":\"pm10\",\"count\":18536},{\"parameter\":\"pm25\",\"count\":18701}],\"count\":72406},{\"id\":\"IN-201\",\"country\":\"IN\",\"city\":\"Delhi\",\"cities\":[\"Delhi\",\"Mahatma Gandhi Insititute for Combating Climate Change\"],\"location\":\"Alipur, Delhi - DPCC\",\"locations\":[\"Alipur, Delhi - DPCC\"],\"sourceName\":\"caaqm\",\"sourceNames\":[\"caaqm\"],\"sourceType\":\"government\",\"sourceTypes\":[\"government\"],\"coordinates\":{\"longitude\":77.15301,\"latitude\":28.81533},\"firstUpdated\":\"2018-12-14T01:30:00.000Z\",\"lastUpdated\":\"2020-10-07T02:30:00.000Z\",\"parameters\":[\"co\",\"no2\",\"o3\",\"pm10\",\"pm25\",\"so2\"],\"countsByMeasurement\":[{\"parameter\":\"co\",\"count\":19504},{\"parameter\":\"no2\",\"count\":20888},{\"parameter\":\"o3\",\"count\":20212},{\"parameter\":\"pm10\",\"count\":21157},{\"parameter\":\"pm25\",\"count\":20981},{\"parameter\":\"so2\",\"count\":20195}],\"count\":122937},{\"id\":\"IN-191\",\"country\":\"IN\",\"city\":\"Delhi\",\"cities\":[\"Delhi\"],\"location\":\"Anand Vihar, Delhi - DPCC\",\"locations\":[\"Anand Vihar, Delhi - DPCC\"],\"sourceName\":\"caaqm\",\"sourceNames\":[\"caaqm\"],\"sourceType\":\"government\",\"sourceTypes\":[\"government\"],\"coordinates\":{\"longitude\":77.31603,\"latitude\":28.64684},\"firstUpdated\":\"2018-08-13T11:00:00.000Z\",\"lastUpdated\":\"2020-10-12T01:00:00.000Z\",\"parameters\":[\"co\",\"no2\",\"o3\",\"pm10\",\"pm25\",\"so2\"],\"countsByMeasurement\":[{\"parameter\":\"co\",\"count\":24614},{\"parameter\":\"no2\",\"count\":26145},{\"parameter\":\"o3\",\"count\":25883},{\"parameter\":\"pm10\",\"count\":27450},{\"parameter\":\"pm25\",\"count\":27308},{\"parameter\":\"so2\",\"count\":26010}],\"count\":157410},{\"id\":\"IN-6\",\"country\":\"IN\",\"city\":\"Delhi\",\"cities\":[\"Delhi\"],\"location\":\"Anand Vihar, Delhi - DPCC\",\"locations\":[\"Anand Vihar\",\"Anand Vihar, Delhi - DPCC\"],\"sourceName\":\"CPCB\",\"sourceNames\":[\"Anand Vihar\",\"CPCB\"],\"sourceType\":\"government\",\"sourceTypes\":[\"government\"],\"coordinates\":{\"longitude\":77.3152,\"latitude\":28.6508},\"firstUpdated\":\"2015-06-29T14:30:00.000Z\",\"lastUpdated\":\"2018-02-21T21:15:00.000Z\",\"parameters\":[\"co\",\"no2\",\"o3\",\"pm10\",\"pm25\",\"so2\"],\"countsByMeasurement\":[{\"parameter\":\"co\",\"count\":2556},{\"parameter\":\"no2\",\"count\":24797},{\"parameter\":\"o3\",\"count\":24273},{\"parameter\":\"pm10\",\"count\":24027},{\"parameter\":\"pm25\",\"count\":25635},{\"parameter\":\"so2\",\"count\":9653}],\"count\":110941},{\"id\":\"IN-60\",\"country\":\"IN\",\"city\":\"Delhi\",\"cities\":[\"Delhi\"],\"location\":\"Anand Vihar, Delhi - DPCC\",\"locations\":[\"Anand Vihar, New Delhi - DPCC\",\"Anand Vihar, Delhi - DPCC\"],\"sourceName\":\"caaqm\",\"sourceNames\":[\"data.gov.in\",\"caaqm\"],\"sourceType\":\"government\",\"sourceTypes\":[\"government\"],\"coordinates\":{\"longitude\":77.29779,\"latitude\":28.65274},\"firstUpdated\":\"2018-03-09T03:30:00.000Z\",\"lastUpdated\":\"2018-05-10T09:15:00.000Z\",\"parameters\":[\"co\",\"no2\",\"o3\",\"pm10\",\"pm25\",\"so2\"],\"countsByMeasurement\":[{\"parameter\":\"co\",\"count\":47},{\"parameter\":\"no2\",\"count\":44},{\"parameter\":\"o3\",\"count\":47},{\"parameter\":\"pm10\",\"count\":31},{\"parameter\":\"pm25\",\"count\":30},{\"parameter\":\"so2\",\"count\":45}],\"count\":244},{\"id\":\"IN-200\",\"country\":\"IN\",\"city\":\"Delhi\",\"cities\":[\"Delhi\"],\"location\":\"Ashok Vihar, Delhi - DPCC\",\"locations\":[\"Ashok Vihar, Delhi - DPCC\"],\"sourceName\":\"caaqm\",\"sourceNames\":[\"caaqm\"],\"sourceType\":\"government\",\"sourceTypes\":[\"government\"],\"coordinates\":{\"longitude\":77.18166,\"latitude\":28.69538},\"firstUpdated\":\"2018-12-14T01:30:00.000Z\",\"lastUpdated\":\"2020-10-10T13:15:00.000Z\",\"parameters\":[\"co\",\"no2\",\"o3\",\"pm10\",\"pm25\",\"so2\"],\"countsByMeasurement\":[{\"parameter\":\"co\",\"count\":23678},{\"parameter\":\"no2\",\"count\":25343},{\"parameter\":\"o3\",\"count\":24164},{\"parameter\":\"pm10\",\"count\":25703},{\"parameter\":\"pm25\",\"count\":25704},{\"parameter\":\"so2\",\"count\":23733}],\"count\":148325},{\"id\":\"IN-154\",\"country\":\"IN\",\"city\":\"Delhi\",\"cities\":[\"Delhi\"],\"location\":\"Ashok Vihar, Delhi - DPCC\",\"locations\":[\"Ashok Vihar, Delhi - DPCC\"],\"sourceName\":\"caaqm\",\"sourceNames\":[\"caaqm\"],\"sourceType\":\"government\",\"sourceTypes\":[\"government\"],\"coordinates\":{\"longitude\":77.1813,\"latitude\":28.69572},\"firstUpdated\":\"2018-04-16T14:30:00.000Z\",\"lastUpdated\":\"2018-05-12T06:00:00.000Z\",\"parameters\":[\"co\",\"no2\",\"o3\",\"pm10\",\"pm25\",\"so2\"],\"countsByMeasurement\":[{\"parameter\":\"co\",\"count\":8},{\"parameter\":\"no2\",\"count\":8},{\"parameter\":\"o3\",\"count\":8},{\"parameter\":\"pm10\",\"count\":32},{\"parameter\":\"pm25\",\"count\":24},{\"parameter\":\"so2\",\"count\":8}],\"count\":88},{\"id\":\"IN-71\",\"country\":\"IN\",\"city\":\"Delhi\",\"cities\":[\"Delhi\"],\"location\":\"Aya Nagar, Delhi - IMD\",\"locations\":[\"Aya Nagar, New Delhi - IMD\",\"Aya Nagar, Delhi - IMD\"],\"sourceName\":\"caaqm\",\"sourceNames\":[\"data.gov.in\",\"caaqm\"],\"sourceType\":\"government\",\"sourceTypes\":[\"government\"],\"coordinates\":{\"longitude\":77.10994,\"latitude\":28.47069},\"firstUpdated\":\"2018-03-09T05:30:00.000Z\",\"lastUpdated\":\"2020-10-12T01:30:00.000Z\",\"parameters\":[\"co\",\"no2\",\"o3\",\"pm10\",\"pm25\"],\"countsByMeasurement\":[{\"parameter\":\"co\",\"count\":29446},{\"parameter\":\"no2\",\"count\":29302},{\"parameter\":\"o3\",\"count\":29456},{\"parameter\":\"pm10\",\"count\":28662},{\"parameter\":\"pm25\",\"count\":29236}],\"count\":146102},{\"id\":\"IN-184\",\"country\":\"IN\",\"city\":\"Delhi\",\"cities\":[\"Delhi\"],\"location\":\"Bawana, Delhi - DPCC\",\"locations\":[\"Bawana, Delhi - DPCC\"],\"sourceName\":\"caaqm\",\"sourceNames\":[\"caaqm\"],\"sourceType\":\"government\",\"sourceTypes\":[\"government\"],\"coordinates\":{\"longitude\":77.05107,\"latitude\":28.7762},\"firstUpdated\":\"2018-08-10T06:15:00.000Z\",\"lastUpdated\":\"2020-10-07T03:00:00.000Z\",\"parameters\":[\"co\",\"no2\",\"o3\",\"pm10\",\"pm25\"],\"countsByMeasurement\":[{\"parameter\":\"co\",\"count\":23995},{\"parameter\":\"no2\",\"count\":25108},{\"parameter\":\"o3\",\"count\":24570},{\"parameter\":\"pm10\",\"count\":24622},{\"parameter\":\"pm25\",\"count\":26277}],\"count\":124572},{\"id\":\"IN-133\",\"country\":\"IN\",\"city\":\"Delhi\",\"cities\":[\"Delhi\"],\"location\":\"Burari Crossing, Delhi - IMD\",\"locations\":[\"Burari Crossing, New Delhi - IMD\",\"Burari Crossing, Delhi - IMD\"],\"sourceName\":\"caaqm\",\"sourceNames\":[\"data.gov.in\",\"caaqm\"],\"sourceType\":\"government\",\"sourceTypes\":[\"government\"],\"coordinates\":{\"longitude\":77.20116,\"latitude\":28.72565},\"firstUpdated\":\"2018-03-09T05:30:00.000Z\",\"lastUpdated\":\"2019-12-12T23:45:00.000Z\",\"parameters\":[\"co\",\"no2\",\"o3\",\"pm10\",\"pm25\"],\"countsByMeasurement\":[{\"parameter\":\"co\",\"count\":15498},{\"parameter\":\"no2\",\"count\":15486},{\"parameter\":\"o3\",\"count\":15451},{\"parameter\":\"pm10\",\"count\":15313},{\"parameter\":\"pm25\",\"count\":12957}],\"count\":74705},{\"id\":\"IN-8\",\"country\":\"IN\",\"city\":\"Delhi\",\"cities\":[\"Delhi\"],\"location\":\"Civil Lines\",\"locations\":[\"Civil Lines\"],\"sourceName\":\"CPCB\",\"sourceNames\":[\"CPCB\"],\"sourceType\":\"government\",\"sourceTypes\":[\"government\"],\"coordinates\":{\"longitude\":77.2262,\"latitude\":28.6787},\"firstUpdated\":\"2015-07-10T08:15:00.000Z\",\"lastUpdated\":\"2015-07-10T08:15:00.000Z\",\"parameters\":[\"co\",\"no2\",\"pm10\",\"pm25\"],\"countsByMeasurement\":[{\"parameter\":\"co\",\"count\":1},{\"parameter\":\"no2\",\"count\":1},{\"parameter\":\"pm10\",\"count\":1},{\"parameter\":\"pm25\",\"count\":1}],\"count\":4},{\"id\":\"IN-67\",\"country\":\"IN\",\"city\":\"Delhi\",\"cities\":[\"Delhi\"],\"location\":\"CRRI Mathura Road, Delhi - IMD\",\"locations\":[\"CRRI Mathura Road, New Delhi - IMD\",\"CRRI Mathura Road, Delhi - IMD\"],\"sourceName\":\"caaqm\",\"sourceNames\":[\"data.gov.in\",\"caaqm\"],\"sourceType\":\"government\",\"sourceTypes\":[\"government\"],\"coordinates\":{\"longitude\":77.27357,\"latitude\":28.5512},\"firstUpdated\":\"2018-03-09T05:30:00.000Z\",\"lastUpdated\":\"2020-10-12T01:30:00.000Z\",\"parameters\":[\"co\",\"no2\",\"o3\",\"pm10\",\"pm25\"],\"countsByMeasurement\":[{\"parameter\":\"co\",\"count\":36332},{\"parameter\":\"no2\",\"count\":36303},{\"parameter\":\"o3\",\"count\":36332},{\"parameter\":\"pm10\",\"count\":36297},{\"parameter\":\"pm25\",\"count\":36244}],\"count\":181508},{\"id\":\"IN-2\",\"country\":\"IN\",\"city\":\"Delhi\",\"cities\":[\"Delhi\"],\"location\":\"Delhi Technological University, Delhi - CPCB\",\"locations\":[\"Delhi College Of Engineering\",\"Delhi Technological University\",\"Delhi Technological University, Delhi - CPCB\"],\"sourceName\":\"CPCB\",\"sourceNames\":[\"CPCB\"],\"sourceType\":\"government\",\"sourceTypes\":[\"government\"],\"coordinates\":{\"longitude\":77.12,\"latitude\":28.744},\"firstUpdated\":\"2015-04-09T06:00:00.000Z\",\"lastUpdated\":\"2018-02-22T04:00:00.000Z\",\"parameters\":[\"no2\",\"o3\",\"pm25\"],\"countsByMeasurement\":[{\"parameter\":\"no2\",\"count\":22808},{\"parameter\":\"o3\",\"count\":1},{\"parameter\":\"pm25\",\"count\":23112}],\"count\":45921},{\"id\":\"IN-187\",\"country\":\"IN\",\"city\":\"Delhi\",\"cities\":[\"Delhi\",\"nSuraj Kund Road\"],\"location\":\"Dr. Karni Singh Shooting Range, Delhi - DPCC\",\"locations\":[\"Dr. Karni Singh Shooting Range, Delhi - DPCC\"],\"sourceName\":\"caaqm\",\"sourceNames\":[\"caaqm\"],\"sourceType\":\"government\",\"sourceTypes\":[\"government\"],\"coordinates\":{\"longitude\":77.26484,\"latitude\":28.49857},\"firstUpdated\":\"2018-08-10T06:30:00.000Z\",\"lastUpdated\":\"2020-10-10T21:15:00.000Z\",\"parameters\":[\"co\",\"no2\",\"o3\",\"pm10\",\"pm25\",\"so2\"],\"countsByMeasurement\":[{\"parameter\":\"co\",\"count\":18640},{\"parameter\":\"no2\",\"count\":19632},{\"parameter\":\"o3\",\"count\":18872},{\"parameter\":\"pm10\",\"count\":20271},{\"parameter\":\"pm25\",\"count\":20272},{\"parameter\":\"so2\",\"count\":19323}],\"count\":117010},{\"id\":\"IN-151\",\"country\":\"IN\",\"city\":\"Delhi\",\"cities\":[\"Delhi\"],\"location\":\"Dr. Karni Singh Shooting Range, Delhi - DPCC\",\"locations\":[\"Dr. Karni Singh Shooting Range, Delhi - DPCC\"],\"sourceName\":\"caaqm\",\"sourceNames\":[\"caaqm\"],\"sourceType\":\"government\",\"sourceTypes\":[\"government\"],\"coordinates\":{\"longitude\":77.26491,\"latitude\":28.49973},\"firstUpdated\":\"2018-04-16T07:30:00.000Z\",\"lastUpdated\":\"2018-05-12T04:45:00.000Z\",\"parameters\":[\"co\",\"no2\",\"o3\",\"pm10\",\"pm25\",\"so2\"],\"countsByMeasurement\":[{\"parameter\":\"co\",\"count\":9},{\"parameter\":\"no2\",\"count\":9},{\"parameter\":\"o3\",\"count\":9},{\"parameter\":\"pm10\",\"count\":73},{\"parameter\":\"pm25\",\"count\":64},{\"parameter\":\"so2\",\"count\":9}],\"count\":173},{\"id\":\"IN-107\",\"country\":\"IN\",\"city\":\"Delhi\",\"cities\":[\"Delhi\"],\"location\":\"DTU, Delhi - CPCB\",\"locations\":[\"DTU, New Delhi - CPCB\",\"DTU, Delhi - CPCB\"],\"sourceName\":\"caaqm\",\"sourceNames\":[\"data.gov.in\",\"caaqm\"],\"sourceType\":\"government\",\"sourceTypes\":[\"government\"],\"coordinates\":{\"longitude\":77.11126,\"latitude\":28.75005},\"firstUpdated\":\"2018-03-09T05:30:00.000Z\",\"lastUpdated\":\"2020-10-12T01:15:00.000Z\",\"parameters\":[\"co\",\"no2\",\"o3\",\"pm10\",\"pm25\",\"so2\"],\"countsByMeasurement\":[{\"parameter\":\"co\",\"count\":38025},{\"parameter\":\"no2\",\"count\":38303},{\"parameter\":\"o3\",\"count\":38016},{\"parameter\":\"pm10\",\"count\":37879},{\"parameter\":\"pm25\",\"count\":38026},{\"parameter\":\"so2\",\"count\":33850}],\"count\":224099},{\"id\":\"IN-153\",\"country\":\"IN\",\"city\":\"Delhi\",\"cities\":[\"Delhi\"],\"location\":\"Dwarka-Sector 8, Delhi - DPCC \",\"locations\":[\"Dwarka-Sector 8, Delhi - DPCC \"],\"sourceName\":\"caaqm\",\"sourceNames\":[\"caaqm\"],\"sourceType\":\"government\",\"sourceTypes\":[\"government\"],\"coordinates\":{\"longitude\":76.80238,\"latitude\":28.52068},\"firstUpdated\":\"2018-04-16T08:30:00.000Z\",\"lastUpdated\":\"2018-05-12T05:00:00.000Z\",\"parameters\":[\"co\",\"no2\",\"o3\",\"pm10\",\"pm25\",\"so2\"],\"countsByMeasurement\":[{\"parameter\":\"co\",\"count\":59},{\"parameter\":\"no2\",\"count\":59},{\"parameter\":\"o3\",\"count\":59},{\"parameter\":\"pm10\",\"count\":43},{\"parameter\":\"pm25\",\"count\":28},{\"parameter\":\"so2\",\"count\":59}],\"count\":307},{\"id\":\"IN-185\",\"country\":\"IN\",\"city\":\"Delhi\",\"cities\":[\"Delhi\",\"New Delhi\"],\"location\":\"Dwarka-Sector 8, Delhi - DPCC \",\"locations\":[\"Dwarka-Sector 8, Delhi - DPCC \"],\"sourceName\":\"caaqm\",\"sourceNames\":[\"caaqm\"],\"sourceType\":\"government\",\"sourceTypes\":[\"government\"],\"coordinates\":{\"longitude\":77.0719,\"latitude\":28.57103},\"firstUpdated\":\"2018-08-10T06:15:00.000Z\",\"lastUpdated\":\"2020-10-12T01:00:00.000Z\",\"parameters\":[\"co\",\"no2\",\"o3\",\"pm10\",\"pm25\",\"so2\"],\"countsByMeasurement\":[{\"parameter\":\"co\",\"count\":28851},{\"parameter\":\"no2\",\"count\":30318},{\"parameter\":\"o3\",\"count\":29913},{\"parameter\":\"pm10\",\"count\":31435},{\"parameter\":\"pm25\",\"count\":31406},{\"parameter\":\"so2\",\"count\":27907}],\"count\":179830},{\"id\":\"IN-164\",\"country\":\"IN\",\"city\":\"Delhi\",\"cities\":[\"Delhi\"],\"location\":\"East Arjun Nagar, Delhi - CPCB\",\"locations\":[\"East Arjun Nagar, Delhi - CPCB\"],\"sourceName\":\"caaqm\",\"sourceNames\":[\"caaqm\"],\"sourceType\":\"government\",\"sourceTypes\":[\"government\"],\"coordinates\":{\"longitude\":77.28593,\"latitude\":28.6556},\"firstUpdated\":\"2018-08-10T05:45:00.000Z\",\"lastUpdated\":\"2020-02-10T03:00:00.000Z\",\"parameters\":[\"no2\",\"o3\",\"so2\"],\"countsByMeasurement\":[{\"parameter\":\"no2\",\"count\":6413},{\"parameter\":\"o3\",\"count\":6410},{\"parameter\":\"so2\",\"count\":6400}],\"count\":19223},{\"id\":\"IN-308\",\"country\":\"IN\",\"city\":\"Delhi\",\"cities\":[\"Delhi\"],\"location\":\"East Arjun Nagar, Delhi - CPCB\",\"locations\":[\"East Arjun Nagar, Delhi - CPCB\"],\"sourceName\":\"caaqm\",\"sourceNames\":[\"caaqm\"],\"sourceType\":\"government\",\"sourceTypes\":[\"government\"],\"coordinates\":{\"longitude\":77.29491,\"latitude\":28.65594},\"firstUpdated\":\"2020-02-29T21:00:00.000Z\",\"lastUpdated\":\"2020-10-12T00:30:00.000Z\",\"parameters\":[\"no2\",\"o3\",\"so2\"],\"countsByMeasurement\":[{\"parameter\":\"no2\",\"count\":989},{\"parameter\":\"o3\",\"count\":960},{\"parameter\":\"so2\",\"count\":1074}],\"count\":3023},{\"id\":\"IN-7\",\"country\":\"IN\",\"city\":\"Delhi\",\"cities\":[\"Delhi\"],\"location\":\"IGI Airport\",\"locations\":[\"IGI Airport\"],\"sourceName\":\"CPCB\",\"sourceNames\":[\"CPCB\"],\"sourceType\":\"government\",\"sourceTypes\":[\"government\"],\"coordinates\":{\"longitude\":77.094,\"latitude\":28.56},\"firstUpdated\":\"2015-07-10T06:30:00.000Z\",\"lastUpdated\":\"2015-07-10T06:30:00.000Z\",\"parameters\":[\"co\",\"no2\",\"o3\",\"pm10\",\"pm25\"],\"countsByMeasurement\":[{\"parameter\":\"co\",\"count\":1},{\"parameter\":\"no2\",\"count\":1},{\"parameter\":\"o3\",\"count\":1},{\"parameter\":\"pm10\",\"count\":1},{\"parameter\":\"pm25\",\"count\":1}],\"count\":5},{\"id\":\"IN-92\",\"country\":\"IN\",\"city\":\"Delhi\",\"cities\":[\"Delhi\"],\"location\":\"IGI Airport (T3), Delhi - IMD\",\"locations\":[\"IGI Airport Terminal - 3, New Delhi - IMD\",\"IGI Airport (T3), New Delhi - IMD\",\"IGI Airport (T3), Delhi - IMD\"],\"sourceName\":\"caaqm\",\"sourceNames\":[\"data.gov.in\",\"caaqm\"],\"sourceType\":\"government\",\"sourceTypes\":[\"government\"],\"coordinates\":{\"longitude\":77.118,\"latitude\":28.56278},\"firstUpdated\":\"2018-03-09T05:30:00.000Z\",\"lastUpdated\":\"2020-10-12T01:15:00.000Z\",\"parameters\":[\"co\",\"no2\",\"o3\",\"pm10\",\"pm25\"],\"countsByMeasurement\":[{\"parameter\":\"co\",\"count\":22403},{\"parameter\":\"no2\",\"count\":22086},{\"parameter\":\"o3\",\"count\":22409},{\"parameter\":\"pm10\",\"count\":22395},{\"parameter\":\"pm25\",\"count\":22353}],\"count\":111646},{\"id\":\"IN-48\",\"country\":\"IN\",\"city\":\"Delhi\",\"cities\":[\"Delhi\"],\"location\":\"IHBAS, Delhi - CPCB\",\"locations\":[\"IHBAS\",\"IHBAS, Delhi - CPCB\"],\"sourceName\":\"CPCB\",\"sourceNames\":[\"CPCB\"],\"sourceType\":\"government\",\"sourceTypes\":[\"government\"],\"coordinates\":{\"longitude\":77.305,\"latitude\":28.6821},\"firstUpdated\":\"2016-04-10T18:30:00.000Z\",\"lastUpdated\":\"2018-02-22T02:45:00.000Z\",\"parameters\":[\"co\",\"no2\",\"pm25\",\"so2\"],\"countsByMeasurement\":[{\"parameter\":\"co\",\"count\":26232},{\"parameter\":\"no2\",\"count\":18071},{\"parameter\":\"pm25\",\"count\":13619},{\"parameter\":\"so2\",\"count\":8413}],\"count\":66335},{\"id\":\"IN-160\",\"country\":\"IN\",\"city\":\"Delhi\",\"cities\":[\"Delhi\"],\"location\":\"IHBAS, Dilshad Garden, Delhi - CPCB\",\"locations\":[\"IHBAS, Dilshad Garden,New Delhi - CPCB\",\"IHBAS, Dilshad Garden, Delhi - CPCB\"],\"sourceName\":\"caaqm\",\"sourceNames\":[\"caaqm\"],\"sourceType\":\"government\",\"sourceTypes\":[\"government\"],\"coordinates\":{\"longitude\":77.30252,\"latitude\":28.68117},\"firstUpdated\":\"2018-04-28T15:45:00.000Z\",\"lastUpdated\":\"2020-10-12T01:15:00.000Z\",\"parameters\":[\"co\",\"no2\",\"o3\",\"pm10\",\"pm25\",\"so2\"],\"countsByMeasurement\":[{\"parameter\":\"co\",\"count\":36790},{\"parameter\":\"no2\",\"count\":36639},{\"parameter\":\"o3\",\"count\":1785},{\"parameter\":\"pm10\",\"count\":3657},{\"parameter\":\"pm25\",\"count\":36508},{\"parameter\":\"so2\",\"count\":36793}],\"count\":152172},{\"id\":\"IN-118\",\"country\":\"IN\",\"city\":\"Delhi\",\"cities\":[\"Delhi\"],\"location\":\"IHBAS, Dilshad Garden,New Delhi - CPCB\",\"locations\":[\"IHBAS, Dilshad Garden,New Delhi - CPCB\"],\"sourceName\":\"caaqm\",\"sourceNames\":[\"data.gov.in\",\"caaqm\"],\"sourceType\":\"government\",\"sourceTypes\":[\"government\"],\"coordinates\":{\"longitude\":77.20116,\"latitude\":28.68027},\"firstUpdated\":\"2018-03-09T05:30:00.000Z\",\"lastUpdated\":\"2018-04-28T14:30:00.000Z\",\"parameters\":[\"co\",\"no2\",\"pm25\",\"so2\"],\"countsByMeasurement\":[{\"parameter\":\"co\",\"count\":513},{\"parameter\":\"no2\",\"count\":508},{\"parameter\":\"pm25\",\"count\":507},{\"parameter\":\"so2\",\"count\":508}],\"count\":2036},{\"id\":\"IN-14\",\"country\":\"IN\",\"city\":\"Delhi\",\"cities\":[\"Delhi\"],\"location\":\"Income Tax Office, Delhi - CPCB\",\"locations\":[\"Income Tax Office\",\"Income Tax Office, Delhi - CPCB\"],\"sourceName\":\"CPCB\",\"sourceNames\":[\"CPCB\"],\"sourceType\":\"government\",\"sourceTypes\":[\"government\"],\"coordinates\":{\"longitude\":77.2494,\"latitude\":28.6235},\"firstUpdated\":\"2016-01-23T03:15:00.000Z\",\"lastUpdated\":\"2018-02-22T03:45:00.000Z\",\"parameters\":[\"co\",\"no2\",\"o3\",\"pm10\",\"pm25\"],\"countsByMeasurement\":[{\"parameter\":\"co\",\"count\":1},{\"parameter\":\"no2\",\"count\":31465},{\"parameter\":\"o3\",\"count\":1},{\"parameter\":\"pm10\",\"count\":24234},{\"parameter\":\"pm25\",\"count\":31692}],\"count\":87393},{\"id\":\"IN-290\",\"country\":\"IN\",\"city\":\"Delhi\",\"cities\":[\"Delhi\"],\"location\":\"ITO, Delhi - CPCB\",\"locations\":[\"ITO, Delhi - CPCB\"],\"sourceName\":\"caaqm\",\"sourceNames\":[\"caaqm\"],\"sourceType\":\"government\",\"sourceTypes\":[\"government\"],\"coordinates\":{\"longitude\":77.24106,\"latitude\":28.62862},\"firstUpdated\":\"2020-01-20T08:15:00.000Z\",\"lastUpdated\":\"2020-10-12T01:15:00.000Z\",\"parameters\":[\"co\",\"no2\",\"o3\",\"pm10\",\"pm25\",\"so2\"],\"countsByMeasurement\":[{\"parameter\":\"co\",\"count\":12931},{\"parameter\":\"no2\",\"count\":12940},{\"parameter\":\"o3\",\"count\":12931},{\"parameter\":\"pm10\",\"count\":12321},{\"parameter\":\"pm25\",\"count\":12833},{\"parameter\":\"so2\",\"count\":12950}],\"count\":76906},{\"id\":\"IN-93\",\"country\":\"IN\",\"city\":\"Delhi\",\"cities\":[\"Delhi\"],\"location\":\"ITO, Delhi - CPCB\",\"locations\":[\"ITO, New Delhi - CPCB\",\"ITO, Delhi - CPCB\"],\"sourceName\":\"caaqm\",\"sourceNames\":[\"data.gov.in\",\"caaqm\"],\"sourceType\":\"government\",\"sourceTypes\":[\"government\"],\"coordinates\":{\"longitude\":77.24944,\"latitude\":28.63169},\"firstUpdated\":\"2018-03-09T05:30:00.000Z\",\"lastUpdated\":\"2020-01-20T07:15:00.000Z\",\"parameters\":[\"co\",\"no2\",\"o3\",\"pm10\",\"pm25\",\"so2\"],\"countsByMeasurement\":[{\"parameter\":\"co\",\"count\":20310},{\"parameter\":\"no2\",\"count\":20656},{\"parameter\":\"o3\",\"count\":20326},{\"parameter\":\"pm10\",\"count\":20653},{\"parameter\":\"pm25\",\"count\":20643},{\"parameter\":\"so2\",\"count\":20090}],\"count\":122678},{\"id\":\"IN-188\",\"country\":\"IN\",\"city\":\"Delhi\",\"cities\":[\"Delhi\"],\"location\":\"Jahangirpuri, Delhi - DPCC\",\"locations\":[\"Jahangirpuri, Delhi - DPCC\"],\"sourceName\":\"caaqm\",\"sourceNames\":[\"caaqm\"],\"sourceType\":\"government\",\"sourceTypes\":[\"government\"],\"coordinates\":{\"longitude\":77.17063,\"latitude\":28.73282},\"firstUpdated\":\"2018-08-10T07:00:00.000Z\",\"lastUpdated\":\"2020-10-07T13:45:00.000Z\",\"parameters\":[\"co\",\"no2\",\"o3\",\"pm10\",\"pm25\",\"so2\"],\"countsByMeasurement\":[{\"parameter\":\"co\",\"count\":18066},{\"parameter\":\"no2\",\"count\":19541},{\"parameter\":\"o3\",\"count\":19187},{\"parameter\":\"pm10\",\"count\":19711},{\"parameter\":\"pm25\",\"count\":19087},{\"parameter\":\"so2\",\"count\":17942}],\"count\":113534},{\"id\":\"IN-149\",\"country\":\"IN\",\"city\":\"Delhi\",\"cities\":[\"Delhi\"],\"location\":\"Jahangirpuri, Delhi - DPCC\",\"locations\":[\"Jahangirpuri, Delhi - DPCC\"],\"sourceName\":\"caaqm\",\"sourceNames\":[\"caaqm\"],\"sourceType\":\"government\",\"sourceTypes\":[\"government\"],\"coordinates\":{\"longitude\":77.16056,\"latitude\":28.72584},\"firstUpdated\":\"2018-04-16T07:30:00.000Z\",\"lastUpdated\":\"2018-05-12T06:30:00.000Z\",\"parameters\":[\"co\",\"no2\",\"o3\",\"pm10\",\"pm25\",\"so2\"],\"countsByMeasurement\":[{\"parameter\":\"co\",\"count\":59},{\"parameter\":\"no2\",\"count\":59},{\"parameter\":\"o3\",\"count\":59},{\"parameter\":\"pm10\",\"count\":84},{\"parameter\":\"pm25\",\"count\":60},{\"parameter\":\"so2\",\"count\":59}],\"count\":380},{\"id\":\"IN-176\",\"country\":\"IN\",\"city\":\"Delhi\",\"cities\":[\"Delhi\",\"nJawaharlal Nehru Stadium\"],\"location\":\"Jawaharlal Nehru Stadium, Delhi - DPCC\",\"locations\":[\"Jawaharlal Nehru Stadium, Delhi - DPCC\"],\"sourceName\":\"caaqm\",\"sourceNames\":[\"caaqm\"],\"sourceType\":\"government\",\"sourceTypes\":[\"government\"],\"coordinates\":{\"longitude\":77.23383,\"latitude\":28.58028},\"firstUpdated\":\"2018-08-10T06:00:00.000Z\",\"lastUpdated\":\"2020-10-07T19:00:00.000Z\",\"parameters\":[\"co\",\"no2\",\"o3\",\"pm10\",\"pm25\",\"so2\"],\"countsByMeasurement\":[{\"parameter\":\"co\",\"count\":24037},{\"parameter\":\"no2\",\"count\":25943},{\"parameter\":\"o3\",\"count\":26082},{\"parameter\":\"pm10\",\"count\":26876},{\"parameter\":\"pm25\",\"count\":26627},{\"parameter\":\"so2\",\"count\":24930}],\"count\":154495},{\"id\":\"IN-155\",\"country\":\"IN\",\"city\":\"Delhi\",\"cities\":[\"Delhi\"],\"location\":\"Jawaharlal Nehru Stadium, Delhi - DPCC\",\"locations\":[\"Jawaharlal Nehru Stadium, Delhi - DPCC\"],\"sourceName\":\"caaqm\",\"sourceNames\":[\"caaqm\"],\"sourceType\":\"government\",\"sourceTypes\":[\"government\"],\"coordinates\":{\"longitude\":77.23218,\"latitude\":28.58285},\"firstUpdated\":\"2018-04-16T14:30:00.000Z\",\"lastUpdated\":\"2018-05-12T06:30:00.000Z\",\"parameters\":[\"co\",\"no2\",\"o3\",\"pm10\",\"pm25\",\"so2\"],\"countsByMeasurement\":[{\"parameter\":\"co\",\"count\":14},{\"parameter\":\"no2\",\"count\":14},{\"parameter\":\"o3\",\"count\":14},{\"parameter\":\"pm10\",\"count\":66},{\"parameter\":\"pm25\",\"count\":53},{\"parameter\":\"so2\",\"count\":14}],\"count\":175},{\"id\":\"IN-95\",\"country\":\"IN\",\"city\":\"Delhi\",\"cities\":[\"Delhi\"],\"location\":\"Lodhi Road, Delhi - IMD\",\"locations\":[\"Lodhi Road, New Delhi - IMD\",\"Lodhi Road, Delhi - IMD\"],\"sourceName\":\"caaqm\",\"sourceNames\":[\"data.gov.in\",\"caaqm\"],\"sourceType\":\"government\",\"sourceTypes\":[\"government\"],\"coordinates\":{\"longitude\":77.22731,\"latitude\":28.59182},\"firstUpdated\":\"2018-03-09T05:30:00.000Z\",\"lastUpdated\":\"2020-10-11T19:45:00.000Z\",\"parameters\":[\"co\",\"no2\",\"o3\",\"pm10\",\"pm25\"],\"countsByMeasurement\":[{\"parameter\":\"co\",\"count\":30740},{\"parameter\":\"no2\",\"count\":30733},{\"parameter\":\"o3\",\"count\":30682},{\"parameter\":\"pm10\",\"count\":30704},{\"parameter\":\"pm25\",\"count\":30685}],\"count\":153544},{\"id\":\"IN-159\",\"country\":\"IN\",\"city\":\"Delhi\",\"cities\":[\"Delhi\"],\"location\":\"Major Dhyan Chand National Stadium, Delhi - DPCC\",\"locations\":[\"Major Dhyan Chand National Stadium, Delhi - DPCC\"],\"sourceName\":\"caaqm\",\"sourceNames\":[\"caaqm\"],\"sourceType\":\"government\",\"sourceTypes\":[\"government\"],\"coordinates\":{\"longitude\":77.2352,\"latitude\":28.6125},\"firstUpdated\":\"2018-04-26T23:00:00.000Z\",\"lastUpdated\":\"2018-05-12T04:30:00.000Z\",\"parameters\":[\"co\",\"no2\",\"o3\",\"pm10\",\"pm25\",\"so2\"],\"countsByMeasurement\":[{\"parameter\":\"co\",\"count\":14},{\"parameter\":\"no2\",\"count\":14},{\"parameter\":\"o3\",\"count\":14},{\"parameter\":\"pm10\",\"count\":8},{\"parameter\":\"pm25\",\"count\":8},{\"parameter\":\"so2\",\"count\":14}],\"count\":72},{\"id\":\"IN-189\",\"country\":\"IN\",\"city\":\"Delhi\",\"cities\":[\"Delhi\",\"nNational Stadium\"],\"location\":\"Major Dhyan Chand National Stadium, Delhi - DPCC\",\"locations\":[\"Major Dhyan Chand National Stadium, Delhi - DPCC\"],\"sourceName\":\"caaqm\",\"sourceNames\":[\"caaqm\"],\"sourceType\":\"government\",\"sourceTypes\":[\"government\"],\"coordinates\":{\"longitude\":77.23774,\"latitude\":28.61128},\"firstUpdated\":\"2018-08-10T07:00:00.000Z\",\"lastUpdated\":\"2020-10-07T18:45:00.000Z\",\"parameters\":[\"co\",\"no2\",\"o3\",\"pm10\",\"pm25\",\"so2\"],\"countsByMeasurement\":[{\"parameter\":\"co\",\"count\":20659},{\"parameter\":\"no2\",\"count\":21951},{\"parameter\":\"o3\",\"count\":21829},{\"parameter\":\"pm10\",\"count\":22683},{\"parameter\":\"pm25\",\"count\":22579},{\"parameter\":\"so2\",\"count\":21213}],\"count\":130914},{\"id\":\"IN-178\",\"country\":\"IN\",\"city\":\"Delhi\",\"cities\":[\"Delhi\"],\"location\":\"Mandir Marg, Delhi - DPCC\",\"locations\":[\"Mandir Marg, New Delhi - DPCC\",\"Mandir Marg, Delhi - DPCC\"],\"sourceName\":\"caaqm\",\"sourceNames\":[\"caaqm\"],\"sourceType\":\"government\",\"sourceTypes\":[\"government\"],\"coordinates\":{\"longitude\":77.20107,\"latitude\":28.63643},\"firstUpdated\":\"2018-08-10T06:00:00.000Z\",\"lastUpdated\":\"2020-10-12T00:30:00.000Z\",\"parameters\":[\"co\",\"no2\",\"o3\",\"pm10\",\"pm25\",\"so2\"],\"countsByMeasurement\":[{\"parameter\":\"co\",\"count\":26366},{\"parameter\":\"no2\",\"count\":27732},{\"parameter\":\"o3\",\"count\":27600},{\"parameter\":\"pm10\",\"count\":28227},{\"parameter\":\"pm25\",\"count\":28532},{\"parameter\":\"so2\",\"count\":25538}],\"count\":163995},{\"id\":\"IN-4\",\"country\":\"IN\",\"city\":\"Delhi\",\"cities\":[\"Delhi\"],\"location\":\"Mandir Marg, Delhi - DPCC\",\"locations\":[\"Mandir Marg\",\"Mandir Marg, Delhi - DPCC\"],\"sourceName\":\"CPCB\",\"sourceNames\":[\"Mandir Marg\",\"CPCB\"],\"sourceType\":\"government\",\"sourceTypes\":[\"government\"],\"coordinates\":{\"longitude\":77.2005,\"latitude\":28.6341},\"firstUpdated\":\"2015-06-29T14:30:00.000Z\",\"lastUpdated\":\"2018-02-21T21:15:00.000Z\",\"parameters\":[\"co\",\"no2\",\"o3\",\"pm10\",\"pm25\",\"so2\"],\"countsByMeasurement\":[{\"parameter\":\"co\",\"count\":16928},{\"parameter\":\"no2\",\"count\":26019},{\"parameter\":\"o3\",\"count\":6985},{\"parameter\":\"pm10\",\"count\":25647},{\"parameter\":\"pm25\",\"count\":25872},{\"parameter\":\"so2\",\"count\":11685}],\"count\":113136},{\"id\":\"IN-57\",\"country\":\"IN\",\"city\":\"Delhi\",\"cities\":[\"Delhi\"],\"location\":\"Mandir Marg, New Delhi - DPCC\",\"locations\":[\"Mandir Marg, New Delhi - DPCC\"],\"sourceName\":\"caaqm\",\"sourceNames\":[\"data.gov.in\",\"caaqm\"],\"sourceType\":\"government\",\"sourceTypes\":[\"government\"],\"coordinates\":{\"longitude\":77.20056,\"latitude\":28.63727},\"firstUpdated\":\"2018-03-09T03:30:00.000Z\",\"lastUpdated\":\"2018-05-12T04:30:00.000Z\",\"parameters\":[\"co\",\"no2\",\"o3\",\"pm10\",\"pm25\",\"so2\"],\"countsByMeasurement\":[{\"parameter\":\"co\",\"count\":201},{\"parameter\":\"no2\",\"count\":166},{\"parameter\":\"o3\",\"count\":201},{\"parameter\":\"pm10\",\"count\":172},{\"parameter\":\"pm25\",\"count\":173},{\"parameter\":\"so2\",\"count\":164}],\"count\":1077},{\"id\":\"IN-202\",\"country\":\"IN\",\"city\":\"Delhi\",\"cities\":[\"Delhi\"],\"location\":\"Mundka, Delhi - DPCC\",\"locations\":[\"Mundka, Delhi - DPCC\"],\"sourceName\":\"caaqm\",\"sourceNames\":[\"caaqm\"],\"sourceType\":\"government\",\"sourceTypes\":[\"government\"],\"coordinates\":{\"longitude\":77.07658,\"latitude\":28.68468},\"firstUpdated\":\"2018-12-14T01:30:00.000Z\",\"lastUpdated\":\"2020-10-07T02:45:00.000Z\",\"parameters\":[\"co\",\"no2\",\"o3\",\"pm10\",\"pm25\",\"so2\"],\"countsByMeasurement\":[{\"parameter\":\"co\",\"count\":20970},{\"parameter\":\"no2\",\"count\":21958},{\"parameter\":\"o3\",\"count\":21759},{\"parameter\":\"pm10\",\"count\":22378},{\"parameter\":\"pm25\",\"count\":22296},{\"parameter\":\"so2\",\"count\":21270}],\"count\":130631},{\"id\":\"IN-204\",\"country\":\"IN\",\"city\":\"Delhi\",\"cities\":[\"Delhi\"],\"location\":\"Najafgarh, Delhi - DPCC\",\"locations\":[\"Najafgarh, Delhi - DPCC\"],\"sourceName\":\"caaqm\",\"sourceNames\":[\"caaqm\"],\"sourceType\":\"government\",\"sourceTypes\":[\"government\"],\"coordinates\":{\"longitude\":76.93376,\"latitude\":28.57017},\"firstUpdated\":\"2018-12-14T12:30:00.000Z\",\"lastUpdated\":\"2020-10-07T18:30:00.000Z\",\"parameters\":[\"co\",\"no2\",\"o3\",\"pm10\",\"pm25\",\"so2\"],\"countsByMeasurement\":[{\"parameter\":\"co\",\"count\":20826},{\"parameter\":\"no2\",\"count\":21315},{\"parameter\":\"o3\",\"count\":21540},{\"parameter\":\"pm10\",\"count\":21691},{\"parameter\":\"pm25\",\"count\":21642},{\"parameter\":\"so2\",\"count\":20714}],\"count\":127728},{\"id\":\"IN-150\",\"country\":\"IN\",\"city\":\"Delhi\",\"cities\":[\"Delhi\"],\"location\":\"Najafgarh, Delhi - DPCC\",\"locations\":[\"Najafgarh, Delhi - DPCC\"],\"sourceName\":\"caaqm\",\"sourceNames\":[\"caaqm\"],\"sourceType\":\"government\",\"sourceTypes\":[\"government\"],\"coordinates\":{\"longitude\":76.7094,\"latitude\":28.51086},\"firstUpdated\":\"2018-04-16T07:30:00.000Z\",\"lastUpdated\":\"2018-05-12T06:00:00.000Z\",\"parameters\":[\"co\",\"no2\",\"o3\",\"pm10\",\"pm25\",\"so2\"],\"countsByMeasurement\":[{\"parameter\":\"co\",\"count\":24},{\"parameter\":\"no2\",\"count\":21},{\"parameter\":\"o3\",\"count\":23},{\"parameter\":\"pm10\",\"count\":94},{\"parameter\":\"pm25\",\"count\":70},{\"parameter\":\"so2\",\"count\":24}],\"count\":256},{\"id\":\"IN-165\",\"country\":\"IN\",\"city\":\"Delhi\",\"cities\":[\"Delhi\"],\"location\":\"Narela, Delhi - DPCC\",\"locations\":[\"Narela, Delhi - DPCC\"],\"sourceName\":\"caaqm\",\"sourceNames\":[\"caaqm\"],\"sourceType\":\"government\",\"sourceTypes\":[\"government\"],\"coordinates\":{\"longitude\":77.10198,\"latitude\":28.82284},\"firstUpdated\":\"2018-08-10T05:45:00.000Z\",\"lastUpdated\":\"2020-10-09T15:45:00.000Z\",\"parameters\":[\"co\",\"no2\",\"o3\",\"pm10\",\"pm25\",\"so2\"],\"countsByMeasurement\":[{\"parameter\":\"co\",\"count\":25774},{\"parameter\":\"no2\",\"count\":26779},{\"parameter\":\"o3\",\"count\":26426},{\"parameter\":\"pm10\",\"count\":27158},{\"parameter\":\"pm25\",\"count\":27348},{\"parameter\":\"so2\",\"count\":24564}],\"count\":158049},{\"id\":\"IN-152\",\"country\":\"IN\",\"city\":\"Delhi\",\"cities\":[\"Delhi\"],\"location\":\"Narela, Delhi - DPCC\",\"locations\":[\"Narela, Delhi - DPCC\"],\"sourceName\":\"caaqm\",\"sourceNames\":[\"caaqm\"],\"sourceType\":\"government\",\"sourceTypes\":[\"government\"],\"coordinates\":{\"longitude\":77.03326,\"latitude\":28.84469},\"firstUpdated\":\"2018-04-16T08:30:00.000Z\",\"lastUpdated\":\"2018-05-12T06:00:00.000Z\",\"parameters\":[\"co\",\"no2\",\"o3\",\"pm10\",\"pm25\",\"so2\"],\"countsByMeasurement\":[{\"parameter\":\"co\",\"count\":42},{\"parameter\":\"no2\",\"count\":42},{\"parameter\":\"o3\",\"count\":42},{\"parameter\":\"pm10\",\"count\":70},{\"parameter\":\"pm25\",\"count\":48},{\"parameter\":\"so2\",\"count\":42}],\"count\":286},{\"id\":\"IN-141\",\"country\":\"IN\",\"city\":\"Delhi\",\"cities\":[\"Delhi\"],\"location\":\"Nehru Nagar, Delhi - DPCC\",\"locations\":[\"Nehru Nagar, Delhi - DPCC\"],\"sourceName\":\"caaqm\",\"sourceNames\":[\"caaqm\"],\"sourceType\":\"government\",\"sourceTypes\":[\"government\"],\"coordinates\":{\"longitude\":77.25879,\"latitude\":28.56395},\"firstUpdated\":\"2018-04-15T19:30:00.000Z\",\"lastUpdated\":\"2018-05-13T10:00:00.000Z\",\"parameters\":[\"co\",\"no2\",\"o3\",\"pm10\",\"pm25\",\"so2\"],\"countsByMeasurement\":[{\"parameter\":\"co\",\"count\":35},{\"parameter\":\"no2\",\"count\":35},{\"parameter\":\"o3\",\"count\":35},{\"parameter\":\"pm10\",\"count\":141},{\"parameter\":\"pm25\",\"count\":104},{\"parameter\":\"so2\",\"count\":35}],\"count\":385},{\"id\":\"IN-169\",\"country\":\"IN\",\"city\":\"Delhi\",\"cities\":[\"Delhi\"],\"location\":\"Nehru Nagar, Delhi - DPCC\",\"locations\":[\"Nehru Nagar, Delhi - DPCC\"],\"sourceName\":\"caaqm\",\"sourceNames\":[\"caaqm\"],\"sourceType\":\"government\",\"sourceTypes\":[\"government\"],\"coordinates\":{\"longitude\":77.25052,\"latitude\":28.56789},\"firstUpdated\":\"2018-08-10T06:00:00.000Z\",\"lastUpdated\":\"2020-10-07T18:45:00.000Z\",\"parameters\":[\"co\",\"no2\",\"o3\",\"pm10\",\"pm25\",\"so2\"],\"countsByMeasurement\":[{\"parameter\":\"co\",\"count\":18043},{\"parameter\":\"no2\",\"count\":17780},{\"parameter\":\"o3\",\"count\":18116},{\"parameter\":\"pm10\",\"count\":19162},{\"parameter\":\"pm25\",\"count\":19371},{\"parameter\":\"so2\",\"count\":17549}],\"count\":110021},{\"id\":\"IN-82\",\"country\":\"IN\",\"city\":\"Delhi\",\"cities\":[\"Delhi\"],\"location\":\"North Campus, DU, Delhi - IMD\",\"locations\":[\"North Campus, DU, New Delhi - IMD\",\"North Campus, DU, Delhi - IMD\"],\"sourceName\":\"caaqm\",\"sourceNames\":[\"data.gov.in\",\"caaqm\"],\"sourceType\":\"government\",\"sourceTypes\":[\"government\"],\"coordinates\":{\"longitude\":77.15855,\"latitude\":28.65738},\"firstUpdated\":\"2018-03-09T05:30:00.000Z\",\"lastUpdated\":\"2020-10-11T21:00:00.000Z\",\"parameters\":[\"co\",\"no2\",\"o3\",\"pm10\",\"pm25\"],\"countsByMeasurement\":[{\"parameter\":\"co\",\"count\":29650},{\"parameter\":\"no2\",\"count\":29642},{\"parameter\":\"o3\",\"count\":29656},{\"parameter\":\"pm10\",\"count\":29627},{\"parameter\":\"pm25\",\"count\":29618}],\"count\":148193}]}'"
      ]
     },
     "execution_count": 4,
     "metadata": {},
     "output_type": "execute_result"
    }
   ],
   "source": [
    "result.text"
   ]
  },
  {
   "cell_type": "code",
   "execution_count": 5,
   "metadata": {},
   "outputs": [],
   "source": [
    "res =result.json()"
   ]
  },
  {
   "cell_type": "code",
   "execution_count": 6,
   "metadata": {},
   "outputs": [],
   "source": [
    "\n",
    "lst=[]\n",
    "for item in res['results']:\n",
    "        lst.append(item)"
   ]
  },
  {
   "cell_type": "code",
   "execution_count": 7,
   "metadata": {},
   "outputs": [],
   "source": [
    "\n",
    "df=pd.DataFrame(lst)"
   ]
  },
  {
   "cell_type": "code",
   "execution_count": 8,
   "metadata": {},
   "outputs": [
    {
     "data": {
      "text/html": [
       "<div>\n",
       "<style scoped>\n",
       "    .dataframe tbody tr th:only-of-type {\n",
       "        vertical-align: middle;\n",
       "    }\n",
       "\n",
       "    .dataframe tbody tr th {\n",
       "        vertical-align: top;\n",
       "    }\n",
       "\n",
       "    .dataframe thead th {\n",
       "        text-align: right;\n",
       "    }\n",
       "</style>\n",
       "<table border=\"1\" class=\"dataframe\">\n",
       "  <thead>\n",
       "    <tr style=\"text-align: right;\">\n",
       "      <th></th>\n",
       "      <th>cities</th>\n",
       "      <th>city</th>\n",
       "      <th>coordinates</th>\n",
       "      <th>count</th>\n",
       "      <th>country</th>\n",
       "      <th>countsByMeasurement</th>\n",
       "      <th>firstUpdated</th>\n",
       "      <th>id</th>\n",
       "      <th>lastUpdated</th>\n",
       "      <th>location</th>\n",
       "      <th>locations</th>\n",
       "      <th>parameters</th>\n",
       "      <th>sourceName</th>\n",
       "      <th>sourceNames</th>\n",
       "      <th>sourceType</th>\n",
       "      <th>sourceTypes</th>\n",
       "    </tr>\n",
       "  </thead>\n",
       "  <tbody>\n",
       "    <tr>\n",
       "      <th>0</th>\n",
       "      <td>[Agra]</td>\n",
       "      <td>Agra</td>\n",
       "      <td>{'longitude': 78.00598, 'latitude': 27.19866}</td>\n",
       "      <td>254365</td>\n",
       "      <td>IN</td>\n",
       "      <td>[{'parameter': 'co', 'count': 58297}, {'parame...</td>\n",
       "      <td>2016-03-22T00:20:00.000Z</td>\n",
       "      <td>IN-35</td>\n",
       "      <td>2020-10-12T01:15:00.000Z</td>\n",
       "      <td>Sanjay Palace, Agra - UPPCB</td>\n",
       "      <td>[Sanjay Palace, Sanjay Palace, Agra - UPPCB]</td>\n",
       "      <td>[co, no2, o3, pm25, so2]</td>\n",
       "      <td>caaqm</td>\n",
       "      <td>[CPCB, data.gov.in, caaqm]</td>\n",
       "      <td>government</td>\n",
       "      <td>[government]</td>\n",
       "    </tr>\n",
       "    <tr>\n",
       "      <th>1</th>\n",
       "      <td>[Ahmedabad, On the terrace of Water distributi...</td>\n",
       "      <td>Ahmedabad</td>\n",
       "      <td>{'longitude': 72.59191, 'latitude': 23.00266}</td>\n",
       "      <td>203548</td>\n",
       "      <td>IN</td>\n",
       "      <td>[{'parameter': 'co', 'count': 35733}, {'parame...</td>\n",
       "      <td>2018-03-09T05:30:00.000Z</td>\n",
       "      <td>IN-101</td>\n",
       "      <td>2020-10-12T01:15:00.000Z</td>\n",
       "      <td>Maninagar, Ahmedabad - GPCB</td>\n",
       "      <td>[Maninagar, Ahmedabad - GPCB]</td>\n",
       "      <td>[co, no2, o3, pm10, pm25, so2]</td>\n",
       "      <td>caaqm</td>\n",
       "      <td>[data.gov.in, caaqm]</td>\n",
       "      <td>government</td>\n",
       "      <td>[government]</td>\n",
       "    </tr>\n",
       "    <tr>\n",
       "      <th>2</th>\n",
       "      <td>[Aizawl]</td>\n",
       "      <td>Aizawl</td>\n",
       "      <td>{'longitude': 92.71928, 'latitude': 23.71763}</td>\n",
       "      <td>29772</td>\n",
       "      <td>IN</td>\n",
       "      <td>[{'parameter': 'co', 'count': 4962}, {'paramet...</td>\n",
       "      <td>2020-03-19T04:30:00.000Z</td>\n",
       "      <td>IN-314</td>\n",
       "      <td>2020-10-02T23:15:00.000Z</td>\n",
       "      <td>Sikulpuikawn, Aizawl - Mizoram PCB</td>\n",
       "      <td>[Sikulpuikawn, Aizawl - Mizoram PCB]</td>\n",
       "      <td>[co, no2, o3, pm10, pm25, so2]</td>\n",
       "      <td>caaqm</td>\n",
       "      <td>[caaqm]</td>\n",
       "      <td>government</td>\n",
       "      <td>[government]</td>\n",
       "    </tr>\n",
       "    <tr>\n",
       "      <th>3</th>\n",
       "      <td>[Ajmer]</td>\n",
       "      <td>Ajmer</td>\n",
       "      <td>{'longitude': 74.64659, 'latitude': 26.47086}</td>\n",
       "      <td>197564</td>\n",
       "      <td>IN</td>\n",
       "      <td>[{'parameter': 'co', 'count': 32985}, {'parame...</td>\n",
       "      <td>2018-04-16T03:15:00.000Z</td>\n",
       "      <td>IN-143</td>\n",
       "      <td>2020-10-12T01:00:00.000Z</td>\n",
       "      <td>Civil Lines,  Ajmer - RSPCB</td>\n",
       "      <td>[Civil Lines,  Ajmer - RSPCB]</td>\n",
       "      <td>[co, no2, o3, pm10, pm25, so2]</td>\n",
       "      <td>caaqm</td>\n",
       "      <td>[caaqm]</td>\n",
       "      <td>government</td>\n",
       "      <td>[government]</td>\n",
       "    </tr>\n",
       "    <tr>\n",
       "      <th>4</th>\n",
       "      <td>[Alwar,  Alwar, Alwar - Jaipur Rd]</td>\n",
       "      <td>Alwar</td>\n",
       "      <td>{'longitude': 76.61153, 'latitude': 27.55479}</td>\n",
       "      <td>224411</td>\n",
       "      <td>IN</td>\n",
       "      <td>[{'parameter': 'co', 'count': 37576}, {'parame...</td>\n",
       "      <td>2018-03-09T05:30:00.000Z</td>\n",
       "      <td>IN-72</td>\n",
       "      <td>2020-10-12T01:15:00.000Z</td>\n",
       "      <td>Moti Doongri, Alwar - RSPCB</td>\n",
       "      <td>[Moti Doongri, Alwar, Rajasthan - RSPCB, Moti ...</td>\n",
       "      <td>[co, no2, o3, pm10, pm25, so2]</td>\n",
       "      <td>caaqm</td>\n",
       "      <td>[data.gov.in, caaqm]</td>\n",
       "      <td>government</td>\n",
       "      <td>[government]</td>\n",
       "    </tr>\n",
       "  </tbody>\n",
       "</table>\n",
       "</div>"
      ],
      "text/plain": [
       "                                              cities       city  \\\n",
       "0                                             [Agra]       Agra   \n",
       "1  [Ahmedabad, On the terrace of Water distributi...  Ahmedabad   \n",
       "2                                           [Aizawl]     Aizawl   \n",
       "3                                            [Ajmer]      Ajmer   \n",
       "4                 [Alwar,  Alwar, Alwar - Jaipur Rd]      Alwar   \n",
       "\n",
       "                                     coordinates   count country  \\\n",
       "0  {'longitude': 78.00598, 'latitude': 27.19866}  254365      IN   \n",
       "1  {'longitude': 72.59191, 'latitude': 23.00266}  203548      IN   \n",
       "2  {'longitude': 92.71928, 'latitude': 23.71763}   29772      IN   \n",
       "3  {'longitude': 74.64659, 'latitude': 26.47086}  197564      IN   \n",
       "4  {'longitude': 76.61153, 'latitude': 27.55479}  224411      IN   \n",
       "\n",
       "                                 countsByMeasurement  \\\n",
       "0  [{'parameter': 'co', 'count': 58297}, {'parame...   \n",
       "1  [{'parameter': 'co', 'count': 35733}, {'parame...   \n",
       "2  [{'parameter': 'co', 'count': 4962}, {'paramet...   \n",
       "3  [{'parameter': 'co', 'count': 32985}, {'parame...   \n",
       "4  [{'parameter': 'co', 'count': 37576}, {'parame...   \n",
       "\n",
       "               firstUpdated      id               lastUpdated  \\\n",
       "0  2016-03-22T00:20:00.000Z   IN-35  2020-10-12T01:15:00.000Z   \n",
       "1  2018-03-09T05:30:00.000Z  IN-101  2020-10-12T01:15:00.000Z   \n",
       "2  2020-03-19T04:30:00.000Z  IN-314  2020-10-02T23:15:00.000Z   \n",
       "3  2018-04-16T03:15:00.000Z  IN-143  2020-10-12T01:00:00.000Z   \n",
       "4  2018-03-09T05:30:00.000Z   IN-72  2020-10-12T01:15:00.000Z   \n",
       "\n",
       "                             location  \\\n",
       "0         Sanjay Palace, Agra - UPPCB   \n",
       "1         Maninagar, Ahmedabad - GPCB   \n",
       "2  Sikulpuikawn, Aizawl - Mizoram PCB   \n",
       "3         Civil Lines,  Ajmer - RSPCB   \n",
       "4         Moti Doongri, Alwar - RSPCB   \n",
       "\n",
       "                                           locations  \\\n",
       "0       [Sanjay Palace, Sanjay Palace, Agra - UPPCB]   \n",
       "1                      [Maninagar, Ahmedabad - GPCB]   \n",
       "2               [Sikulpuikawn, Aizawl - Mizoram PCB]   \n",
       "3                      [Civil Lines,  Ajmer - RSPCB]   \n",
       "4  [Moti Doongri, Alwar, Rajasthan - RSPCB, Moti ...   \n",
       "\n",
       "                       parameters sourceName                 sourceNames  \\\n",
       "0        [co, no2, o3, pm25, so2]      caaqm  [CPCB, data.gov.in, caaqm]   \n",
       "1  [co, no2, o3, pm10, pm25, so2]      caaqm        [data.gov.in, caaqm]   \n",
       "2  [co, no2, o3, pm10, pm25, so2]      caaqm                     [caaqm]   \n",
       "3  [co, no2, o3, pm10, pm25, so2]      caaqm                     [caaqm]   \n",
       "4  [co, no2, o3, pm10, pm25, so2]      caaqm        [data.gov.in, caaqm]   \n",
       "\n",
       "   sourceType   sourceTypes  \n",
       "0  government  [government]  \n",
       "1  government  [government]  \n",
       "2  government  [government]  \n",
       "3  government  [government]  \n",
       "4  government  [government]  "
      ]
     },
     "execution_count": 8,
     "metadata": {},
     "output_type": "execute_result"
    }
   ],
   "source": [
    "df.head()"
   ]
  },
  {
   "cell_type": "code",
   "execution_count": 9,
   "metadata": {},
   "outputs": [
    {
     "data": {
      "text/plain": [
       "array(['Agra', 'Ahmedabad', 'Aizawl', 'Ajmer', ' Alwar', 'Amaravati',\n",
       "       'Ambala ', 'Amritsar', 'Ankleshwar', 'Asansol', 'Aurangabad',\n",
       "       'Bagalkot', 'Baghpat', 'Bahadurgarh ', 'Ballabgarh', 'Bathinda ',\n",
       "       'Bengaluru', 'Bhiwadi', 'Bhiwani', 'Bhopal', 'Brajrajnagar',\n",
       "       'Bulandshahr', 'Chamarajanagar', 'Chandigarh', 'Chandrapur',\n",
       "       'Charkhi Dadri', 'Chennai', 'Chikkaballapur', 'Chikkamagaluru',\n",
       "       'Coimbatore', 'Damoh', 'Delhi'], dtype=object)"
      ]
     },
     "execution_count": 9,
     "metadata": {},
     "output_type": "execute_result"
    }
   ],
   "source": [
    "df['city'].unique()"
   ]
  },
  {
   "cell_type": "code",
   "execution_count": 10,
   "metadata": {},
   "outputs": [
    {
     "data": {
      "text/plain": [
       "<matplotlib.axes._subplots.AxesSubplot at 0x2338d2a0c88>"
      ]
     },
     "execution_count": 10,
     "metadata": {},
     "output_type": "execute_result"
    },
    {
     "data": {
      "image/png": "[encoded data removed]",
      "text/plain": [
       "<Figure size 2160x2160 with 1 Axes>"
      ]
     },
     "metadata": {
      "needs_background": "light"
     },
     "output_type": "display_data"
    }
   ],
   "source": [
    "plt.figure(figsize=[30,30])\n",
    "sns.countplot(df['city'])"
   ]
  },
  {
   "cell_type": "code",
   "execution_count": 11,
   "metadata": {},
   "outputs": [
    {
     "data": {
      "text/html": [
       "<div>\n",
       "<style scoped>\n",
       "    .dataframe tbody tr th:only-of-type {\n",
       "        vertical-align: middle;\n",
       "    }\n",
       "\n",
       "    .dataframe tbody tr th {\n",
       "        vertical-align: top;\n",
       "    }\n",
       "\n",
       "    .dataframe thead th {\n",
       "        text-align: right;\n",
       "    }\n",
       "</style>\n",
       "<table border=\"1\" class=\"dataframe\">\n",
       "  <thead>\n",
       "    <tr style=\"text-align: right;\">\n",
       "      <th></th>\n",
       "      <th>count</th>\n",
       "    </tr>\n",
       "  </thead>\n",
       "  <tbody>\n",
       "    <tr>\n",
       "      <th>count</th>\n",
       "      <td>100.00000</td>\n",
       "    </tr>\n",
       "    <tr>\n",
       "      <th>mean</th>\n",
       "      <td>106834.71000</td>\n",
       "    </tr>\n",
       "    <tr>\n",
       "      <th>std</th>\n",
       "      <td>68260.88709</td>\n",
       "    </tr>\n",
       "    <tr>\n",
       "      <th>min</th>\n",
       "      <td>4.00000</td>\n",
       "    </tr>\n",
       "    <tr>\n",
       "      <th>25%</th>\n",
       "      <td>56835.00000</td>\n",
       "    </tr>\n",
       "    <tr>\n",
       "      <th>50%</th>\n",
       "      <td>121674.00000</td>\n",
       "    </tr>\n",
       "    <tr>\n",
       "      <th>75%</th>\n",
       "      <td>155114.25000</td>\n",
       "    </tr>\n",
       "    <tr>\n",
       "      <th>max</th>\n",
       "      <td>254365.00000</td>\n",
       "    </tr>\n",
       "  </tbody>\n",
       "</table>\n",
       "</div>"
      ],
      "text/plain": [
       "              count\n",
       "count     100.00000\n",
       "mean   106834.71000\n",
       "std     68260.88709\n",
       "min         4.00000\n",
       "25%     56835.00000\n",
       "50%    121674.00000\n",
       "75%    155114.25000\n",
       "max    254365.00000"
      ]
     },
     "execution_count": 11,
     "metadata": {},
     "output_type": "execute_result"
    }
   ],
   "source": [
    "df.describe()"
   ]
  },
  {
   "cell_type": "code",
   "execution_count": 12,
   "metadata": {},
   "outputs": [
    {
     "name": "stdout",
     "output_type": "stream",
     "text": [
      "<class 'pandas.core.frame.DataFrame'>\n",
      "RangeIndex: 100 entries, 0 to 99\n",
      "Data columns (total 16 columns):\n",
      "cities                 100 non-null object\n",
      "city                   100 non-null object\n",
      "coordinates            100 non-null object\n",
      "count                  100 non-null int64\n",
      "country                100 non-null object\n",
      "countsByMeasurement    100 non-null object\n",
      "firstUpdated           100 non-null object\n",
      "id                     100 non-null object\n",
      "lastUpdated            100 non-null object\n",
      "location               100 non-null object\n",
      "locations              100 non-null object\n",
      "parameters             100 non-null object\n",
      "sourceName             100 non-null object\n",
      "sourceNames            100 non-null object\n",
      "sourceType             100 non-null object\n",
      "sourceTypes            100 non-null object\n",
      "dtypes: int64(1), object(15)\n",
      "memory usage: 12.6+ KB\n"
     ]
    }
   ],
   "source": [
    "df.info()"
   ]
  },
  {
   "cell_type": "code",
   "execution_count": 13,
   "metadata": {},
   "outputs": [],
   "source": [
    "lst2=[]\n",
    "for measure in df['countsByMeasurement']:\n",
    "    lst2.append(measure)"
   ]
  },
  {
   "cell_type": "code",
   "execution_count": 14,
   "metadata": {},
   "outputs": [],
   "source": [
    "para_df=pd.DataFrame(lst2,columns=['CO','NO2','O3','PM10','PM25','SO2'])"
   ]
  },
  {
   "cell_type": "code",
   "execution_count": 15,
   "metadata": {},
   "outputs": [
    {
     "data": {
      "text/html": [
       "<div>\n",
       "<style scoped>\n",
       "    .dataframe tbody tr th:only-of-type {\n",
       "        vertical-align: middle;\n",
       "    }\n",
       "\n",
       "    .dataframe tbody tr th {\n",
       "        vertical-align: top;\n",
       "    }\n",
       "\n",
       "    .dataframe thead th {\n",
       "        text-align: right;\n",
       "    }\n",
       "</style>\n",
       "<table border=\"1\" class=\"dataframe\">\n",
       "  <thead>\n",
       "    <tr style=\"text-align: right;\">\n",
       "      <th></th>\n",
       "      <th>CO</th>\n",
       "      <th>NO2</th>\n",
       "      <th>O3</th>\n",
       "      <th>PM10</th>\n",
       "      <th>PM25</th>\n",
       "      <th>SO2</th>\n",
       "    </tr>\n",
       "  </thead>\n",
       "  <tbody>\n",
       "    <tr>\n",
       "      <th>0</th>\n",
       "      <td>{'parameter': 'co', 'count': 58297}</td>\n",
       "      <td>{'parameter': 'no2', 'count': 34395}</td>\n",
       "      <td>{'parameter': 'o3', 'count': 59990}</td>\n",
       "      <td>{'parameter': 'pm25', 'count': 58836}</td>\n",
       "      <td>{'parameter': 'so2', 'count': 42847}</td>\n",
       "      <td>None</td>\n",
       "    </tr>\n",
       "    <tr>\n",
       "      <th>1</th>\n",
       "      <td>{'parameter': 'co', 'count': 35733}</td>\n",
       "      <td>{'parameter': 'no2', 'count': 36040}</td>\n",
       "      <td>{'parameter': 'o3', 'count': 35820}</td>\n",
       "      <td>{'parameter': 'pm10', 'count': 24772}</td>\n",
       "      <td>{'parameter': 'pm25', 'count': 36064}</td>\n",
       "      <td>{'parameter': 'so2', 'count': 35119}</td>\n",
       "    </tr>\n",
       "    <tr>\n",
       "      <th>2</th>\n",
       "      <td>{'parameter': 'co', 'count': 4962}</td>\n",
       "      <td>{'parameter': 'no2', 'count': 4962}</td>\n",
       "      <td>{'parameter': 'o3', 'count': 4962}</td>\n",
       "      <td>{'parameter': 'pm10', 'count': 4962}</td>\n",
       "      <td>{'parameter': 'pm25', 'count': 4962}</td>\n",
       "      <td>{'parameter': 'so2', 'count': 4962}</td>\n",
       "    </tr>\n",
       "    <tr>\n",
       "      <th>3</th>\n",
       "      <td>{'parameter': 'co', 'count': 32985}</td>\n",
       "      <td>{'parameter': 'no2', 'count': 32988}</td>\n",
       "      <td>{'parameter': 'o3', 'count': 32636}</td>\n",
       "      <td>{'parameter': 'pm10', 'count': 32984}</td>\n",
       "      <td>{'parameter': 'pm25', 'count': 32977}</td>\n",
       "      <td>{'parameter': 'so2', 'count': 32994}</td>\n",
       "    </tr>\n",
       "    <tr>\n",
       "      <th>4</th>\n",
       "      <td>{'parameter': 'co', 'count': 37576}</td>\n",
       "      <td>{'parameter': 'no2', 'count': 37588}</td>\n",
       "      <td>{'parameter': 'o3', 'count': 36592}</td>\n",
       "      <td>{'parameter': 'pm10', 'count': 37591}</td>\n",
       "      <td>{'parameter': 'pm25', 'count': 37530}</td>\n",
       "      <td>{'parameter': 'so2', 'count': 37534}</td>\n",
       "    </tr>\n",
       "  </tbody>\n",
       "</table>\n",
       "</div>"
      ],
      "text/plain": [
       "                                    CO                                   NO2  \\\n",
       "0  {'parameter': 'co', 'count': 58297}  {'parameter': 'no2', 'count': 34395}   \n",
       "1  {'parameter': 'co', 'count': 35733}  {'parameter': 'no2', 'count': 36040}   \n",
       "2   {'parameter': 'co', 'count': 4962}   {'parameter': 'no2', 'count': 4962}   \n",
       "3  {'parameter': 'co', 'count': 32985}  {'parameter': 'no2', 'count': 32988}   \n",
       "4  {'parameter': 'co', 'count': 37576}  {'parameter': 'no2', 'count': 37588}   \n",
       "\n",
       "                                    O3                                   PM10  \\\n",
       "0  {'parameter': 'o3', 'count': 59990}  {'parameter': 'pm25', 'count': 58836}   \n",
       "1  {'parameter': 'o3', 'count': 35820}  {'parameter': 'pm10', 'count': 24772}   \n",
       "2   {'parameter': 'o3', 'count': 4962}   {'parameter': 'pm10', 'count': 4962}   \n",
       "3  {'parameter': 'o3', 'count': 32636}  {'parameter': 'pm10', 'count': 32984}   \n",
       "4  {'parameter': 'o3', 'count': 36592}  {'parameter': 'pm10', 'count': 37591}   \n",
       "\n",
       "                                    PM25                                   SO2  \n",
       "0   {'parameter': 'so2', 'count': 42847}                                  None  \n",
       "1  {'parameter': 'pm25', 'count': 36064}  {'parameter': 'so2', 'count': 35119}  \n",
       "2   {'parameter': 'pm25', 'count': 4962}   {'parameter': 'so2', 'count': 4962}  \n",
       "3  {'parameter': 'pm25', 'count': 32977}  {'parameter': 'so2', 'count': 32994}  \n",
       "4  {'parameter': 'pm25', 'count': 37530}  {'parameter': 'so2', 'count': 37534}  "
      ]
     },
     "execution_count": 15,
     "metadata": {},
     "output_type": "execute_result"
    }
   ],
   "source": [
    "para_df.head()"
   ]
  },
  {
   "cell_type": "code",
   "execution_count": 16,
   "metadata": {},
   "outputs": [],
   "source": [
    "lst3=[]\n",
    "lst4=[]\n",
    "for i in range(100):\n",
    "    for measure_c in res['results'][i]['countsByMeasurement']:\n",
    "        lst3.append(measure_c)\n",
    "        lst4.append({\"row\":i})"
   ]
  },
  {
   "cell_type": "code",
   "execution_count": 17,
   "metadata": {},
   "outputs": [],
   "source": [
    "para_count=pd.DataFrame(lst3)\n",
    "row_index= pd.DataFrame(lst4)"
   ]
  },
  {
   "cell_type": "code",
   "execution_count": 18,
   "metadata": {},
   "outputs": [
    {
     "data": {
      "text/html": [
       "<div>\n",
       "<style scoped>\n",
       "    .dataframe tbody tr th:only-of-type {\n",
       "        vertical-align: middle;\n",
       "    }\n",
       "\n",
       "    .dataframe tbody tr th {\n",
       "        vertical-align: top;\n",
       "    }\n",
       "\n",
       "    .dataframe thead th {\n",
       "        text-align: right;\n",
       "    }\n",
       "</style>\n",
       "<table border=\"1\" class=\"dataframe\">\n",
       "  <thead>\n",
       "    <tr style=\"text-align: right;\">\n",
       "      <th></th>\n",
       "      <th>row</th>\n",
       "      <th>count</th>\n",
       "      <th>parameter</th>\n",
       "    </tr>\n",
       "  </thead>\n",
       "  <tbody>\n",
       "    <tr>\n",
       "      <th>0</th>\n",
       "      <td>0</td>\n",
       "      <td>58297</td>\n",
       "      <td>co</td>\n",
       "    </tr>\n",
       "    <tr>\n",
       "      <th>1</th>\n",
       "      <td>0</td>\n",
       "      <td>34395</td>\n",
       "      <td>no2</td>\n",
       "    </tr>\n",
       "    <tr>\n",
       "      <th>2</th>\n",
       "      <td>0</td>\n",
       "      <td>59990</td>\n",
       "      <td>o3</td>\n",
       "    </tr>\n",
       "    <tr>\n",
       "      <th>3</th>\n",
       "      <td>0</td>\n",
       "      <td>58836</td>\n",
       "      <td>pm25</td>\n",
       "    </tr>\n",
       "    <tr>\n",
       "      <th>4</th>\n",
       "      <td>0</td>\n",
       "      <td>42847</td>\n",
       "      <td>so2</td>\n",
       "    </tr>\n",
       "  </tbody>\n",
       "</table>\n",
       "</div>"
      ],
      "text/plain": [
       "   row  count parameter\n",
       "0    0  58297        co\n",
       "1    0  34395       no2\n",
       "2    0  59990        o3\n",
       "3    0  58836      pm25\n",
       "4    0  42847       so2"
      ]
     },
     "execution_count": 18,
     "metadata": {},
     "output_type": "execute_result"
    }
   ],
   "source": [
    "para_row=pd.concat([row_index,para_count],1)\n",
    "\n",
    "para_row.head()"
   ]
  },
  {
   "cell_type": "code",
   "execution_count": 19,
   "metadata": {},
   "outputs": [
    {
     "data": {
      "text/html": [
       "<div>\n",
       "<style scoped>\n",
       "    .dataframe tbody tr th:only-of-type {\n",
       "        vertical-align: middle;\n",
       "    }\n",
       "\n",
       "    .dataframe tbody tr th {\n",
       "        vertical-align: top;\n",
       "    }\n",
       "\n",
       "    .dataframe thead th {\n",
       "        text-align: right;\n",
       "    }\n",
       "</style>\n",
       "<table border=\"1\" class=\"dataframe\">\n",
       "  <thead>\n",
       "    <tr style=\"text-align: right;\">\n",
       "      <th></th>\n",
       "      <th></th>\n",
       "      <th>count</th>\n",
       "    </tr>\n",
       "    <tr>\n",
       "      <th>row</th>\n",
       "      <th>parameter</th>\n",
       "      <th></th>\n",
       "    </tr>\n",
       "  </thead>\n",
       "  <tbody>\n",
       "    <tr>\n",
       "      <th rowspan=\"2\" valign=\"top\">46</th>\n",
       "      <th>no2</th>\n",
       "      <td>64684</td>\n",
       "    </tr>\n",
       "    <tr>\n",
       "      <th>co</th>\n",
       "      <td>64122</td>\n",
       "    </tr>\n",
       "    <tr>\n",
       "      <th rowspan=\"3\" valign=\"top\">0</th>\n",
       "      <th>o3</th>\n",
       "      <td>59990</td>\n",
       "    </tr>\n",
       "    <tr>\n",
       "      <th>pm25</th>\n",
       "      <td>58836</td>\n",
       "    </tr>\n",
       "    <tr>\n",
       "      <th>co</th>\n",
       "      <td>58297</td>\n",
       "    </tr>\n",
       "  </tbody>\n",
       "</table>\n",
       "</div>"
      ],
      "text/plain": [
       "               count\n",
       "row parameter       \n",
       "46  no2        64684\n",
       "    co         64122\n",
       "0   o3         59990\n",
       "    pm25       58836\n",
       "    co         58297"
      ]
     },
     "execution_count": 19,
     "metadata": {},
     "output_type": "execute_result"
    }
   ],
   "source": [
    "\n",
    "para_row.groupby(['row','parameter']).mean().sort_values('count',ascending=False).head()"
   ]
  },
  {
   "cell_type": "code",
   "execution_count": 20,
   "metadata": {},
   "outputs": [
    {
     "data": {
      "text/plain": [
       "<matplotlib.axes._subplots.AxesSubplot at 0x2338d64d588>"
      ]
     },
     "execution_count": 20,
     "metadata": {},
     "output_type": "execute_result"
    },
    {
     "data": {
      "image/png": "[encoded data removed]",
      "text/plain": [
       "<Figure size 432x288 with 1 Axes>"
      ]
     },
     "metadata": {
      "needs_background": "light"
     },
     "output_type": "display_data"
    }
   ],
   "source": [
    "sns.countplot(para_count['parameter'])"
   ]
  },
  {
   "cell_type": "code",
   "execution_count": 21,
   "metadata": {},
   "outputs": [
    {
     "data": {
      "text/html": [
       "<div>\n",
       "<style scoped>\n",
       "    .dataframe tbody tr th:only-of-type {\n",
       "        vertical-align: middle;\n",
       "    }\n",
       "\n",
       "    .dataframe tbody tr th {\n",
       "        vertical-align: top;\n",
       "    }\n",
       "\n",
       "    .dataframe thead th {\n",
       "        text-align: right;\n",
       "    }\n",
       "</style>\n",
       "<table border=\"1\" class=\"dataframe\">\n",
       "  <thead>\n",
       "    <tr style=\"text-align: right;\">\n",
       "      <th></th>\n",
       "      <th>count</th>\n",
       "    </tr>\n",
       "    <tr>\n",
       "      <th>parameter</th>\n",
       "      <th></th>\n",
       "    </tr>\n",
       "  </thead>\n",
       "  <tbody>\n",
       "    <tr>\n",
       "      <th>no2</th>\n",
       "      <td>20738.202020</td>\n",
       "    </tr>\n",
       "    <tr>\n",
       "      <th>pm25</th>\n",
       "      <td>20281.925532</td>\n",
       "    </tr>\n",
       "    <tr>\n",
       "      <th>co</th>\n",
       "      <td>20142.552083</td>\n",
       "    </tr>\n",
       "    <tr>\n",
       "      <th>o3</th>\n",
       "      <td>19027.195402</td>\n",
       "    </tr>\n",
       "    <tr>\n",
       "      <th>pm10</th>\n",
       "      <td>19022.804878</td>\n",
       "    </tr>\n",
       "    <tr>\n",
       "      <th>so2</th>\n",
       "      <td>18103.068966</td>\n",
       "    </tr>\n",
       "  </tbody>\n",
       "</table>\n",
       "</div>"
      ],
      "text/plain": [
       "                  count\n",
       "parameter              \n",
       "no2        20738.202020\n",
       "pm25       20281.925532\n",
       "co         20142.552083\n",
       "o3         19027.195402\n",
       "pm10       19022.804878\n",
       "so2        18103.068966"
      ]
     },
     "execution_count": 21,
     "metadata": {},
     "output_type": "execute_result"
    }
   ],
   "source": [
    "para_count.groupby(['parameter']).mean().sort_values('count',ascending=False)"
   ]
  },
  {
   "cell_type": "code",
   "execution_count": 22,
   "metadata": {},
   "outputs": [
    {
     "data": {
      "text/plain": [
       "[<matplotlib.lines.Line2D at 0x2338d6f6eb8>]"
      ]
     },
     "execution_count": 22,
     "metadata": {},
     "output_type": "execute_result"
    },
    {
     "data": {
      "image/png": "[encoded data removed]",
      "text/plain": [
       "<Figure size 432x288 with 1 Axes>"
      ]
     },
     "metadata": {
      "needs_background": "light"
     },
     "output_type": "display_data"
    }
   ],
   "source": [
    "plt.plot(para_count.groupby(['parameter']).mean().sort_values('count',ascending=False),color='Red')"
   ]
  },
  {
   "cell_type": "code",
   "execution_count": 23,
   "metadata": {},
   "outputs": [
    {
     "data": {
      "text/html": [
       "<div>\n",
       "<style scoped>\n",
       "    .dataframe tbody tr th:only-of-type {\n",
       "        vertical-align: middle;\n",
       "    }\n",
       "\n",
       "    .dataframe tbody tr th {\n",
       "        vertical-align: top;\n",
       "    }\n",
       "\n",
       "    .dataframe thead th {\n",
       "        text-align: right;\n",
       "    }\n",
       "</style>\n",
       "<table border=\"1\" class=\"dataframe\">\n",
       "  <thead>\n",
       "    <tr style=\"text-align: right;\">\n",
       "      <th></th>\n",
       "      <th>count</th>\n",
       "    </tr>\n",
       "    <tr>\n",
       "      <th>parameter</th>\n",
       "      <th></th>\n",
       "    </tr>\n",
       "  </thead>\n",
       "  <tbody>\n",
       "    <tr>\n",
       "      <th>no2</th>\n",
       "      <td>64684</td>\n",
       "    </tr>\n",
       "    <tr>\n",
       "      <th>co</th>\n",
       "      <td>64122</td>\n",
       "    </tr>\n",
       "    <tr>\n",
       "      <th>o3</th>\n",
       "      <td>59990</td>\n",
       "    </tr>\n",
       "    <tr>\n",
       "      <th>pm25</th>\n",
       "      <td>58836</td>\n",
       "    </tr>\n",
       "    <tr>\n",
       "      <th>so2</th>\n",
       "      <td>43604</td>\n",
       "    </tr>\n",
       "    <tr>\n",
       "      <th>pm10</th>\n",
       "      <td>37879</td>\n",
       "    </tr>\n",
       "  </tbody>\n",
       "</table>\n",
       "</div>"
      ],
      "text/plain": [
       "           count\n",
       "parameter       \n",
       "no2        64684\n",
       "co         64122\n",
       "o3         59990\n",
       "pm25       58836\n",
       "so2        43604\n",
       "pm10       37879"
      ]
     },
     "execution_count": 23,
     "metadata": {},
     "output_type": "execute_result"
    }
   ],
   "source": [
    "para_count.groupby(['parameter']).max().sort_values('count',ascending=False)"
   ]
  },
  {
   "cell_type": "code",
   "execution_count": 24,
   "metadata": {},
   "outputs": [
    {
     "data": {
      "text/plain": [
       "[<matplotlib.lines.Line2D at 0x2338d6ce668>]"
      ]
     },
     "execution_count": 24,
     "metadata": {},
     "output_type": "execute_result"
    },
    {
     "data": {
      "image/png": "[encoded data removed]",
      "text/plain": [
       "<Figure size 432x288 with 1 Axes>"
      ]
     },
     "metadata": {
      "needs_background": "light"
     },
     "output_type": "display_data"
    }
   ],
   "source": [
    "plt.plot(para_count.groupby(['parameter']).max().sort_values('count',ascending=False),color='green')"
   ]
  },
  {
   "cell_type": "code",
   "execution_count": 25,
   "metadata": {},
   "outputs": [
    {
     "data": {
      "text/html": [
       "<div>\n",
       "<style scoped>\n",
       "    .dataframe tbody tr th:only-of-type {\n",
       "        vertical-align: middle;\n",
       "    }\n",
       "\n",
       "    .dataframe tbody tr th {\n",
       "        vertical-align: top;\n",
       "    }\n",
       "\n",
       "    .dataframe thead th {\n",
       "        text-align: right;\n",
       "    }\n",
       "</style>\n",
       "<table border=\"1\" class=\"dataframe\">\n",
       "  <thead>\n",
       "    <tr style=\"text-align: right;\">\n",
       "      <th></th>\n",
       "      <th>count</th>\n",
       "    </tr>\n",
       "    <tr>\n",
       "      <th>parameter</th>\n",
       "      <th></th>\n",
       "    </tr>\n",
       "  </thead>\n",
       "  <tbody>\n",
       "    <tr>\n",
       "      <th>so2</th>\n",
       "      <td>8</td>\n",
       "    </tr>\n",
       "    <tr>\n",
       "      <th>co</th>\n",
       "      <td>1</td>\n",
       "    </tr>\n",
       "    <tr>\n",
       "      <th>no2</th>\n",
       "      <td>1</td>\n",
       "    </tr>\n",
       "    <tr>\n",
       "      <th>o3</th>\n",
       "      <td>1</td>\n",
       "    </tr>\n",
       "    <tr>\n",
       "      <th>pm10</th>\n",
       "      <td>1</td>\n",
       "    </tr>\n",
       "    <tr>\n",
       "      <th>pm25</th>\n",
       "      <td>1</td>\n",
       "    </tr>\n",
       "  </tbody>\n",
       "</table>\n",
       "</div>"
      ],
      "text/plain": [
       "           count\n",
       "parameter       \n",
       "so2            8\n",
       "co             1\n",
       "no2            1\n",
       "o3             1\n",
       "pm10           1\n",
       "pm25           1"
      ]
     },
     "execution_count": 25,
     "metadata": {},
     "output_type": "execute_result"
    }
   ],
   "source": [
    "para_count.groupby(['parameter']).min().sort_values('count',ascending=False)"
   ]
  },
  {
   "cell_type": "code",
   "execution_count": 26,
   "metadata": {},
   "outputs": [
    {
     "data": {
      "text/plain": [
       "[<matplotlib.lines.Line2D at 0x2338d779b38>]"
      ]
     },
     "execution_count": 26,
     "metadata": {},
     "output_type": "execute_result"
    },
    {
     "data": {
      "image/png": "[encoded data removed]",
      "text/plain": [
       "<Figure size 432x288 with 1 Axes>"
      ]
     },
     "metadata": {
      "needs_background": "light"
     },
     "output_type": "display_data"
    }
   ],
   "source": [
    "plt.plot(para_count.groupby(['parameter']).min().sort_values('count',ascending=False),color='violet')"
   ]
  },
  {
   "cell_type": "code",
   "execution_count": 27,
   "metadata": {},
   "outputs": [
    {
     "data": {
      "text/html": [
       "<div>\n",
       "<style scoped>\n",
       "    .dataframe tbody tr th:only-of-type {\n",
       "        vertical-align: middle;\n",
       "    }\n",
       "\n",
       "    .dataframe tbody tr th {\n",
       "        vertical-align: top;\n",
       "    }\n",
       "\n",
       "    .dataframe thead th {\n",
       "        text-align: right;\n",
       "    }\n",
       "</style>\n",
       "<table border=\"1\" class=\"dataframe\">\n",
       "  <thead>\n",
       "    <tr style=\"text-align: right;\">\n",
       "      <th></th>\n",
       "      <th>count</th>\n",
       "    </tr>\n",
       "  </thead>\n",
       "  <tbody>\n",
       "    <tr>\n",
       "      <th>count</th>\n",
       "      <td>545.000000</td>\n",
       "    </tr>\n",
       "    <tr>\n",
       "      <th>mean</th>\n",
       "      <td>19602.699083</td>\n",
       "    </tr>\n",
       "    <tr>\n",
       "      <th>std</th>\n",
       "      <td>12694.203217</td>\n",
       "    </tr>\n",
       "    <tr>\n",
       "      <th>min</th>\n",
       "      <td>1.000000</td>\n",
       "    </tr>\n",
       "    <tr>\n",
       "      <th>25%</th>\n",
       "      <td>6985.000000</td>\n",
       "    </tr>\n",
       "    <tr>\n",
       "      <th>50%</th>\n",
       "      <td>22231.000000</td>\n",
       "    </tr>\n",
       "    <tr>\n",
       "      <th>75%</th>\n",
       "      <td>28532.000000</td>\n",
       "    </tr>\n",
       "    <tr>\n",
       "      <th>max</th>\n",
       "      <td>64684.000000</td>\n",
       "    </tr>\n",
       "  </tbody>\n",
       "</table>\n",
       "</div>"
      ],
      "text/plain": [
       "              count\n",
       "count    545.000000\n",
       "mean   19602.699083\n",
       "std    12694.203217\n",
       "min        1.000000\n",
       "25%     6985.000000\n",
       "50%    22231.000000\n",
       "75%    28532.000000\n",
       "max    64684.000000"
      ]
     },
     "execution_count": 27,
     "metadata": {},
     "output_type": "execute_result"
    }
   ],
   "source": [
    "para_count.describe()"
   ]
  },
  {
   "cell_type": "code",
   "execution_count": 28,
   "metadata": {},
   "outputs": [
    {
     "data": {
      "text/plain": [
       "array([[<matplotlib.axes._subplots.AxesSubplot object at 0x000002338D779748>,\n",
       "        <matplotlib.axes._subplots.AxesSubplot object at 0x000002338D817780>]],\n",
       "      dtype=object)"
      ]
     },
     "execution_count": 28,
     "metadata": {},
     "output_type": "execute_result"
    },
    {
     "data": {
      "image/png": "[encoded data removed]",
      "text/plain": [
       "<Figure size 432x288 with 2 Axes>"
      ]
     },
     "metadata": {
      "needs_background": "light"
     },
     "output_type": "display_data"
    }
   ],
   "source": [
    "para_row.hist()"
   ]
  },
  {
   "cell_type": "code",
   "execution_count": 29,
   "metadata": {},
   "outputs": [
    {
     "data": {
      "image/png": "[encoded data removed]",
      "text/plain": [
       "<Figure size 432x288 with 1 Axes>"
      ]
     },
     "metadata": {
      "needs_background": "light"
     },
     "output_type": "display_data"
    }
   ],
   "source": [
    "sns.boxplot(para_row['count'])\n",
    "para_row=para_row[para_row['count']<=60000]"
   ]
  },
  {
   "cell_type": "code",
   "execution_count": 30,
   "metadata": {},
   "outputs": [
    {
     "data": {
      "text/plain": [
       "<matplotlib.axes._subplots.AxesSubplot at 0x2338d921e10>"
      ]
     },
     "execution_count": 30,
     "metadata": {},
     "output_type": "execute_result"
    },
    {
     "data": {
      "image/png": "[encoded data removed]",
      "text/plain": [
       "<Figure size 432x288 with 1 Axes>"
      ]
     },
     "metadata": {
      "needs_background": "light"
     },
     "output_type": "display_data"
    }
   ],
   "source": [
    "sns.boxplot(para_row['count'])"
   ]
  },
  {
   "cell_type": "code",
   "execution_count": 31,
   "metadata": {},
   "outputs": [],
   "source": [
    "lst4=[]\n",
    "for lat in df['coordinates']:\n",
    "    lst4.append(lat)"
   ]
  },
  {
   "cell_type": "code",
   "execution_count": 32,
   "metadata": {},
   "outputs": [],
   "source": [
    "coordinate_df=pd.DataFrame(lst4)"
   ]
  },
  {
   "cell_type": "code",
   "execution_count": 33,
   "metadata": {},
   "outputs": [
    {
     "data": {
      "text/html": [
       "<div>\n",
       "<style scoped>\n",
       "    .dataframe tbody tr th:only-of-type {\n",
       "        vertical-align: middle;\n",
       "    }\n",
       "\n",
       "    .dataframe tbody tr th {\n",
       "        vertical-align: top;\n",
       "    }\n",
       "\n",
       "    .dataframe thead th {\n",
       "        text-align: right;\n",
       "    }\n",
       "</style>\n",
       "<table border=\"1\" class=\"dataframe\">\n",
       "  <thead>\n",
       "    <tr style=\"text-align: right;\">\n",
       "      <th></th>\n",
       "      <th>latitude</th>\n",
       "      <th>longitude</th>\n",
       "    </tr>\n",
       "  </thead>\n",
       "  <tbody>\n",
       "    <tr>\n",
       "      <th>0</th>\n",
       "      <td>27.19866</td>\n",
       "      <td>78.00598</td>\n",
       "    </tr>\n",
       "    <tr>\n",
       "      <th>1</th>\n",
       "      <td>23.00266</td>\n",
       "      <td>72.59191</td>\n",
       "    </tr>\n",
       "    <tr>\n",
       "      <th>2</th>\n",
       "      <td>23.71763</td>\n",
       "      <td>92.71928</td>\n",
       "    </tr>\n",
       "    <tr>\n",
       "      <th>3</th>\n",
       "      <td>26.47086</td>\n",
       "      <td>74.64659</td>\n",
       "    </tr>\n",
       "    <tr>\n",
       "      <th>4</th>\n",
       "      <td>27.55479</td>\n",
       "      <td>76.61153</td>\n",
       "    </tr>\n",
       "  </tbody>\n",
       "</table>\n",
       "</div>"
      ],
      "text/plain": [
       "   latitude  longitude\n",
       "0  27.19866   78.00598\n",
       "1  23.00266   72.59191\n",
       "2  23.71763   92.71928\n",
       "3  26.47086   74.64659\n",
       "4  27.55479   76.61153"
      ]
     },
     "execution_count": 33,
     "metadata": {},
     "output_type": "execute_result"
    }
   ],
   "source": [
    "coordinate_df.head()"
   ]
  },
  {
   "cell_type": "code",
   "execution_count": 34,
   "metadata": {},
   "outputs": [
    {
     "data": {
      "text/html": [
       "<div>\n",
       "<style scoped>\n",
       "    .dataframe tbody tr th:only-of-type {\n",
       "        vertical-align: middle;\n",
       "    }\n",
       "\n",
       "    .dataframe tbody tr th {\n",
       "        vertical-align: top;\n",
       "    }\n",
       "\n",
       "    .dataframe thead th {\n",
       "        text-align: right;\n",
       "    }\n",
       "</style>\n",
       "<table border=\"1\" class=\"dataframe\">\n",
       "  <thead>\n",
       "    <tr style=\"text-align: right;\">\n",
       "      <th></th>\n",
       "      <th>latitude</th>\n",
       "      <th>longitude</th>\n",
       "    </tr>\n",
       "  </thead>\n",
       "  <tbody>\n",
       "    <tr>\n",
       "      <th>count</th>\n",
       "      <td>100.000000</td>\n",
       "      <td>100.000000</td>\n",
       "    </tr>\n",
       "    <tr>\n",
       "      <th>mean</th>\n",
       "      <td>23.242198</td>\n",
       "      <td>77.644582</td>\n",
       "    </tr>\n",
       "    <tr>\n",
       "      <th>std</th>\n",
       "      <td>7.104312</td>\n",
       "      <td>2.293822</td>\n",
       "    </tr>\n",
       "    <tr>\n",
       "      <th>min</th>\n",
       "      <td>10.942450</td>\n",
       "      <td>72.591910</td>\n",
       "    </tr>\n",
       "    <tr>\n",
       "      <th>25%</th>\n",
       "      <td>13.165785</td>\n",
       "      <td>77.089645</td>\n",
       "    </tr>\n",
       "    <tr>\n",
       "      <th>50%</th>\n",
       "      <td>28.505295</td>\n",
       "      <td>77.245230</td>\n",
       "    </tr>\n",
       "    <tr>\n",
       "      <th>75%</th>\n",
       "      <td>28.655685</td>\n",
       "      <td>77.585157</td>\n",
       "    </tr>\n",
       "    <tr>\n",
       "      <th>max</th>\n",
       "      <td>31.620000</td>\n",
       "      <td>92.719280</td>\n",
       "    </tr>\n",
       "  </tbody>\n",
       "</table>\n",
       "</div>"
      ],
      "text/plain": [
       "         latitude   longitude\n",
       "count  100.000000  100.000000\n",
       "mean    23.242198   77.644582\n",
       "std      7.104312    2.293822\n",
       "min     10.942450   72.591910\n",
       "25%     13.165785   77.089645\n",
       "50%     28.505295   77.245230\n",
       "75%     28.655685   77.585157\n",
       "max     31.620000   92.719280"
      ]
     },
     "execution_count": 34,
     "metadata": {},
     "output_type": "execute_result"
    }
   ],
   "source": [
    "coordinate_df.describe()"
   ]
  },
  {
   "cell_type": "code",
   "execution_count": 35,
   "metadata": {},
   "outputs": [
    {
     "name": "stdout",
     "output_type": "stream",
     "text": [
      "<class 'pandas.core.frame.DataFrame'>\n",
      "RangeIndex: 100 entries, 0 to 99\n",
      "Data columns (total 2 columns):\n",
      "latitude     100 non-null float64\n",
      "longitude    100 non-null float64\n",
      "dtypes: float64(2)\n",
      "memory usage: 1.6 KB\n"
     ]
    }
   ],
   "source": [
    "coordinate_df.info()"
   ]
  },
  {
   "cell_type": "code",
   "execution_count": 36,
   "metadata": {},
   "outputs": [
    {
     "data": {
      "text/plain": [
       "Text(0, 0.5, 'Longitude')"
      ]
     },
     "execution_count": 36,
     "metadata": {},
     "output_type": "execute_result"
    },
    {
     "data": {
      "image/png": "[encoded data removed]",
      "text/plain": [
       "<Figure size 432x288 with 1 Axes>"
      ]
     },
     "metadata": {
      "needs_background": "light"
     },
     "output_type": "display_data"
    }
   ],
   "source": [
    "plt.scatter(coordinate_df['latitude'],coordinate_df['longitude'])\n",
    "plt.title('Scattering diag  of latitude and longitude')\n",
    "plt.xlabel('Latitude')\n",
    "plt.ylabel('Longitude')"
   ]
  },
  {
   "cell_type": "code",
   "execution_count": 37,
   "metadata": {},
   "outputs": [
    {
     "data": {
      "text/html": [
       "<div>\n",
       "<style scoped>\n",
       "    .dataframe tbody tr th:only-of-type {\n",
       "        vertical-align: middle;\n",
       "    }\n",
       "\n",
       "    .dataframe tbody tr th {\n",
       "        vertical-align: top;\n",
       "    }\n",
       "\n",
       "    .dataframe thead th {\n",
       "        text-align: right;\n",
       "    }\n",
       "</style>\n",
       "<table border=\"1\" class=\"dataframe\">\n",
       "  <thead>\n",
       "    <tr style=\"text-align: right;\">\n",
       "      <th></th>\n",
       "      <th>cities</th>\n",
       "      <th>city</th>\n",
       "      <th>coordinates</th>\n",
       "      <th>count</th>\n",
       "      <th>country</th>\n",
       "      <th>countsByMeasurement</th>\n",
       "      <th>firstUpdated</th>\n",
       "      <th>id</th>\n",
       "      <th>lastUpdated</th>\n",
       "      <th>location</th>\n",
       "      <th>locations</th>\n",
       "      <th>parameters</th>\n",
       "      <th>sourceName</th>\n",
       "      <th>sourceNames</th>\n",
       "      <th>sourceType</th>\n",
       "      <th>sourceTypes</th>\n",
       "      <th>first_date_parsed</th>\n",
       "    </tr>\n",
       "  </thead>\n",
       "  <tbody>\n",
       "    <tr>\n",
       "      <th>0</th>\n",
       "      <td>[Agra]</td>\n",
       "      <td>Agra</td>\n",
       "      <td>{'longitude': 78.00598, 'latitude': 27.19866}</td>\n",
       "      <td>254365</td>\n",
       "      <td>IN</td>\n",
       "      <td>[{'parameter': 'co', 'count': 58297}, {'parame...</td>\n",
       "      <td>2016-03-22T00:20:00.000Z</td>\n",
       "      <td>IN-35</td>\n",
       "      <td>2020-10-12T01:15:00.000Z</td>\n",
       "      <td>Sanjay Palace, Agra - UPPCB</td>\n",
       "      <td>[Sanjay Palace, Sanjay Palace, Agra - UPPCB]</td>\n",
       "      <td>[co, no2, o3, pm25, so2]</td>\n",
       "      <td>caaqm</td>\n",
       "      <td>[CPCB, data.gov.in, caaqm]</td>\n",
       "      <td>government</td>\n",
       "      <td>[government]</td>\n",
       "      <td>2016-03-22 00:20:00+00:00</td>\n",
       "    </tr>\n",
       "    <tr>\n",
       "      <th>1</th>\n",
       "      <td>[Ahmedabad, On the terrace of Water distributi...</td>\n",
       "      <td>Ahmedabad</td>\n",
       "      <td>{'longitude': 72.59191, 'latitude': 23.00266}</td>\n",
       "      <td>203548</td>\n",
       "      <td>IN</td>\n",
       "      <td>[{'parameter': 'co', 'count': 35733}, {'parame...</td>\n",
       "      <td>2018-03-09T05:30:00.000Z</td>\n",
       "      <td>IN-101</td>\n",
       "      <td>2020-10-12T01:15:00.000Z</td>\n",
       "      <td>Maninagar, Ahmedabad - GPCB</td>\n",
       "      <td>[Maninagar, Ahmedabad - GPCB]</td>\n",
       "      <td>[co, no2, o3, pm10, pm25, so2]</td>\n",
       "      <td>caaqm</td>\n",
       "      <td>[data.gov.in, caaqm]</td>\n",
       "      <td>government</td>\n",
       "      <td>[government]</td>\n",
       "      <td>2018-03-09 05:30:00+00:00</td>\n",
       "    </tr>\n",
       "    <tr>\n",
       "      <th>2</th>\n",
       "      <td>[Aizawl]</td>\n",
       "      <td>Aizawl</td>\n",
       "      <td>{'longitude': 92.71928, 'latitude': 23.71763}</td>\n",
       "      <td>29772</td>\n",
       "      <td>IN</td>\n",
       "      <td>[{'parameter': 'co', 'count': 4962}, {'paramet...</td>\n",
       "      <td>2020-03-19T04:30:00.000Z</td>\n",
       "      <td>IN-314</td>\n",
       "      <td>2020-10-02T23:15:00.000Z</td>\n",
       "      <td>Sikulpuikawn, Aizawl - Mizoram PCB</td>\n",
       "      <td>[Sikulpuikawn, Aizawl - Mizoram PCB]</td>\n",
       "      <td>[co, no2, o3, pm10, pm25, so2]</td>\n",
       "      <td>caaqm</td>\n",
       "      <td>[caaqm]</td>\n",
       "      <td>government</td>\n",
       "      <td>[government]</td>\n",
       "      <td>2020-03-19 04:30:00+00:00</td>\n",
       "    </tr>\n",
       "    <tr>\n",
       "      <th>3</th>\n",
       "      <td>[Ajmer]</td>\n",
       "      <td>Ajmer</td>\n",
       "      <td>{'longitude': 74.64659, 'latitude': 26.47086}</td>\n",
       "      <td>197564</td>\n",
       "      <td>IN</td>\n",
       "      <td>[{'parameter': 'co', 'count': 32985}, {'parame...</td>\n",
       "      <td>2018-04-16T03:15:00.000Z</td>\n",
       "      <td>IN-143</td>\n",
       "      <td>2020-10-12T01:00:00.000Z</td>\n",
       "      <td>Civil Lines,  Ajmer - RSPCB</td>\n",
       "      <td>[Civil Lines,  Ajmer - RSPCB]</td>\n",
       "      <td>[co, no2, o3, pm10, pm25, so2]</td>\n",
       "      <td>caaqm</td>\n",
       "      <td>[caaqm]</td>\n",
       "      <td>government</td>\n",
       "      <td>[government]</td>\n",
       "      <td>2018-04-16 03:15:00+00:00</td>\n",
       "    </tr>\n",
       "    <tr>\n",
       "      <th>4</th>\n",
       "      <td>[Alwar,  Alwar, Alwar - Jaipur Rd]</td>\n",
       "      <td>Alwar</td>\n",
       "      <td>{'longitude': 76.61153, 'latitude': 27.55479}</td>\n",
       "      <td>224411</td>\n",
       "      <td>IN</td>\n",
       "      <td>[{'parameter': 'co', 'count': 37576}, {'parame...</td>\n",
       "      <td>2018-03-09T05:30:00.000Z</td>\n",
       "      <td>IN-72</td>\n",
       "      <td>2020-10-12T01:15:00.000Z</td>\n",
       "      <td>Moti Doongri, Alwar - RSPCB</td>\n",
       "      <td>[Moti Doongri, Alwar, Rajasthan - RSPCB, Moti ...</td>\n",
       "      <td>[co, no2, o3, pm10, pm25, so2]</td>\n",
       "      <td>caaqm</td>\n",
       "      <td>[data.gov.in, caaqm]</td>\n",
       "      <td>government</td>\n",
       "      <td>[government]</td>\n",
       "      <td>2018-03-09 05:30:00+00:00</td>\n",
       "    </tr>\n",
       "  </tbody>\n",
       "</table>\n",
       "</div>"
      ],
      "text/plain": [
       "                                              cities       city  \\\n",
       "0                                             [Agra]       Agra   \n",
       "1  [Ahmedabad, On the terrace of Water distributi...  Ahmedabad   \n",
       "2                                           [Aizawl]     Aizawl   \n",
       "3                                            [Ajmer]      Ajmer   \n",
       "4                 [Alwar,  Alwar, Alwar - Jaipur Rd]      Alwar   \n",
       "\n",
       "                                     coordinates   count country  \\\n",
       "0  {'longitude': 78.00598, 'latitude': 27.19866}  254365      IN   \n",
       "1  {'longitude': 72.59191, 'latitude': 23.00266}  203548      IN   \n",
       "2  {'longitude': 92.71928, 'latitude': 23.71763}   29772      IN   \n",
       "3  {'longitude': 74.64659, 'latitude': 26.47086}  197564      IN   \n",
       "4  {'longitude': 76.61153, 'latitude': 27.55479}  224411      IN   \n",
       "\n",
       "                                 countsByMeasurement  \\\n",
       "0  [{'parameter': 'co', 'count': 58297}, {'parame...   \n",
       "1  [{'parameter': 'co', 'count': 35733}, {'parame...   \n",
       "2  [{'parameter': 'co', 'count': 4962}, {'paramet...   \n",
       "3  [{'parameter': 'co', 'count': 32985}, {'parame...   \n",
       "4  [{'parameter': 'co', 'count': 37576}, {'parame...   \n",
       "\n",
       "               firstUpdated      id               lastUpdated  \\\n",
       "0  2016-03-22T00:20:00.000Z   IN-35  2020-10-12T01:15:00.000Z   \n",
       "1  2018-03-09T05:30:00.000Z  IN-101  2020-10-12T01:15:00.000Z   \n",
       "2  2020-03-19T04:30:00.000Z  IN-314  2020-10-02T23:15:00.000Z   \n",
       "3  2018-04-16T03:15:00.000Z  IN-143  2020-10-12T01:00:00.000Z   \n",
       "4  2018-03-09T05:30:00.000Z   IN-72  2020-10-12T01:15:00.000Z   \n",
       "\n",
       "                             location  \\\n",
       "0         Sanjay Palace, Agra - UPPCB   \n",
       "1         Maninagar, Ahmedabad - GPCB   \n",
       "2  Sikulpuikawn, Aizawl - Mizoram PCB   \n",
       "3         Civil Lines,  Ajmer - RSPCB   \n",
       "4         Moti Doongri, Alwar - RSPCB   \n",
       "\n",
       "                                           locations  \\\n",
       "0       [Sanjay Palace, Sanjay Palace, Agra - UPPCB]   \n",
       "1                      [Maninagar, Ahmedabad - GPCB]   \n",
       "2               [Sikulpuikawn, Aizawl - Mizoram PCB]   \n",
       "3                      [Civil Lines,  Ajmer - RSPCB]   \n",
       "4  [Moti Doongri, Alwar, Rajasthan - RSPCB, Moti ...   \n",
       "\n",
       "                       parameters sourceName                 sourceNames  \\\n",
       "0        [co, no2, o3, pm25, so2]      caaqm  [CPCB, data.gov.in, caaqm]   \n",
       "1  [co, no2, o3, pm10, pm25, so2]      caaqm        [data.gov.in, caaqm]   \n",
       "2  [co, no2, o3, pm10, pm25, so2]      caaqm                     [caaqm]   \n",
       "3  [co, no2, o3, pm10, pm25, so2]      caaqm                     [caaqm]   \n",
       "4  [co, no2, o3, pm10, pm25, so2]      caaqm        [data.gov.in, caaqm]   \n",
       "\n",
       "   sourceType   sourceTypes         first_date_parsed  \n",
       "0  government  [government] 2016-03-22 00:20:00+00:00  \n",
       "1  government  [government] 2018-03-09 05:30:00+00:00  \n",
       "2  government  [government] 2020-03-19 04:30:00+00:00  \n",
       "3  government  [government] 2018-04-16 03:15:00+00:00  \n",
       "4  government  [government] 2018-03-09 05:30:00+00:00  "
      ]
     },
     "execution_count": 37,
     "metadata": {},
     "output_type": "execute_result"
    }
   ],
   "source": [
    "df['first_date_parsed'] = pd.to_datetime(df['firstUpdated'])\n",
    "df.head()"
   ]
  },
  {
   "cell_type": "code",
   "execution_count": 38,
   "metadata": {},
   "outputs": [
    {
     "data": {
      "text/html": [
       "<div>\n",
       "<style scoped>\n",
       "    .dataframe tbody tr th:only-of-type {\n",
       "        vertical-align: middle;\n",
       "    }\n",
       "\n",
       "    .dataframe tbody tr th {\n",
       "        vertical-align: top;\n",
       "    }\n",
       "\n",
       "    .dataframe thead th {\n",
       "        text-align: right;\n",
       "    }\n",
       "</style>\n",
       "<table border=\"1\" class=\"dataframe\">\n",
       "  <thead>\n",
       "    <tr style=\"text-align: right;\">\n",
       "      <th></th>\n",
       "      <th>cities</th>\n",
       "      <th>city</th>\n",
       "      <th>coordinates</th>\n",
       "      <th>count</th>\n",
       "      <th>country</th>\n",
       "      <th>countsByMeasurement</th>\n",
       "      <th>firstUpdated</th>\n",
       "      <th>id</th>\n",
       "      <th>lastUpdated</th>\n",
       "      <th>location</th>\n",
       "      <th>locations</th>\n",
       "      <th>parameters</th>\n",
       "      <th>sourceName</th>\n",
       "      <th>sourceNames</th>\n",
       "      <th>sourceType</th>\n",
       "      <th>sourceTypes</th>\n",
       "      <th>first_date_parsed</th>\n",
       "      <th>last_date_parsed</th>\n",
       "    </tr>\n",
       "  </thead>\n",
       "  <tbody>\n",
       "    <tr>\n",
       "      <th>0</th>\n",
       "      <td>[Agra]</td>\n",
       "      <td>Agra</td>\n",
       "      <td>{'longitude': 78.00598, 'latitude': 27.19866}</td>\n",
       "      <td>254365</td>\n",
       "      <td>IN</td>\n",
       "      <td>[{'parameter': 'co', 'count': 58297}, {'parame...</td>\n",
       "      <td>2016-03-22T00:20:00.000Z</td>\n",
       "      <td>IN-35</td>\n",
       "      <td>2020-10-12T01:15:00.000Z</td>\n",
       "      <td>Sanjay Palace, Agra - UPPCB</td>\n",
       "      <td>[Sanjay Palace, Sanjay Palace, Agra - UPPCB]</td>\n",
       "      <td>[co, no2, o3, pm25, so2]</td>\n",
       "      <td>caaqm</td>\n",
       "      <td>[CPCB, data.gov.in, caaqm]</td>\n",
       "      <td>government</td>\n",
       "      <td>[government]</td>\n",
       "      <td>2016-03-22 00:20:00+00:00</td>\n",
       "      <td>2020-10-12 01:15:00+00:00</td>\n",
       "    </tr>\n",
       "    <tr>\n",
       "      <th>1</th>\n",
       "      <td>[Ahmedabad, On the terrace of Water distributi...</td>\n",
       "      <td>Ahmedabad</td>\n",
       "      <td>{'longitude': 72.59191, 'latitude': 23.00266}</td>\n",
       "      <td>203548</td>\n",
       "      <td>IN</td>\n",
       "      <td>[{'parameter': 'co', 'count': 35733}, {'parame...</td>\n",
       "      <td>2018-03-09T05:30:00.000Z</td>\n",
       "      <td>IN-101</td>\n",
       "      <td>2020-10-12T01:15:00.000Z</td>\n",
       "      <td>Maninagar, Ahmedabad - GPCB</td>\n",
       "      <td>[Maninagar, Ahmedabad - GPCB]</td>\n",
       "      <td>[co, no2, o3, pm10, pm25, so2]</td>\n",
       "      <td>caaqm</td>\n",
       "      <td>[data.gov.in, caaqm]</td>\n",
       "      <td>government</td>\n",
       "      <td>[government]</td>\n",
       "      <td>2018-03-09 05:30:00+00:00</td>\n",
       "      <td>2020-10-12 01:15:00+00:00</td>\n",
       "    </tr>\n",
       "    <tr>\n",
       "      <th>2</th>\n",
       "      <td>[Aizawl]</td>\n",
       "      <td>Aizawl</td>\n",
       "      <td>{'longitude': 92.71928, 'latitude': 23.71763}</td>\n",
       "      <td>29772</td>\n",
       "      <td>IN</td>\n",
       "      <td>[{'parameter': 'co', 'count': 4962}, {'paramet...</td>\n",
       "      <td>2020-03-19T04:30:00.000Z</td>\n",
       "      <td>IN-314</td>\n",
       "      <td>2020-10-02T23:15:00.000Z</td>\n",
       "      <td>Sikulpuikawn, Aizawl - Mizoram PCB</td>\n",
       "      <td>[Sikulpuikawn, Aizawl - Mizoram PCB]</td>\n",
       "      <td>[co, no2, o3, pm10, pm25, so2]</td>\n",
       "      <td>caaqm</td>\n",
       "      <td>[caaqm]</td>\n",
       "      <td>government</td>\n",
       "      <td>[government]</td>\n",
       "      <td>2020-03-19 04:30:00+00:00</td>\n",
       "      <td>2020-10-02 23:15:00+00:00</td>\n",
       "    </tr>\n",
       "    <tr>\n",
       "      <th>3</th>\n",
       "      <td>[Ajmer]</td>\n",
       "      <td>Ajmer</td>\n",
       "      <td>{'longitude': 74.64659, 'latitude': 26.47086}</td>\n",
       "      <td>197564</td>\n",
       "      <td>IN</td>\n",
       "      <td>[{'parameter': 'co', 'count': 32985}, {'parame...</td>\n",
       "      <td>2018-04-16T03:15:00.000Z</td>\n",
       "      <td>IN-143</td>\n",
       "      <td>2020-10-12T01:00:00.000Z</td>\n",
       "      <td>Civil Lines,  Ajmer - RSPCB</td>\n",
       "      <td>[Civil Lines,  Ajmer - RSPCB]</td>\n",
       "      <td>[co, no2, o3, pm10, pm25, so2]</td>\n",
       "      <td>caaqm</td>\n",
       "      <td>[caaqm]</td>\n",
       "      <td>government</td>\n",
       "      <td>[government]</td>\n",
       "      <td>2018-04-16 03:15:00+00:00</td>\n",
       "      <td>2020-10-12 01:00:00+00:00</td>\n",
       "    </tr>\n",
       "    <tr>\n",
       "      <th>4</th>\n",
       "      <td>[Alwar,  Alwar, Alwar - Jaipur Rd]</td>\n",
       "      <td>Alwar</td>\n",
       "      <td>{'longitude': 76.61153, 'latitude': 27.55479}</td>\n",
       "      <td>224411</td>\n",
       "      <td>IN</td>\n",
       "      <td>[{'parameter': 'co', 'count': 37576}, {'parame...</td>\n",
       "      <td>2018-03-09T05:30:00.000Z</td>\n",
       "      <td>IN-72</td>\n",
       "      <td>2020-10-12T01:15:00.000Z</td>\n",
       "      <td>Moti Doongri, Alwar - RSPCB</td>\n",
       "      <td>[Moti Doongri, Alwar, Rajasthan - RSPCB, Moti ...</td>\n",
       "      <td>[co, no2, o3, pm10, pm25, so2]</td>\n",
       "      <td>caaqm</td>\n",
       "      <td>[data.gov.in, caaqm]</td>\n",
       "      <td>government</td>\n",
       "      <td>[government]</td>\n",
       "      <td>2018-03-09 05:30:00+00:00</td>\n",
       "      <td>2020-10-12 01:15:00+00:00</td>\n",
       "    </tr>\n",
       "  </tbody>\n",
       "</table>\n",
       "</div>"
      ],
      "text/plain": [
       "                                              cities       city  \\\n",
       "0                                             [Agra]       Agra   \n",
       "1  [Ahmedabad, On the terrace of Water distributi...  Ahmedabad   \n",
       "2                                           [Aizawl]     Aizawl   \n",
       "3                                            [Ajmer]      Ajmer   \n",
       "4                 [Alwar,  Alwar, Alwar - Jaipur Rd]      Alwar   \n",
       "\n",
       "                                     coordinates   count country  \\\n",
       "0  {'longitude': 78.00598, 'latitude': 27.19866}  254365      IN   \n",
       "1  {'longitude': 72.59191, 'latitude': 23.00266}  203548      IN   \n",
       "2  {'longitude': 92.71928, 'latitude': 23.71763}   29772      IN   \n",
       "3  {'longitude': 74.64659, 'latitude': 26.47086}  197564      IN   \n",
       "4  {'longitude': 76.61153, 'latitude': 27.55479}  224411      IN   \n",
       "\n",
       "                                 countsByMeasurement  \\\n",
       "0  [{'parameter': 'co', 'count': 58297}, {'parame...   \n",
       "1  [{'parameter': 'co', 'count': 35733}, {'parame...   \n",
       "2  [{'parameter': 'co', 'count': 4962}, {'paramet...   \n",
       "3  [{'parameter': 'co', 'count': 32985}, {'parame...   \n",
       "4  [{'parameter': 'co', 'count': 37576}, {'parame...   \n",
       "\n",
       "               firstUpdated      id               lastUpdated  \\\n",
       "0  2016-03-22T00:20:00.000Z   IN-35  2020-10-12T01:15:00.000Z   \n",
       "1  2018-03-09T05:30:00.000Z  IN-101  2020-10-12T01:15:00.000Z   \n",
       "2  2020-03-19T04:30:00.000Z  IN-314  2020-10-02T23:15:00.000Z   \n",
       "3  2018-04-16T03:15:00.000Z  IN-143  2020-10-12T01:00:00.000Z   \n",
       "4  2018-03-09T05:30:00.000Z   IN-72  2020-10-12T01:15:00.000Z   \n",
       "\n",
       "                             location  \\\n",
       "0         Sanjay Palace, Agra - UPPCB   \n",
       "1         Maninagar, Ahmedabad - GPCB   \n",
       "2  Sikulpuikawn, Aizawl - Mizoram PCB   \n",
       "3         Civil Lines,  Ajmer - RSPCB   \n",
       "4         Moti Doongri, Alwar - RSPCB   \n",
       "\n",
       "                                           locations  \\\n",
       "0       [Sanjay Palace, Sanjay Palace, Agra - UPPCB]   \n",
       "1                      [Maninagar, Ahmedabad - GPCB]   \n",
       "2               [Sikulpuikawn, Aizawl - Mizoram PCB]   \n",
       "3                      [Civil Lines,  Ajmer - RSPCB]   \n",
       "4  [Moti Doongri, Alwar, Rajasthan - RSPCB, Moti ...   \n",
       "\n",
       "                       parameters sourceName                 sourceNames  \\\n",
       "0        [co, no2, o3, pm25, so2]      caaqm  [CPCB, data.gov.in, caaqm]   \n",
       "1  [co, no2, o3, pm10, pm25, so2]      caaqm        [data.gov.in, caaqm]   \n",
       "2  [co, no2, o3, pm10, pm25, so2]      caaqm                     [caaqm]   \n",
       "3  [co, no2, o3, pm10, pm25, so2]      caaqm                     [caaqm]   \n",
       "4  [co, no2, o3, pm10, pm25, so2]      caaqm        [data.gov.in, caaqm]   \n",
       "\n",
       "   sourceType   sourceTypes         first_date_parsed  \\\n",
       "0  government  [government] 2016-03-22 00:20:00+00:00   \n",
       "1  government  [government] 2018-03-09 05:30:00+00:00   \n",
       "2  government  [government] 2020-03-19 04:30:00+00:00   \n",
       "3  government  [government] 2018-04-16 03:15:00+00:00   \n",
       "4  government  [government] 2018-03-09 05:30:00+00:00   \n",
       "\n",
       "           last_date_parsed  \n",
       "0 2020-10-12 01:15:00+00:00  \n",
       "1 2020-10-12 01:15:00+00:00  \n",
       "2 2020-10-02 23:15:00+00:00  \n",
       "3 2020-10-12 01:00:00+00:00  \n",
       "4 2020-10-12 01:15:00+00:00  "
      ]
     },
     "execution_count": 38,
     "metadata": {},
     "output_type": "execute_result"
    }
   ],
   "source": [
    "df['last_date_parsed'] = pd.to_datetime(df['lastUpdated'])\n",
    "df.head()"
   ]
  },
  {
   "cell_type": "code",
   "execution_count": 39,
   "metadata": {},
   "outputs": [],
   "source": [
    "f_date =pd.DataFrame({\"year\": df['first_date_parsed'].dt.year,\n",
    "              \"month\":df['first_date_parsed'].dt.month,\n",
    "              \"day\": df['first_date_parsed'].dt.day,\n",
    "              \"hour\": df['first_date_parsed'].dt.hour,\n",
    "              \"dayofyear\": df['first_date_parsed'].dt.dayofyear,\n",
    "              \"week\": df['first_date_parsed'].dt.week,\n",
    "              \"weekofyear\": df['first_date_parsed'].dt.weekofyear,\n",
    "              \"dayofweek\": df['first_date_parsed'].dt.dayofweek,\n",
    "              \"quarter\": df['first_date_parsed'].dt.quarter,\n",
    "             })\n"
   ]
  },
  {
   "cell_type": "code",
   "execution_count": 40,
   "metadata": {},
   "outputs": [
    {
     "data": {
      "text/html": [
       "<div>\n",
       "<style scoped>\n",
       "    .dataframe tbody tr th:only-of-type {\n",
       "        vertical-align: middle;\n",
       "    }\n",
       "\n",
       "    .dataframe tbody tr th {\n",
       "        vertical-align: top;\n",
       "    }\n",
       "\n",
       "    .dataframe thead th {\n",
       "        text-align: right;\n",
       "    }\n",
       "</style>\n",
       "<table border=\"1\" class=\"dataframe\">\n",
       "  <thead>\n",
       "    <tr style=\"text-align: right;\">\n",
       "      <th></th>\n",
       "      <th>year</th>\n",
       "      <th>month</th>\n",
       "      <th>day</th>\n",
       "      <th>hour</th>\n",
       "      <th>dayofyear</th>\n",
       "      <th>week</th>\n",
       "      <th>weekofyear</th>\n",
       "      <th>dayofweek</th>\n",
       "      <th>quarter</th>\n",
       "    </tr>\n",
       "  </thead>\n",
       "  <tbody>\n",
       "    <tr>\n",
       "      <th>0</th>\n",
       "      <td>2016</td>\n",
       "      <td>3</td>\n",
       "      <td>22</td>\n",
       "      <td>0</td>\n",
       "      <td>82</td>\n",
       "      <td>12</td>\n",
       "      <td>12</td>\n",
       "      <td>1</td>\n",
       "      <td>1</td>\n",
       "    </tr>\n",
       "    <tr>\n",
       "      <th>1</th>\n",
       "      <td>2018</td>\n",
       "      <td>3</td>\n",
       "      <td>9</td>\n",
       "      <td>5</td>\n",
       "      <td>68</td>\n",
       "      <td>10</td>\n",
       "      <td>10</td>\n",
       "      <td>4</td>\n",
       "      <td>1</td>\n",
       "    </tr>\n",
       "    <tr>\n",
       "      <th>2</th>\n",
       "      <td>2020</td>\n",
       "      <td>3</td>\n",
       "      <td>19</td>\n",
       "      <td>4</td>\n",
       "      <td>79</td>\n",
       "      <td>12</td>\n",
       "      <td>12</td>\n",
       "      <td>3</td>\n",
       "      <td>1</td>\n",
       "    </tr>\n",
       "    <tr>\n",
       "      <th>3</th>\n",
       "      <td>2018</td>\n",
       "      <td>4</td>\n",
       "      <td>16</td>\n",
       "      <td>3</td>\n",
       "      <td>106</td>\n",
       "      <td>16</td>\n",
       "      <td>16</td>\n",
       "      <td>0</td>\n",
       "      <td>2</td>\n",
       "    </tr>\n",
       "    <tr>\n",
       "      <th>4</th>\n",
       "      <td>2018</td>\n",
       "      <td>3</td>\n",
       "      <td>9</td>\n",
       "      <td>5</td>\n",
       "      <td>68</td>\n",
       "      <td>10</td>\n",
       "      <td>10</td>\n",
       "      <td>4</td>\n",
       "      <td>1</td>\n",
       "    </tr>\n",
       "  </tbody>\n",
       "</table>\n",
       "</div>"
      ],
      "text/plain": [
       "   year  month  day  hour  dayofyear  week  weekofyear  dayofweek  quarter\n",
       "0  2016      3   22     0         82    12          12          1        1\n",
       "1  2018      3    9     5         68    10          10          4        1\n",
       "2  2020      3   19     4         79    12          12          3        1\n",
       "3  2018      4   16     3        106    16          16          0        2\n",
       "4  2018      3    9     5         68    10          10          4        1"
      ]
     },
     "execution_count": 40,
     "metadata": {},
     "output_type": "execute_result"
    }
   ],
   "source": [
    "f_date.head()"
   ]
  },
  {
   "cell_type": "code",
   "execution_count": 41,
   "metadata": {},
   "outputs": [],
   "source": [
    "l_date =pd.DataFrame({\"lyear\": df['last_date_parsed'].dt.year,\n",
    "                      \"lmonth\":df['last_date_parsed'].dt.month,\n",
    "                      \"lday\": df['last_date_parsed'].dt.day,\n",
    "                      \"lhour\": df['last_date_parsed'].dt.hour,\n",
    "                      \"ldayofyear\": df['last_date_parsed'].dt.dayofyear,\n",
    "                      \"lweek\": df['last_date_parsed'].dt.week,\n",
    "                      \"lweekofyear\": df['last_date_parsed'].dt.weekofyear,\n",
    "                      \"ldayofweek\": df['last_date_parsed'].dt.dayofweek,\n",
    "                      \"lquarter\": df['last_date_parsed'].dt.quarter,\n",
    "             })\n"
   ]
  },
  {
   "cell_type": "code",
   "execution_count": 42,
   "metadata": {},
   "outputs": [
    {
     "data": {
      "text/html": [
       "<div>\n",
       "<style scoped>\n",
       "    .dataframe tbody tr th:only-of-type {\n",
       "        vertical-align: middle;\n",
       "    }\n",
       "\n",
       "    .dataframe tbody tr th {\n",
       "        vertical-align: top;\n",
       "    }\n",
       "\n",
       "    .dataframe thead th {\n",
       "        text-align: right;\n",
       "    }\n",
       "</style>\n",
       "<table border=\"1\" class=\"dataframe\">\n",
       "  <thead>\n",
       "    <tr style=\"text-align: right;\">\n",
       "      <th></th>\n",
       "      <th>lyear</th>\n",
       "      <th>lmonth</th>\n",
       "      <th>lday</th>\n",
       "      <th>lhour</th>\n",
       "      <th>ldayofyear</th>\n",
       "      <th>lweek</th>\n",
       "      <th>lweekofyear</th>\n",
       "      <th>ldayofweek</th>\n",
       "      <th>lquarter</th>\n",
       "    </tr>\n",
       "  </thead>\n",
       "  <tbody>\n",
       "    <tr>\n",
       "      <th>0</th>\n",
       "      <td>2020</td>\n",
       "      <td>10</td>\n",
       "      <td>12</td>\n",
       "      <td>1</td>\n",
       "      <td>286</td>\n",
       "      <td>42</td>\n",
       "      <td>42</td>\n",
       "      <td>0</td>\n",
       "      <td>4</td>\n",
       "    </tr>\n",
       "    <tr>\n",
       "      <th>1</th>\n",
       "      <td>2020</td>\n",
       "      <td>10</td>\n",
       "      <td>12</td>\n",
       "      <td>1</td>\n",
       "      <td>286</td>\n",
       "      <td>42</td>\n",
       "      <td>42</td>\n",
       "      <td>0</td>\n",
       "      <td>4</td>\n",
       "    </tr>\n",
       "    <tr>\n",
       "      <th>2</th>\n",
       "      <td>2020</td>\n",
       "      <td>10</td>\n",
       "      <td>2</td>\n",
       "      <td>23</td>\n",
       "      <td>276</td>\n",
       "      <td>40</td>\n",
       "      <td>40</td>\n",
       "      <td>4</td>\n",
       "      <td>4</td>\n",
       "    </tr>\n",
       "    <tr>\n",
       "      <th>3</th>\n",
       "      <td>2020</td>\n",
       "      <td>10</td>\n",
       "      <td>12</td>\n",
       "      <td>1</td>\n",
       "      <td>286</td>\n",
       "      <td>42</td>\n",
       "      <td>42</td>\n",
       "      <td>0</td>\n",
       "      <td>4</td>\n",
       "    </tr>\n",
       "    <tr>\n",
       "      <th>4</th>\n",
       "      <td>2020</td>\n",
       "      <td>10</td>\n",
       "      <td>12</td>\n",
       "      <td>1</td>\n",
       "      <td>286</td>\n",
       "      <td>42</td>\n",
       "      <td>42</td>\n",
       "      <td>0</td>\n",
       "      <td>4</td>\n",
       "    </tr>\n",
       "  </tbody>\n",
       "</table>\n",
       "</div>"
      ],
      "text/plain": [
       "   lyear  lmonth  lday  lhour  ldayofyear  lweek  lweekofyear  ldayofweek  \\\n",
       "0   2020      10    12      1         286     42           42           0   \n",
       "1   2020      10    12      1         286     42           42           0   \n",
       "2   2020      10     2     23         276     40           40           4   \n",
       "3   2020      10    12      1         286     42           42           0   \n",
       "4   2020      10    12      1         286     42           42           0   \n",
       "\n",
       "   lquarter  \n",
       "0         4  \n",
       "1         4  \n",
       "2         4  \n",
       "3         4  \n",
       "4         4  "
      ]
     },
     "execution_count": 42,
     "metadata": {},
     "output_type": "execute_result"
    }
   ],
   "source": [
    "l_date.head()"
   ]
  },
  {
   "cell_type": "code",
   "execution_count": 43,
   "metadata": {},
   "outputs": [],
   "source": [
    "diff_date=pd.DataFrame()\n"
   ]
  },
  {
   "cell_type": "code",
   "execution_count": 44,
   "metadata": {},
   "outputs": [],
   "source": [
    "diff_date['d_year']=l_date['lyear']-f_date['year'] \n",
    "diff_date['d_month']=l_date['lmonth']-f_date['month'] \n",
    "diff_date['d_day']=l_date['lday']-f_date['day'] \n",
    "diff_date['d_dayofweek']=l_date['ldayofweek']-f_date['dayofyear'] \n",
    "diff_date['d_week']=l_date['lweek']-f_date['week'] \n",
    "diff_date['d_weekofyear']=l_date['lweekofyear']-f_date['weekofyear'] \n",
    "diff_date['d_dayofyear']=l_date['ldayofweek']-f_date['dayofweek'] \n",
    "diff_date['d_quarter']=l_date['lquarter']-f_date['quarter'] \n"
   ]
  },
  {
   "cell_type": "code",
   "execution_count": 45,
   "metadata": {},
   "outputs": [
    {
     "data": {
      "text/html": [
       "<div>\n",
       "<style scoped>\n",
       "    .dataframe tbody tr th:only-of-type {\n",
       "        vertical-align: middle;\n",
       "    }\n",
       "\n",
       "    .dataframe tbody tr th {\n",
       "        vertical-align: top;\n",
       "    }\n",
       "\n",
       "    .dataframe thead th {\n",
       "        text-align: right;\n",
       "    }\n",
       "</style>\n",
       "<table border=\"1\" class=\"dataframe\">\n",
       "  <thead>\n",
       "    <tr style=\"text-align: right;\">\n",
       "      <th></th>\n",
       "      <th>d_year</th>\n",
       "      <th>d_month</th>\n",
       "      <th>d_day</th>\n",
       "      <th>d_dayofweek</th>\n",
       "      <th>d_week</th>\n",
       "      <th>d_weekofyear</th>\n",
       "      <th>d_dayofyear</th>\n",
       "      <th>d_quarter</th>\n",
       "    </tr>\n",
       "  </thead>\n",
       "  <tbody>\n",
       "    <tr>\n",
       "      <th>0</th>\n",
       "      <td>4</td>\n",
       "      <td>7</td>\n",
       "      <td>-10</td>\n",
       "      <td>-82</td>\n",
       "      <td>30</td>\n",
       "      <td>30</td>\n",
       "      <td>-1</td>\n",
       "      <td>3</td>\n",
       "    </tr>\n",
       "    <tr>\n",
       "      <th>1</th>\n",
       "      <td>2</td>\n",
       "      <td>7</td>\n",
       "      <td>3</td>\n",
       "      <td>-68</td>\n",
       "      <td>32</td>\n",
       "      <td>32</td>\n",
       "      <td>-4</td>\n",
       "      <td>3</td>\n",
       "    </tr>\n",
       "    <tr>\n",
       "      <th>2</th>\n",
       "      <td>0</td>\n",
       "      <td>7</td>\n",
       "      <td>-17</td>\n",
       "      <td>-75</td>\n",
       "      <td>28</td>\n",
       "      <td>28</td>\n",
       "      <td>1</td>\n",
       "      <td>3</td>\n",
       "    </tr>\n",
       "    <tr>\n",
       "      <th>3</th>\n",
       "      <td>2</td>\n",
       "      <td>6</td>\n",
       "      <td>-4</td>\n",
       "      <td>-106</td>\n",
       "      <td>26</td>\n",
       "      <td>26</td>\n",
       "      <td>0</td>\n",
       "      <td>2</td>\n",
       "    </tr>\n",
       "    <tr>\n",
       "      <th>4</th>\n",
       "      <td>2</td>\n",
       "      <td>7</td>\n",
       "      <td>3</td>\n",
       "      <td>-68</td>\n",
       "      <td>32</td>\n",
       "      <td>32</td>\n",
       "      <td>-4</td>\n",
       "      <td>3</td>\n",
       "    </tr>\n",
       "  </tbody>\n",
       "</table>\n",
       "</div>"
      ],
      "text/plain": [
       "   d_year  d_month  d_day  d_dayofweek  d_week  d_weekofyear  d_dayofyear  \\\n",
       "0       4        7    -10          -82      30            30           -1   \n",
       "1       2        7      3          -68      32            32           -4   \n",
       "2       0        7    -17          -75      28            28            1   \n",
       "3       2        6     -4         -106      26            26            0   \n",
       "4       2        7      3          -68      32            32           -4   \n",
       "\n",
       "   d_quarter  \n",
       "0          3  \n",
       "1          3  \n",
       "2          3  \n",
       "3          2  \n",
       "4          3  "
      ]
     },
     "execution_count": 45,
     "metadata": {},
     "output_type": "execute_result"
    }
   ],
   "source": [
    "diff_date.head()"
   ]
  },
  {
   "cell_type": "code",
   "execution_count": 46,
   "metadata": {},
   "outputs": [],
   "source": [
    "my_new_df=pd.concat([df['city'],coordinate_df,df['country'],df['count'],para_df,df['first_date_parsed'],f_date,df['last_date_parsed'],l_date],1)"
   ]
  },
  {
   "cell_type": "code",
   "execution_count": 47,
   "metadata": {},
   "outputs": [
    {
     "data": {
      "text/html": [
       "<div>\n",
       "<style scoped>\n",
       "    .dataframe tbody tr th:only-of-type {\n",
       "        vertical-align: middle;\n",
       "    }\n",
       "\n",
       "    .dataframe tbody tr th {\n",
       "        vertical-align: top;\n",
       "    }\n",
       "\n",
       "    .dataframe thead th {\n",
       "        text-align: right;\n",
       "    }\n",
       "</style>\n",
       "<table border=\"1\" class=\"dataframe\">\n",
       "  <thead>\n",
       "    <tr style=\"text-align: right;\">\n",
       "      <th></th>\n",
       "      <th>city</th>\n",
       "      <th>latitude</th>\n",
       "      <th>longitude</th>\n",
       "      <th>country</th>\n",
       "      <th>count</th>\n",
       "      <th>CO</th>\n",
       "      <th>NO2</th>\n",
       "      <th>O3</th>\n",
       "      <th>PM10</th>\n",
       "      <th>PM25</th>\n",
       "      <th>...</th>\n",
       "      <th>last_date_parsed</th>\n",
       "      <th>lyear</th>\n",
       "      <th>lmonth</th>\n",
       "      <th>lday</th>\n",
       "      <th>lhour</th>\n",
       "      <th>ldayofyear</th>\n",
       "      <th>lweek</th>\n",
       "      <th>lweekofyear</th>\n",
       "      <th>ldayofweek</th>\n",
       "      <th>lquarter</th>\n",
       "    </tr>\n",
       "  </thead>\n",
       "  <tbody>\n",
       "    <tr>\n",
       "      <th>0</th>\n",
       "      <td>Agra</td>\n",
       "      <td>27.19866</td>\n",
       "      <td>78.00598</td>\n",
       "      <td>IN</td>\n",
       "      <td>254365</td>\n",
       "      <td>{'parameter': 'co', 'count': 58297}</td>\n",
       "      <td>{'parameter': 'no2', 'count': 34395}</td>\n",
       "      <td>{'parameter': 'o3', 'count': 59990}</td>\n",
       "      <td>{'parameter': 'pm25', 'count': 58836}</td>\n",
       "      <td>{'parameter': 'so2', 'count': 42847}</td>\n",
       "      <td>...</td>\n",
       "      <td>2020-10-12 01:15:00+00:00</td>\n",
       "      <td>2020</td>\n",
       "      <td>10</td>\n",
       "      <td>12</td>\n",
       "      <td>1</td>\n",
       "      <td>286</td>\n",
       "      <td>42</td>\n",
       "      <td>42</td>\n",
       "      <td>0</td>\n",
       "      <td>4</td>\n",
       "    </tr>\n",
       "    <tr>\n",
       "      <th>1</th>\n",
       "      <td>Ahmedabad</td>\n",
       "      <td>23.00266</td>\n",
       "      <td>72.59191</td>\n",
       "      <td>IN</td>\n",
       "      <td>203548</td>\n",
       "      <td>{'parameter': 'co', 'count': 35733}</td>\n",
       "      <td>{'parameter': 'no2', 'count': 36040}</td>\n",
       "      <td>{'parameter': 'o3', 'count': 35820}</td>\n",
       "      <td>{'parameter': 'pm10', 'count': 24772}</td>\n",
       "      <td>{'parameter': 'pm25', 'count': 36064}</td>\n",
       "      <td>...</td>\n",
       "      <td>2020-10-12 01:15:00+00:00</td>\n",
       "      <td>2020</td>\n",
       "      <td>10</td>\n",
       "      <td>12</td>\n",
       "      <td>1</td>\n",
       "      <td>286</td>\n",
       "      <td>42</td>\n",
       "      <td>42</td>\n",
       "      <td>0</td>\n",
       "      <td>4</td>\n",
       "    </tr>\n",
       "    <tr>\n",
       "      <th>2</th>\n",
       "      <td>Aizawl</td>\n",
       "      <td>23.71763</td>\n",
       "      <td>92.71928</td>\n",
       "      <td>IN</td>\n",
       "      <td>29772</td>\n",
       "      <td>{'parameter': 'co', 'count': 4962}</td>\n",
       "      <td>{'parameter': 'no2', 'count': 4962}</td>\n",
       "      <td>{'parameter': 'o3', 'count': 4962}</td>\n",
       "      <td>{'parameter': 'pm10', 'count': 4962}</td>\n",
       "      <td>{'parameter': 'pm25', 'count': 4962}</td>\n",
       "      <td>...</td>\n",
       "      <td>2020-10-02 23:15:00+00:00</td>\n",
       "      <td>2020</td>\n",
       "      <td>10</td>\n",
       "      <td>2</td>\n",
       "      <td>23</td>\n",
       "      <td>276</td>\n",
       "      <td>40</td>\n",
       "      <td>40</td>\n",
       "      <td>4</td>\n",
       "      <td>4</td>\n",
       "    </tr>\n",
       "    <tr>\n",
       "      <th>3</th>\n",
       "      <td>Ajmer</td>\n",
       "      <td>26.47086</td>\n",
       "      <td>74.64659</td>\n",
       "      <td>IN</td>\n",
       "      <td>197564</td>\n",
       "      <td>{'parameter': 'co', 'count': 32985}</td>\n",
       "      <td>{'parameter': 'no2', 'count': 32988}</td>\n",
       "      <td>{'parameter': 'o3', 'count': 32636}</td>\n",
       "      <td>{'parameter': 'pm10', 'count': 32984}</td>\n",
       "      <td>{'parameter': 'pm25', 'count': 32977}</td>\n",
       "      <td>...</td>\n",
       "      <td>2020-10-12 01:00:00+00:00</td>\n",
       "      <td>2020</td>\n",
       "      <td>10</td>\n",
       "      <td>12</td>\n",
       "      <td>1</td>\n",
       "      <td>286</td>\n",
       "      <td>42</td>\n",
       "      <td>42</td>\n",
       "      <td>0</td>\n",
       "      <td>4</td>\n",
       "    </tr>\n",
       "    <tr>\n",
       "      <th>4</th>\n",
       "      <td>Alwar</td>\n",
       "      <td>27.55479</td>\n",
       "      <td>76.61153</td>\n",
       "      <td>IN</td>\n",
       "      <td>224411</td>\n",
       "      <td>{'parameter': 'co', 'count': 37576}</td>\n",
       "      <td>{'parameter': 'no2', 'count': 37588}</td>\n",
       "      <td>{'parameter': 'o3', 'count': 36592}</td>\n",
       "      <td>{'parameter': 'pm10', 'count': 37591}</td>\n",
       "      <td>{'parameter': 'pm25', 'count': 37530}</td>\n",
       "      <td>...</td>\n",
       "      <td>2020-10-12 01:15:00+00:00</td>\n",
       "      <td>2020</td>\n",
       "      <td>10</td>\n",
       "      <td>12</td>\n",
       "      <td>1</td>\n",
       "      <td>286</td>\n",
       "      <td>42</td>\n",
       "      <td>42</td>\n",
       "      <td>0</td>\n",
       "      <td>4</td>\n",
       "    </tr>\n",
       "  </tbody>\n",
       "</table>\n",
       "<p>5 rows × 31 columns</p>\n",
       "</div>"
      ],
      "text/plain": [
       "        city  latitude  longitude country   count  \\\n",
       "0       Agra  27.19866   78.00598      IN  254365   \n",
       "1  Ahmedabad  23.00266   72.59191      IN  203548   \n",
       "2     Aizawl  23.71763   92.71928      IN   29772   \n",
       "3      Ajmer  26.47086   74.64659      IN  197564   \n",
       "4      Alwar  27.55479   76.61153      IN  224411   \n",
       "\n",
       "                                    CO                                   NO2  \\\n",
       "0  {'parameter': 'co', 'count': 58297}  {'parameter': 'no2', 'count': 34395}   \n",
       "1  {'parameter': 'co', 'count': 35733}  {'parameter': 'no2', 'count': 36040}   \n",
       "2   {'parameter': 'co', 'count': 4962}   {'parameter': 'no2', 'count': 4962}   \n",
       "3  {'parameter': 'co', 'count': 32985}  {'parameter': 'no2', 'count': 32988}   \n",
       "4  {'parameter': 'co', 'count': 37576}  {'parameter': 'no2', 'count': 37588}   \n",
       "\n",
       "                                    O3                                   PM10  \\\n",
       "0  {'parameter': 'o3', 'count': 59990}  {'parameter': 'pm25', 'count': 58836}   \n",
       "1  {'parameter': 'o3', 'count': 35820}  {'parameter': 'pm10', 'count': 24772}   \n",
       "2   {'parameter': 'o3', 'count': 4962}   {'parameter': 'pm10', 'count': 4962}   \n",
       "3  {'parameter': 'o3', 'count': 32636}  {'parameter': 'pm10', 'count': 32984}   \n",
       "4  {'parameter': 'o3', 'count': 36592}  {'parameter': 'pm10', 'count': 37591}   \n",
       "\n",
       "                                    PM25  ...          last_date_parsed lyear  \\\n",
       "0   {'parameter': 'so2', 'count': 42847}  ... 2020-10-12 01:15:00+00:00  2020   \n",
       "1  {'parameter': 'pm25', 'count': 36064}  ... 2020-10-12 01:15:00+00:00  2020   \n",
       "2   {'parameter': 'pm25', 'count': 4962}  ... 2020-10-02 23:15:00+00:00  2020   \n",
       "3  {'parameter': 'pm25', 'count': 32977}  ... 2020-10-12 01:00:00+00:00  2020   \n",
       "4  {'parameter': 'pm25', 'count': 37530}  ... 2020-10-12 01:15:00+00:00  2020   \n",
       "\n",
       "   lmonth  lday  lhour  ldayofyear  lweek  lweekofyear  ldayofweek  lquarter  \n",
       "0      10    12      1         286     42           42           0         4  \n",
       "1      10    12      1         286     42           42           0         4  \n",
       "2      10     2     23         276     40           40           4         4  \n",
       "3      10    12      1         286     42           42           0         4  \n",
       "4      10    12      1         286     42           42           0         4  \n",
       "\n",
       "[5 rows x 31 columns]"
      ]
     },
     "execution_count": 47,
     "metadata": {},
     "output_type": "execute_result"
    }
   ],
   "source": [
    "my_new_df.head()"
   ]
  },
  {
   "cell_type": "code",
   "execution_count": 48,
   "metadata": {},
   "outputs": [],
   "source": [
    "my_new_df.to_csv('my_result.csv',index=False)"
   ]
  }
 ],
 "metadata": {
  "kernelspec": {
   "display_name": "Python 3",
   "language": "python",
   "name": "python3"
  },
  "language_info": {
   "codemirror_mode": {
    "name": "ipython",
    "version": 3
   },
   "file_extension": ".py",
   "mimetype": "text/x-python",
   "name": "python",
   "nbconvert_exporter": "python",
   "pygments_lexer": "ipython3",
   "version": "3.7.3"
  }
 },
 "nbformat": 4,
 "nbformat_minor": 2
}
