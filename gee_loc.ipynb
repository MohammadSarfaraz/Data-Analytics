{
  "nbformat": 4,
  "nbformat_minor": 0,
  "metadata": {
    "kernelspec": {
      "display_name": "GEE",
      "language": "python",
      "name": "gee"
    },
    "language_info": {
      "codemirror_mode": {
        "name": "ipython",
        "version": 3
      },
      "file_extension": ".py",
      "mimetype": "text/x-python",
      "name": "python",
      "nbconvert_exporter": "python",
      "pygments_lexer": "ipython3",
      "version": "3.7.3"
    },
    "colab": {
      "name": "gee_loc.ipynb",
      "provenance": [],
      "include_colab_link": true
    }
  },
  "cells": [
    {
      "cell_type": "markdown",
      "metadata": {
        "id": "view-in-github",
        "colab_type": "text"
      },
      "source": [
        "<a href=\"https://colab.research.google.com/github/MohammadSarfaraz/Data-Analytics/blob/main/gee_loc.ipynb\" target=\"_parent\"><img src=\"https://colab.research.google.com/assets/colab-badge.svg\" alt=\"Open In Colab\"/></a>"
      ]
    },
    {
      "cell_type": "markdown",
      "metadata": {
        "id": "51z9z8Fke3Le"
      },
      "source": [
        "# Assignment-2 \n"
      ]
    },
    {
      "cell_type": "markdown",
      "metadata": {
        "id": "6gBx5wI_e3Lg"
      },
      "source": [
        "### The task is related to geospatial data science.\n",
        "\n",
        "1. Find out the list of open source(free to use) remote sensing satellites that offers the data.\n",
        "2. Obtain the imagery data of your location, any of the service. eg copernicus  \n",
        "3. The output of your result is the final image of your location (or any location given by you).\n",
        "4. No further analysis is needed.\n"
      ]
    },
    {
      "cell_type": "markdown",
      "metadata": {
        "id": "w5bZrk1de3Lh"
      },
      "source": [
        "# Earth Engine Python API Colab Setup\n",
        "\n",
        "This notebook demonstrates how to setup the Earth Engine Python API in Colab and provides several examples of how to print and visualize Earth Engine processed data.\n",
        "\n",
        "\n",
        "### using cmd command-:\n",
        "* python -m ipykernel install --user --name GEE\n",
        "\n",
        "* conda install -c conda-forge earthengine-api\n",
        "\n",
        "\n",
        "\n",
        "## Import API and get credentials\n",
        "\n",
        "The Earth Engine API is installed by default in Google Colaboratory so requires only importing and authenticating. These steps must be completed for each new Colab session, if you restart your Colab kernel, or if your Colab virtual machine is recycled due to inactivity.\n",
        "\n",
        "### Import the API\n",
        "\n",
        "Run the following cell to import the API into your session."
      ]
    },
    {
      "cell_type": "code",
      "metadata": {
        "id": "8Lt_Wpo_e3Li"
      },
      "source": [
        "import ee"
      ],
      "execution_count": null,
      "outputs": []
    },
    {
      "cell_type": "code",
      "metadata": {
        "id": "piNeQa4ue3Ln",
        "outputId": "036fea19-6f8c-4bd1-f42b-34ebf9fd6f7e"
      },
      "source": [
        "print(ee)"
      ],
      "execution_count": null,
      "outputs": [
        {
          "output_type": "stream",
          "text": [
            "<module 'ee' from 'C:\\\\Users\\\\hp\\\\Anaconda3\\\\lib\\\\site-packages\\\\ee\\\\__init__.py'>\n"
          ],
          "name": "stdout"
        }
      ]
    },
    {
      "cell_type": "markdown",
      "metadata": {
        "id": "BnQOrJ7Ae3Lt"
      },
      "source": [
        "### Authenticate and initialize\n",
        "\n",
        "Run the `ee.Authenticate` function to authenticate your access to Earth Engine servers and `ee.Initialize` to initialize it. Upon running the following cell you'll be asked to grant Earth Engine access to your Google account. Follow the instructions printed to the cell."
      ]
    },
    {
      "cell_type": "code",
      "metadata": {
        "id": "5_bQsuTre3Lu"
      },
      "source": [
        "# Trigger the authentication flow.\n",
        "#ee.Authenticate()\n"
      ],
      "execution_count": null,
      "outputs": []
    },
    {
      "cell_type": "markdown",
      "metadata": {
        "id": "5SJJ3Pt5e3Ly"
      },
      "source": [
        "### Test the API\n",
        "\n",
        "Test the API by printing the elevation of Mount Everest."
      ]
    },
    {
      "cell_type": "code",
      "metadata": {
        "id": "6q8y0lNTe3Lz",
        "outputId": "52269a5b-395c-48ad-ec2f-4ccf2f1097d1"
      },
      "source": [
        "from IPython.display import Image\n",
        "ee.Initialize()\n",
        "\n",
        "# Print the elevation of Mount Everest.\n",
        "dem = ee.Image('USGS/SRTMGL1_003')\n",
        "xy = ee.Geometry.Point([86.9250, 27.9881])\n",
        "elev = dem.sample(xy, 30).first().get('elevation').getInfo()\n",
        "print('Mount Everest elevation (m):', elev)"
      ],
      "execution_count": null,
      "outputs": [
        {
          "output_type": "stream",
          "text": [
            "Mount Everest elevation (m): 8729\n"
          ],
          "name": "stdout"
        }
      ]
    },
    {
      "cell_type": "markdown",
      "metadata": {
        "id": "UbRmHEuXe3L5"
      },
      "source": [
        "## Map visualization\n",
        "\n",
        "`ee.Image` objects can be displayed to notebook output cells. The following two\n",
        "examples demonstrate displaying a static image and an interactive map.\n"
      ]
    },
    {
      "cell_type": "markdown",
      "metadata": {
        "id": "bBo7h6yge3L6"
      },
      "source": [
        "### Static image\n",
        "\n",
        "The `IPython.display` module contains the `Image` function, which can display\n",
        "the results of a URL representing an image generated from a call to the Earth\n",
        "Engine `getThumbUrl` function. The following cell will display a thumbnail\n",
        "of the global elevation model."
      ]
    },
    {
      "cell_type": "code",
      "metadata": {
        "id": "JUT4RKFpe3L7",
        "outputId": "53e5233f-dc08-4711-99c8-31181c47ff81"
      },
      "source": [
        "# Import the Image function from the IPython.display module. \n",
        "from IPython.display import Image\n",
        "\n",
        "# Display a thumbnail of global elevation.\n",
        "Image(url = dem.updateMask(dem.gt(0))\n",
        "  .getThumbURL({'min': 0, 'max': 4000, 'dimensions': 512,\n",
        "                'palette': ['006633', 'E5FFCC', '662A00', 'D8D8D8', 'F5F5F5']}))"
      ],
      "execution_count": null,
      "outputs": [
        {
          "output_type": "execute_result",
          "data": {
            "text/html": [
              "<img src=\"https://earthengine.googleapis.com/v1alpha/projects/earthengine-legacy/thumbnails/78cea7eedffa2e8002e2cb2c871f760e-b61dfa098acbad2f3e49f63b2fbdd279:getPixels\"/>"
            ],
            "text/plain": [
              "<IPython.core.display.Image object>"
            ]
          },
          "metadata": {
            "tags": []
          },
          "execution_count": 5
        }
      ]
    },
    {
      "cell_type": "markdown",
      "metadata": {
        "id": "S_43B78He3L_"
      },
      "source": [
        "### Interactive map\n",
        "\n",
        "The [`folium`](https://python-visualization.github.io/folium/)\n",
        "library can be used to display `ee.Image` objects on an interactive\n",
        "[Leaflet](https://leafletjs.com/) map. Folium has no default\n",
        "method for handling tiles from Earth Engine, so one must be defined\n",
        "and added to the `folium.Map` module before use.\n",
        "\n",
        "The following cell provides an example of adding a method for handing Earth Engine\n",
        "tiles and using it to display an elevation model to a Leaflet map."
      ]
    },
    {
      "cell_type": "code",
      "metadata": {
        "id": "Sq2nrTgqe3MA",
        "outputId": "4b93274d-a73f-4685-d666-596f3d22d47e"
      },
      "source": [
        "# Import the Folium library.\n",
        "import folium\n",
        "\n",
        "# Define a method for displaying Earth Engine image tiles to folium map.\n",
        "def add_ee_layer(self, ee_image_object, vis_params, name):\n",
        "  map_id_dict = ee.Image(ee_image_object).getMapId(vis_params)\n",
        "  folium.raster_layers.TileLayer(\n",
        "    tiles = map_id_dict['tile_fetcher'].url_format,\n",
        "    attr = 'Map Data &copy; <a href=\"https://earthengine.google.com/\">Google Earth Engine</a>',\n",
        "    name = name,\n",
        "    overlay = True,\n",
        "    control = True\n",
        "  ).add_to(self)\n",
        "\n",
        "# Add EE drawing method to folium.\n",
        "folium.Map.add_ee_layer = add_ee_layer\n",
        "\n",
        "# Set visualization parameters.\n",
        "vis_params = {\n",
        "  'min': 0,\n",
        "  'max': 4000,\n",
        "  'palette': ['006633', 'E5FFCC', '662A00', 'D8D8D8', 'F5F5F5']}\n",
        "\n",
        "# Create a folium map object.\n",
        "my_map = folium.Map(location=[20, 0], zoom_start=3, height=500)\n",
        "\n",
        "# Add the elevation model to the map object.\n",
        "my_map.add_ee_layer(dem.updateMask(dem.gt(0)), vis_params, 'DEM')\n",
        "\n",
        "# Add a layer control panel to the map.\n",
        "my_map.add_child(folium.LayerControl())\n",
        "\n",
        "# Display the map.\n",
        "display(my_map)"
      ],
      "execution_count": null,
      "outputs": [
        {
          "output_type": "display_data",
          "data": {
            "text/html": [
              "<div style=\"width:100%;\"><div style=\"position:relative;width:100%;height:0;padding-bottom:60%;\"><span style=\"color:#565656\">Make this Notebook Trusted to load map: File -> Trust Notebook</span><iframe src=\"about:blank\" style=\"position:absolute;width:100%;height:100%;left:0;top:0;border:none !important;\" data-html=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 onload=\"this.contentDocument.open();this.contentDocument.write(atob(this.getAttribute('data-html')));this.contentDocument.close();\" allowfullscreen webkitallowfullscreen mozallowfullscreen></iframe></div></div>"
            ],
            "text/plain": [
              "<folium.folium.Map at 0x15b70e88e80>"
            ]
          },
          "metadata": {
            "tags": []
          }
        }
      ]
    },
    {
      "cell_type": "markdown",
      "metadata": {
        "id": "3uTqEOnbe3ME"
      },
      "source": [
        "## Chart visualization\n",
        "\n",
        "Some Earth Engine functions produce tabular data that can be plotted by\n",
        "data visualization packages such as `matplotlib`. The following example\n",
        "demonstrates the display of tabular data from Earth Engine as a scatter\n",
        "plot. See [Charting in Colaboratory](https://colab.sandbox.google.com/notebooks/charts.ipynb)\n",
        "for more information."
      ]
    },
    {
      "cell_type": "code",
      "metadata": {
        "id": "a_hxZw2ue3MF",
        "outputId": "9d441a46-272a-47a9-be09-c7c9bdbcae53"
      },
      "source": [
        "# Import the matplotlib.pyplot module.\n",
        "import matplotlib.pyplot as plt\n",
        "\n",
        "# Fetch a Landsat image.\n",
        "img = ee.Image('LANDSAT/LT05/C01/T1_SR/LT05_034033_20000913')\n",
        "\n",
        "# Select Red and NIR bands, scale them, and sample 500 points.\n",
        "samp_fc = img.select(['B3','B4']).divide(10000).sample(scale=30, numPixels=500)\n",
        "\n",
        "# Arrange the sample as a list of lists.\n",
        "samp_dict = samp_fc.reduceColumns(ee.Reducer.toList().repeat(2), ['B3', 'B4'])\n",
        "samp_list = ee.List(samp_dict.get('list'))\n",
        "\n",
        "# Save server-side ee.List as a client-side Python list.\n",
        "samp_data = samp_list.getInfo()\n",
        "\n",
        "# Display a scatter plot of Red-NIR sample pairs using matplotlib.\n",
        "plt.scatter(samp_data[0], samp_data[1], alpha=0.2)\n",
        "plt.xlabel('Red', fontsize=12)\n",
        "plt.ylabel('NIR', fontsize=12)\n",
        "plt.show()"
      ],
      "execution_count": null,
      "outputs": [
        {
          "output_type": "display_data",
          "data": {
            "text/plain": [
              "<Figure size 640x480 with 1 Axes>"
            ]
          },
          "metadata": {
            "tags": []
          }
        }
      ]
    },
    {
      "cell_type": "markdown",
      "metadata": {
        "id": "5ujaXoJ4e3MK"
      },
      "source": [
        "## Extracting data on Total Annual Rainfall and Maximum EVI for a given year "
      ]
    },
    {
      "cell_type": "code",
      "metadata": {
        "id": "WYxcboe0e3ML",
        "outputId": "97f30b5d-ed07-4f7c-ba3f-1429013c3e58"
      },
      "source": [
        "import ee\n",
        "import pandas as pd\n",
        "\n",
        "ee.Initialize()\n",
        "\n",
        "# get states of India as a feature collection\n",
        "# states = ee.FeatureCollection('users/mdm/india_soiStates')\n",
        "districts = ee.FeatureCollection('users/mdm/za/za_districts')\n",
        "\n",
        "# Obtain daily rainfall data for 2018 and add it up to get tot. ann. rainfall\n",
        "chirps = ee.ImageCollection(\"UCSB-CHG/CHIRPS/DAILY\")\\\n",
        ".filterDate('2018-01-01', '2018-12-31')\\\n",
        ".sum()\n",
        "\n",
        "# Get MODIS 16-day Veg Indices dataset, select EVI for 2018, get median value\n",
        "evi = ee.ImageCollection('MODIS/006/MOD13A2')\\\n",
        ".select('EVI')\\\n",
        ".filterDate('2018-01-01', '2018-12-31')\\\n",
        ".max()\\\n",
        ".divide(10000)\n",
        "\n",
        "# Create a composite image with rainfall and evi as bands\n",
        "composite = ee.Image.cat([chirps, evi])\n",
        "\n",
        "# Extract median value of rainfall and evi for each state at a 5 km scale\n",
        "dist_stats = composite.reduceRegions(districts, 'median', 5000)\n",
        "\n",
        "# Rename feature properties, dump geometries and get dictionary\n",
        "dist_stats = dist_stats.select(['DISTRICT_N', 'precipitation', 'EVI'],\n",
        "                                 ['district', 'tot_rainfall', 'med_evi'],\n",
        "                                 retainGeometry=False).getInfo()\n",
        "\n",
        "# Convert dictionary into pandas dataframe\n",
        "dtstats_df = pd.DataFrame()\n",
        "for dist in dist_stats['features']:\n",
        "    df = pd.DataFrame([dist['properties']], columns=dist['properties'].keys())\n",
        "    dtstats_df = pd.concat([dtstats_df, df], axis=0)\n",
        "\n",
        "# Reorder columns in dataframe, sort by state name and reset index\n",
        "dtstats_df = dtstats_df[['district', 'tot_rainfall', 'med_evi']]\n",
        "dtstats_df = dtstats_df.sort_values(by=['district']).reset_index(drop=True)\n",
        "\n",
        "# change state names from upper case to title case!!\n",
        "dtstats_df['district'] = dtstats_df['district'].str.title()\n",
        "\n",
        "# display dataframe\n",
        "dtstats_df\n",
        "\n",
        "\n",
        "# # Export pandas dataframe to CSV\n",
        "# dtstats_df.to_csv('./dist_stats.csv', index=False)"
      ],
      "execution_count": null,
      "outputs": [
        {
          "output_type": "execute_result",
          "data": {
            "text/html": [
              "<div>\n",
              "<style scoped>\n",
              "    .dataframe tbody tr th:only-of-type {\n",
              "        vertical-align: middle;\n",
              "    }\n",
              "\n",
              "    .dataframe tbody tr th {\n",
              "        vertical-align: top;\n",
              "    }\n",
              "\n",
              "    .dataframe thead th {\n",
              "        text-align: right;\n",
              "    }\n",
              "</style>\n",
              "<table border=\"1\" class=\"dataframe\">\n",
              "  <thead>\n",
              "    <tr style=\"text-align: right;\">\n",
              "      <th></th>\n",
              "      <th>district</th>\n",
              "      <th>tot_rainfall</th>\n",
              "      <th>med_evi</th>\n",
              "    </tr>\n",
              "  </thead>\n",
              "  <tbody>\n",
              "    <tr>\n",
              "      <th>0</th>\n",
              "      <td>Alfred Nzo</td>\n",
              "      <td>785.515781</td>\n",
              "      <td>0.387722</td>\n",
              "    </tr>\n",
              "    <tr>\n",
              "      <th>1</th>\n",
              "      <td>Amajuba</td>\n",
              "      <td>675.467849</td>\n",
              "      <td>0.448054</td>\n",
              "    </tr>\n",
              "    <tr>\n",
              "      <th>2</th>\n",
              "      <td>Amathole</td>\n",
              "      <td>650.129219</td>\n",
              "      <td>0.420122</td>\n",
              "    </tr>\n",
              "    <tr>\n",
              "      <th>3</th>\n",
              "      <td>Bojanala</td>\n",
              "      <td>490.826156</td>\n",
              "      <td>0.358479</td>\n",
              "    </tr>\n",
              "    <tr>\n",
              "      <th>4</th>\n",
              "      <td>Buffalo City</td>\n",
              "      <td>620.396744</td>\n",
              "      <td>0.450135</td>\n",
              "    </tr>\n",
              "    <tr>\n",
              "      <th>5</th>\n",
              "      <td>Cacadu</td>\n",
              "      <td>347.632161</td>\n",
              "      <td>0.204925</td>\n",
              "    </tr>\n",
              "    <tr>\n",
              "      <th>6</th>\n",
              "      <td>Cape Winelands</td>\n",
              "      <td>269.560990</td>\n",
              "      <td>0.150458</td>\n",
              "    </tr>\n",
              "    <tr>\n",
              "      <th>7</th>\n",
              "      <td>Capricorn</td>\n",
              "      <td>387.629911</td>\n",
              "      <td>0.307675</td>\n",
              "    </tr>\n",
              "    <tr>\n",
              "      <th>8</th>\n",
              "      <td>Central Karoo</td>\n",
              "      <td>188.979677</td>\n",
              "      <td>0.099214</td>\n",
              "    </tr>\n",
              "    <tr>\n",
              "      <th>9</th>\n",
              "      <td>Chris Hani</td>\n",
              "      <td>497.791215</td>\n",
              "      <td>0.292200</td>\n",
              "    </tr>\n",
              "    <tr>\n",
              "      <th>10</th>\n",
              "      <td>City Of Cape Town</td>\n",
              "      <td>427.815502</td>\n",
              "      <td>0.326145</td>\n",
              "    </tr>\n",
              "    <tr>\n",
              "      <th>11</th>\n",
              "      <td>City Of Johannesburg</td>\n",
              "      <td>655.964403</td>\n",
              "      <td>0.311251</td>\n",
              "    </tr>\n",
              "    <tr>\n",
              "      <th>12</th>\n",
              "      <td>City Of Tshwane</td>\n",
              "      <td>604.591937</td>\n",
              "      <td>0.348861</td>\n",
              "    </tr>\n",
              "    <tr>\n",
              "      <th>13</th>\n",
              "      <td>Dr Kenneth Kaunda</td>\n",
              "      <td>501.447486</td>\n",
              "      <td>0.371728</td>\n",
              "    </tr>\n",
              "    <tr>\n",
              "      <th>14</th>\n",
              "      <td>Dr Ruth Segomotsi Mompati</td>\n",
              "      <td>404.385339</td>\n",
              "      <td>0.262632</td>\n",
              "    </tr>\n",
              "    <tr>\n",
              "      <th>15</th>\n",
              "      <td>Eden</td>\n",
              "      <td>373.510954</td>\n",
              "      <td>0.216999</td>\n",
              "    </tr>\n",
              "    <tr>\n",
              "      <th>16</th>\n",
              "      <td>Ehlanzeni</td>\n",
              "      <td>622.838001</td>\n",
              "      <td>0.424804</td>\n",
              "    </tr>\n",
              "    <tr>\n",
              "      <th>17</th>\n",
              "      <td>Ekurhuleni</td>\n",
              "      <td>627.488313</td>\n",
              "      <td>0.333000</td>\n",
              "    </tr>\n",
              "    <tr>\n",
              "      <th>18</th>\n",
              "      <td>Fezile Dabi</td>\n",
              "      <td>570.690440</td>\n",
              "      <td>0.405292</td>\n",
              "    </tr>\n",
              "    <tr>\n",
              "      <th>19</th>\n",
              "      <td>Frances Baard</td>\n",
              "      <td>393.599486</td>\n",
              "      <td>0.241560</td>\n",
              "    </tr>\n",
              "    <tr>\n",
              "      <th>20</th>\n",
              "      <td>Gert Sibande</td>\n",
              "      <td>702.124686</td>\n",
              "      <td>0.434613</td>\n",
              "    </tr>\n",
              "    <tr>\n",
              "      <th>21</th>\n",
              "      <td>Harry Gwala</td>\n",
              "      <td>793.705814</td>\n",
              "      <td>0.442426</td>\n",
              "    </tr>\n",
              "    <tr>\n",
              "      <th>22</th>\n",
              "      <td>Joe Gqabi</td>\n",
              "      <td>589.848372</td>\n",
              "      <td>0.288259</td>\n",
              "    </tr>\n",
              "    <tr>\n",
              "      <th>23</th>\n",
              "      <td>John Taolo Gaetsewe</td>\n",
              "      <td>352.762468</td>\n",
              "      <td>0.227085</td>\n",
              "    </tr>\n",
              "    <tr>\n",
              "      <th>24</th>\n",
              "      <td>Lejweleputswa</td>\n",
              "      <td>443.270679</td>\n",
              "      <td>0.333883</td>\n",
              "    </tr>\n",
              "    <tr>\n",
              "      <th>25</th>\n",
              "      <td>Mangaung</td>\n",
              "      <td>513.049984</td>\n",
              "      <td>0.323617</td>\n",
              "    </tr>\n",
              "    <tr>\n",
              "      <th>26</th>\n",
              "      <td>Mopani</td>\n",
              "      <td>571.418875</td>\n",
              "      <td>0.354488</td>\n",
              "    </tr>\n",
              "    <tr>\n",
              "      <th>27</th>\n",
              "      <td>Namakwa</td>\n",
              "      <td>130.929038</td>\n",
              "      <td>0.104595</td>\n",
              "    </tr>\n",
              "    <tr>\n",
              "      <th>28</th>\n",
              "      <td>Nelson Mandela Bay</td>\n",
              "      <td>414.277670</td>\n",
              "      <td>0.317038</td>\n",
              "    </tr>\n",
              "    <tr>\n",
              "      <th>29</th>\n",
              "      <td>Ngaka Modiri Molema</td>\n",
              "      <td>449.086935</td>\n",
              "      <td>0.344700</td>\n",
              "    </tr>\n",
              "    <tr>\n",
              "      <th>30</th>\n",
              "      <td>Nkangala</td>\n",
              "      <td>634.009762</td>\n",
              "      <td>0.373974</td>\n",
              "    </tr>\n",
              "    <tr>\n",
              "      <th>31</th>\n",
              "      <td>O.R.Tambo</td>\n",
              "      <td>824.990485</td>\n",
              "      <td>0.431773</td>\n",
              "    </tr>\n",
              "    <tr>\n",
              "      <th>32</th>\n",
              "      <td>Overberg</td>\n",
              "      <td>418.267813</td>\n",
              "      <td>0.357448</td>\n",
              "    </tr>\n",
              "    <tr>\n",
              "      <th>33</th>\n",
              "      <td>Pixley Ka Seme</td>\n",
              "      <td>239.055125</td>\n",
              "      <td>0.142541</td>\n",
              "    </tr>\n",
              "    <tr>\n",
              "      <th>34</th>\n",
              "      <td>Sedibeng</td>\n",
              "      <td>643.524329</td>\n",
              "      <td>0.405226</td>\n",
              "    </tr>\n",
              "    <tr>\n",
              "      <th>35</th>\n",
              "      <td>Sekhukhune</td>\n",
              "      <td>554.305505</td>\n",
              "      <td>0.311623</td>\n",
              "    </tr>\n",
              "    <tr>\n",
              "      <th>36</th>\n",
              "      <td>Thabo Mofutsanyane</td>\n",
              "      <td>637.577796</td>\n",
              "      <td>0.408182</td>\n",
              "    </tr>\n",
              "    <tr>\n",
              "      <th>37</th>\n",
              "      <td>Ugu</td>\n",
              "      <td>796.710577</td>\n",
              "      <td>0.504727</td>\n",
              "    </tr>\n",
              "    <tr>\n",
              "      <th>38</th>\n",
              "      <td>Umgungundlovu</td>\n",
              "      <td>766.998422</td>\n",
              "      <td>0.496866</td>\n",
              "    </tr>\n",
              "    <tr>\n",
              "      <th>39</th>\n",
              "      <td>Umkhanyakude</td>\n",
              "      <td>794.971397</td>\n",
              "      <td>0.493726</td>\n",
              "    </tr>\n",
              "    <tr>\n",
              "      <th>40</th>\n",
              "      <td>Umzinyathi</td>\n",
              "      <td>712.878116</td>\n",
              "      <td>0.426480</td>\n",
              "    </tr>\n",
              "    <tr>\n",
              "      <th>41</th>\n",
              "      <td>Uthukela</td>\n",
              "      <td>713.604266</td>\n",
              "      <td>0.438725</td>\n",
              "    </tr>\n",
              "    <tr>\n",
              "      <th>42</th>\n",
              "      <td>Uthungulu</td>\n",
              "      <td>925.414020</td>\n",
              "      <td>0.470621</td>\n",
              "    </tr>\n",
              "    <tr>\n",
              "      <th>43</th>\n",
              "      <td>Vhembe</td>\n",
              "      <td>467.927211</td>\n",
              "      <td>0.331257</td>\n",
              "    </tr>\n",
              "    <tr>\n",
              "      <th>44</th>\n",
              "      <td>Waterberg</td>\n",
              "      <td>409.091979</td>\n",
              "      <td>0.360532</td>\n",
              "    </tr>\n",
              "    <tr>\n",
              "      <th>45</th>\n",
              "      <td>West Coast</td>\n",
              "      <td>207.303748</td>\n",
              "      <td>0.216393</td>\n",
              "    </tr>\n",
              "    <tr>\n",
              "      <th>46</th>\n",
              "      <td>West Rand</td>\n",
              "      <td>593.744592</td>\n",
              "      <td>0.376275</td>\n",
              "    </tr>\n",
              "    <tr>\n",
              "      <th>47</th>\n",
              "      <td>Xhariep</td>\n",
              "      <td>403.087116</td>\n",
              "      <td>0.284099</td>\n",
              "    </tr>\n",
              "    <tr>\n",
              "      <th>48</th>\n",
              "      <td>Z F Mgcawu</td>\n",
              "      <td>166.975794</td>\n",
              "      <td>0.153301</td>\n",
              "    </tr>\n",
              "    <tr>\n",
              "      <th>49</th>\n",
              "      <td>Zululand</td>\n",
              "      <td>753.903985</td>\n",
              "      <td>0.426631</td>\n",
              "    </tr>\n",
              "    <tr>\n",
              "      <th>50</th>\n",
              "      <td>Ethekwini</td>\n",
              "      <td>814.219185</td>\n",
              "      <td>0.467362</td>\n",
              "    </tr>\n",
              "    <tr>\n",
              "      <th>51</th>\n",
              "      <td>Ilembe</td>\n",
              "      <td>771.319879</td>\n",
              "      <td>0.506060</td>\n",
              "    </tr>\n",
              "  </tbody>\n",
              "</table>\n",
              "</div>"
            ],
            "text/plain": [
              "                     district  tot_rainfall   med_evi\n",
              "0                  Alfred Nzo    785.515781  0.387722\n",
              "1                     Amajuba    675.467849  0.448054\n",
              "2                    Amathole    650.129219  0.420122\n",
              "3                    Bojanala    490.826156  0.358479\n",
              "4                Buffalo City    620.396744  0.450135\n",
              "5                      Cacadu    347.632161  0.204925\n",
              "6              Cape Winelands    269.560990  0.150458\n",
              "7                   Capricorn    387.629911  0.307675\n",
              "8               Central Karoo    188.979677  0.099214\n",
              "9                  Chris Hani    497.791215  0.292200\n",
              "10          City Of Cape Town    427.815502  0.326145\n",
              "11       City Of Johannesburg    655.964403  0.311251\n",
              "12            City Of Tshwane    604.591937  0.348861\n",
              "13          Dr Kenneth Kaunda    501.447486  0.371728\n",
              "14  Dr Ruth Segomotsi Mompati    404.385339  0.262632\n",
              "15                       Eden    373.510954  0.216999\n",
              "16                  Ehlanzeni    622.838001  0.424804\n",
              "17                 Ekurhuleni    627.488313  0.333000\n",
              "18                Fezile Dabi    570.690440  0.405292\n",
              "19              Frances Baard    393.599486  0.241560\n",
              "20               Gert Sibande    702.124686  0.434613\n",
              "21                Harry Gwala    793.705814  0.442426\n",
              "22                  Joe Gqabi    589.848372  0.288259\n",
              "23        John Taolo Gaetsewe    352.762468  0.227085\n",
              "24              Lejweleputswa    443.270679  0.333883\n",
              "25                   Mangaung    513.049984  0.323617\n",
              "26                     Mopani    571.418875  0.354488\n",
              "27                    Namakwa    130.929038  0.104595\n",
              "28         Nelson Mandela Bay    414.277670  0.317038\n",
              "29        Ngaka Modiri Molema    449.086935  0.344700\n",
              "30                   Nkangala    634.009762  0.373974\n",
              "31                  O.R.Tambo    824.990485  0.431773\n",
              "32                   Overberg    418.267813  0.357448\n",
              "33             Pixley Ka Seme    239.055125  0.142541\n",
              "34                   Sedibeng    643.524329  0.405226\n",
              "35                 Sekhukhune    554.305505  0.311623\n",
              "36         Thabo Mofutsanyane    637.577796  0.408182\n",
              "37                        Ugu    796.710577  0.504727\n",
              "38              Umgungundlovu    766.998422  0.496866\n",
              "39               Umkhanyakude    794.971397  0.493726\n",
              "40                 Umzinyathi    712.878116  0.426480\n",
              "41                   Uthukela    713.604266  0.438725\n",
              "42                  Uthungulu    925.414020  0.470621\n",
              "43                     Vhembe    467.927211  0.331257\n",
              "44                  Waterberg    409.091979  0.360532\n",
              "45                 West Coast    207.303748  0.216393\n",
              "46                  West Rand    593.744592  0.376275\n",
              "47                    Xhariep    403.087116  0.284099\n",
              "48                 Z F Mgcawu    166.975794  0.153301\n",
              "49                   Zululand    753.903985  0.426631\n",
              "50                  Ethekwini    814.219185  0.467362\n",
              "51                     Ilembe    771.319879  0.506060"
            ]
          },
          "metadata": {
            "tags": []
          },
          "execution_count": 8
        }
      ]
    },
    {
      "cell_type": "markdown",
      "metadata": {
        "id": "WXAnD6Kye3MQ"
      },
      "source": [
        "## Some actual EE code in Python! \n"
      ]
    },
    {
      "cell_type": "code",
      "metadata": {
        "id": "meptURVFe3MQ",
        "outputId": "a22a99be-2269-4a1b-f346-bdfd71308346"
      },
      "source": [
        "\n",
        "\n",
        "poi = ee.Geometry.Point([76.5384, 11.7253])\n",
        "\n",
        "\n",
        "s2 = ee.ImageCollection('COPERNICUS/S2').filterBounds(poi).filterDate('2019-02-20', '2019-02-28').min()\n",
        "\n",
        "# Specify visualisation parameters for Natural Colour and Short-wave Infrared images\n",
        "s2_rgb = ee.Image(s2).visualize(min=300, max=2800, bands=['B4', 'B3', 'B2'])\n",
        "s2_swir = ee.Image(s2).visualize(min=500, max=3300, bands=['B12', 'B8', 'B5'])\n",
        "\n",
        "# Create a folium basemap into which EE layers above will be added\n",
        "myMap = folium.Map(location=[11.70, 76.584], zoom_start=12, tiles='Stamen Terrain', control_scale=True, detect_retina=True)\n",
        "\n",
        "\n",
        "# Add a layer control widget to the map\n",
        "folium.LayerControl().add_to(myMap)\n",
        "\n",
        "\n",
        "\n",
        "# Show the map!\n",
        "myMap"
      ],
      "execution_count": null,
      "outputs": [
        {
          "output_type": "execute_result",
          "data": {
            "text/html": [
              "<div style=\"width:100%;\"><div style=\"position:relative;width:100%;height:0;padding-bottom:60%;\"><span style=\"color:#565656\">Make this Notebook Trusted to load map: File -> Trust Notebook</span><iframe src=\"about:blank\" style=\"position:absolute;width:100%;height:100%;left:0;top:0;border:none !important;\" data-html=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 onload=\"this.contentDocument.open();this.contentDocument.write(atob(this.getAttribute('data-html')));this.contentDocument.close();\" allowfullscreen webkitallowfullscreen mozallowfullscreen></iframe></div></div>"
            ],
            "text/plain": [
              "<folium.folium.Map at 0x15b7486a710>"
            ]
          },
          "metadata": {
            "tags": []
          },
          "execution_count": 9
        }
      ]
    },
    {
      "cell_type": "code",
      "metadata": {
        "id": "WagDp_Mee3MU"
      },
      "source": [
        ""
      ],
      "execution_count": null,
      "outputs": []
    }
  ]
}