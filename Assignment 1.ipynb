{
 "cells": [
  {
   "cell_type": "markdown",
   "metadata": {},
   "source": [
    "# Assignment -:Data Analytics"
   ]
  },
  {
   "cell_type": "markdown",
   "metadata": {},
   "source": [
    "Task:\n",
    "* Acquire data for Indian region from openAQ (or any other open api) the data is mainly about gases such as PM2.5, PM10, NO2, CO, SO2, Ozone and others. \n",
    "* You have to perform all this task using python/R language and make sure the data you fetch is of at least 100 records or more records for a period of time.\n",
    "* Its upto you that you are fetching the historical air quality data or live\n",
    "* Get the actual parameters PM2.5, PM10, NO2, CO, SO2, Ozone and region name \n",
    "* Perform exploratory data analysis.\n",
    "* Mine the data using any ML algorithm\n",
    "* Visualise the results.\n",
    "* The output of your work will be the python code that we will run and evaluate at our end.\n",
    "\n",
    "Note: \n",
    "1. You have to extract the data through API, not to use already available dataset.\n",
    "2. This assignment is to evaluate your basic data science skills, kindly read the steps and perform accordingly"
   ]
  },
  {
   "cell_type": "markdown",
   "metadata": {},
   "source": [
    "### Import all basic  lib necessary for data analysis "
   ]
  },
  {
   "cell_type": "code",
   "execution_count": 1,
   "metadata": {},
   "outputs": [],
   "source": [
    "import pandas as pd\n",
    "import numpy as np\n",
    "import seaborn as sns\n",
    "import matplotlib.pyplot as plt"
   ]
  },
  {
   "cell_type": "markdown",
   "metadata": {},
   "source": [
    "### Import all machine learning algo lib and splitting the data"
   ]
  },
  {
   "cell_type": "code",
   "execution_count": 2,
   "metadata": {},
   "outputs": [],
   "source": [
    "\n",
    "\n",
    "## Split the data \n",
    "from sklearn.model_selection import train_test_split \n",
    "\n",
    "#Learning done by Sklearn module\n",
    "from sklearn.tree import DecisionTreeClassifier\n",
    "from sklearn.linear_model import LogisticRegression\n",
    "from sklearn.svm import SVC\n",
    "from sklearn.ensemble import AdaBoostClassifier,BaggingClassifier,RandomForestClassifier"
   ]
  },
  {
   "cell_type": "markdown",
   "metadata": {},
   "source": [
    "### CSV Data Read using pandas.read_csv()"
   ]
  },
  {
   "cell_type": "code",
   "execution_count": 3,
   "metadata": {},
   "outputs": [],
   "source": [
    "df= pd.read_csv('openaq.csv')"
   ]
  },
  {
   "cell_type": "code",
   "execution_count": 4,
   "metadata": {},
   "outputs": [
    {
     "data": {
      "text/html": [
       "<div>\n",
       "<style scoped>\n",
       "    .dataframe tbody tr th:only-of-type {\n",
       "        vertical-align: middle;\n",
       "    }\n",
       "\n",
       "    .dataframe tbody tr th {\n",
       "        vertical-align: top;\n",
       "    }\n",
       "\n",
       "    .dataframe thead th {\n",
       "        text-align: right;\n",
       "    }\n",
       "</style>\n",
       "<table border=\"1\" class=\"dataframe\">\n",
       "  <thead>\n",
       "    <tr style=\"text-align: right;\">\n",
       "      <th></th>\n",
       "      <th>location</th>\n",
       "      <th>city</th>\n",
       "      <th>country</th>\n",
       "      <th>utc</th>\n",
       "      <th>local</th>\n",
       "      <th>parameter</th>\n",
       "      <th>value</th>\n",
       "      <th>unit</th>\n",
       "      <th>latitude</th>\n",
       "      <th>longitude</th>\n",
       "      <th>attribution</th>\n",
       "    </tr>\n",
       "  </thead>\n",
       "  <tbody>\n",
       "    <tr>\n",
       "      <th>0</th>\n",
       "      <td>Sanjay Palace, Agra - UPPCB</td>\n",
       "      <td>Agra</td>\n",
       "      <td>IN</td>\n",
       "      <td>2020-02-29T16:15:00Z</td>\n",
       "      <td>2020-02-29T21:45:00+05:30</td>\n",
       "      <td>pm25</td>\n",
       "      <td>61.0</td>\n",
       "      <td>µg/m³</td>\n",
       "      <td>27.198658</td>\n",
       "      <td>78.005981</td>\n",
       "      <td>[{\"url\":\"https://app.cpcbccr.com/ccr/#/caaqm-d...</td>\n",
       "    </tr>\n",
       "    <tr>\n",
       "      <th>1</th>\n",
       "      <td>Sanjay Palace, Agra - UPPCB</td>\n",
       "      <td>Agra</td>\n",
       "      <td>IN</td>\n",
       "      <td>2020-02-29T16:00:00Z</td>\n",
       "      <td>2020-02-29T21:30:00+05:30</td>\n",
       "      <td>so2</td>\n",
       "      <td>16.8</td>\n",
       "      <td>µg/m³</td>\n",
       "      <td>27.198658</td>\n",
       "      <td>78.005981</td>\n",
       "      <td>[{\"url\":\"https://app.cpcbccr.com/ccr/#/caaqm-d...</td>\n",
       "    </tr>\n",
       "    <tr>\n",
       "      <th>2</th>\n",
       "      <td>Sanjay Palace, Agra - UPPCB</td>\n",
       "      <td>Agra</td>\n",
       "      <td>IN</td>\n",
       "      <td>2020-02-29T16:00:00Z</td>\n",
       "      <td>2020-02-29T21:30:00+05:30</td>\n",
       "      <td>no2</td>\n",
       "      <td>55.1</td>\n",
       "      <td>µg/m³</td>\n",
       "      <td>27.198658</td>\n",
       "      <td>78.005981</td>\n",
       "      <td>[{\"url\":\"https://app.cpcbccr.com/ccr/#/caaqm-d...</td>\n",
       "    </tr>\n",
       "    <tr>\n",
       "      <th>3</th>\n",
       "      <td>Sanjay Palace, Agra - UPPCB</td>\n",
       "      <td>Agra</td>\n",
       "      <td>IN</td>\n",
       "      <td>2020-02-29T16:00:00Z</td>\n",
       "      <td>2020-02-29T21:30:00+05:30</td>\n",
       "      <td>pm25</td>\n",
       "      <td>60.0</td>\n",
       "      <td>µg/m³</td>\n",
       "      <td>27.198658</td>\n",
       "      <td>78.005981</td>\n",
       "      <td>[{\"url\":\"https://app.cpcbccr.com/ccr/#/caaqm-d...</td>\n",
       "    </tr>\n",
       "    <tr>\n",
       "      <th>4</th>\n",
       "      <td>Sanjay Palace, Agra - UPPCB</td>\n",
       "      <td>Agra</td>\n",
       "      <td>IN</td>\n",
       "      <td>2020-02-29T16:00:00Z</td>\n",
       "      <td>2020-02-29T21:30:00+05:30</td>\n",
       "      <td>co</td>\n",
       "      <td>1040.0</td>\n",
       "      <td>µg/m³</td>\n",
       "      <td>27.198658</td>\n",
       "      <td>78.005981</td>\n",
       "      <td>[{\"url\":\"https://app.cpcbccr.com/ccr/#/caaqm-d...</td>\n",
       "    </tr>\n",
       "  </tbody>\n",
       "</table>\n",
       "</div>"
      ],
      "text/plain": [
       "                      location  city country                   utc  \\\n",
       "0  Sanjay Palace, Agra - UPPCB  Agra      IN  2020-02-29T16:15:00Z   \n",
       "1  Sanjay Palace, Agra - UPPCB  Agra      IN  2020-02-29T16:00:00Z   \n",
       "2  Sanjay Palace, Agra - UPPCB  Agra      IN  2020-02-29T16:00:00Z   \n",
       "3  Sanjay Palace, Agra - UPPCB  Agra      IN  2020-02-29T16:00:00Z   \n",
       "4  Sanjay Palace, Agra - UPPCB  Agra      IN  2020-02-29T16:00:00Z   \n",
       "\n",
       "                       local parameter   value   unit   latitude  longitude  \\\n",
       "0  2020-02-29T21:45:00+05:30      pm25    61.0  µg/m³  27.198658  78.005981   \n",
       "1  2020-02-29T21:30:00+05:30       so2    16.8  µg/m³  27.198658  78.005981   \n",
       "2  2020-02-29T21:30:00+05:30       no2    55.1  µg/m³  27.198658  78.005981   \n",
       "3  2020-02-29T21:30:00+05:30      pm25    60.0  µg/m³  27.198658  78.005981   \n",
       "4  2020-02-29T21:30:00+05:30        co  1040.0  µg/m³  27.198658  78.005981   \n",
       "\n",
       "                                         attribution  \n",
       "0  [{\"url\":\"https://app.cpcbccr.com/ccr/#/caaqm-d...  \n",
       "1  [{\"url\":\"https://app.cpcbccr.com/ccr/#/caaqm-d...  \n",
       "2  [{\"url\":\"https://app.cpcbccr.com/ccr/#/caaqm-d...  \n",
       "3  [{\"url\":\"https://app.cpcbccr.com/ccr/#/caaqm-d...  \n",
       "4  [{\"url\":\"https://app.cpcbccr.com/ccr/#/caaqm-d...  "
      ]
     },
     "execution_count": 4,
     "metadata": {},
     "output_type": "execute_result"
    }
   ],
   "source": [
    "# Top five rows of data \n",
    "df.head()"
   ]
  },
  {
   "cell_type": "markdown",
   "metadata": {},
   "source": [
    "### Data Information like find out the null value exists in the dataset or not and index ranges from 0 to 65536"
   ]
  },
  {
   "cell_type": "code",
   "execution_count": 5,
   "metadata": {},
   "outputs": [
    {
     "name": "stdout",
     "output_type": "stream",
     "text": [
      "<class 'pandas.core.frame.DataFrame'>\n",
      "RangeIndex: 65536 entries, 0 to 65535\n",
      "Data columns (total 11 columns):\n",
      "location       65536 non-null object\n",
      "city           65536 non-null object\n",
      "country        65536 non-null object\n",
      "utc            65536 non-null object\n",
      "local          65536 non-null object\n",
      "parameter      65536 non-null object\n",
      "value          65536 non-null float64\n",
      "unit           65536 non-null object\n",
      "latitude       65536 non-null float64\n",
      "longitude      65536 non-null float64\n",
      "attribution    65536 non-null object\n",
      "dtypes: float64(3), object(8)\n",
      "memory usage: 5.5+ MB\n"
     ]
    }
   ],
   "source": [
    "df.info()"
   ]
  },
  {
   "cell_type": "markdown",
   "metadata": {},
   "source": [
    "* There is no null value exists in the datset"
   ]
  },
  {
   "cell_type": "markdown",
   "metadata": {},
   "source": [
    "### Data Description"
   ]
  },
  {
   "cell_type": "code",
   "execution_count": 6,
   "metadata": {},
   "outputs": [
    {
     "data": {
      "text/html": [
       "<div>\n",
       "<style scoped>\n",
       "    .dataframe tbody tr th:only-of-type {\n",
       "        vertical-align: middle;\n",
       "    }\n",
       "\n",
       "    .dataframe tbody tr th {\n",
       "        vertical-align: top;\n",
       "    }\n",
       "\n",
       "    .dataframe thead th {\n",
       "        text-align: right;\n",
       "    }\n",
       "</style>\n",
       "<table border=\"1\" class=\"dataframe\">\n",
       "  <thead>\n",
       "    <tr style=\"text-align: right;\">\n",
       "      <th></th>\n",
       "      <th>value</th>\n",
       "      <th>latitude</th>\n",
       "      <th>longitude</th>\n",
       "    </tr>\n",
       "  </thead>\n",
       "  <tbody>\n",
       "    <tr>\n",
       "      <th>count</th>\n",
       "      <td>65536.000000</td>\n",
       "      <td>6.553600e+04</td>\n",
       "      <td>6.553600e+04</td>\n",
       "    </tr>\n",
       "    <tr>\n",
       "      <th>mean</th>\n",
       "      <td>248.583125</td>\n",
       "      <td>2.719866e+01</td>\n",
       "      <td>7.800598e+01</td>\n",
       "    </tr>\n",
       "    <tr>\n",
       "      <th>std</th>\n",
       "      <td>661.345882</td>\n",
       "      <td>3.442606e-11</td>\n",
       "      <td>1.561785e-11</td>\n",
       "    </tr>\n",
       "    <tr>\n",
       "      <th>min</th>\n",
       "      <td>-3770.000000</td>\n",
       "      <td>2.719866e+01</td>\n",
       "      <td>7.800598e+01</td>\n",
       "    </tr>\n",
       "    <tr>\n",
       "      <th>25%</th>\n",
       "      <td>14.900000</td>\n",
       "      <td>2.719866e+01</td>\n",
       "      <td>7.800598e+01</td>\n",
       "    </tr>\n",
       "    <tr>\n",
       "      <th>50%</th>\n",
       "      <td>33.000000</td>\n",
       "      <td>2.719866e+01</td>\n",
       "      <td>7.800598e+01</td>\n",
       "    </tr>\n",
       "    <tr>\n",
       "      <th>75%</th>\n",
       "      <td>77.600000</td>\n",
       "      <td>2.719866e+01</td>\n",
       "      <td>7.800598e+01</td>\n",
       "    </tr>\n",
       "    <tr>\n",
       "      <th>max</th>\n",
       "      <td>9960.000000</td>\n",
       "      <td>2.719866e+01</td>\n",
       "      <td>7.800598e+01</td>\n",
       "    </tr>\n",
       "  </tbody>\n",
       "</table>\n",
       "</div>"
      ],
      "text/plain": [
       "              value      latitude     longitude\n",
       "count  65536.000000  6.553600e+04  6.553600e+04\n",
       "mean     248.583125  2.719866e+01  7.800598e+01\n",
       "std      661.345882  3.442606e-11  1.561785e-11\n",
       "min    -3770.000000  2.719866e+01  7.800598e+01\n",
       "25%       14.900000  2.719866e+01  7.800598e+01\n",
       "50%       33.000000  2.719866e+01  7.800598e+01\n",
       "75%       77.600000  2.719866e+01  7.800598e+01\n",
       "max     9960.000000  2.719866e+01  7.800598e+01"
      ]
     },
     "execution_count": 6,
     "metadata": {},
     "output_type": "execute_result"
    }
   ],
   "source": [
    "df.describe()"
   ]
  },
  {
   "cell_type": "markdown",
   "metadata": {},
   "source": [
    "* The data is related to specific city hence latitude and longitude value remain same while parameter value will be changed which is in unit  µg/m³  "
   ]
  },
  {
   "cell_type": "code",
   "execution_count": 7,
   "metadata": {},
   "outputs": [
    {
     "data": {
      "text/plain": [
       "Index(['location', 'city', 'country', 'utc', 'local', 'parameter', 'value',\n",
       "       'unit', 'latitude', 'longitude', 'attribution'],\n",
       "      dtype='object')"
      ]
     },
     "execution_count": 7,
     "metadata": {},
     "output_type": "execute_result"
    }
   ],
   "source": [
    "# All name of  Columns  define in the dataset\n",
    "df.columns"
   ]
  },
  {
   "cell_type": "markdown",
   "metadata": {},
   "source": [
    "### Actual parameters PM2.5, PM10, NO2, CO, SO2, Ozone and region name"
   ]
  },
  {
   "cell_type": "markdown",
   "metadata": {},
   "source": [
    "*  Here i am using region India place Agra  and there param  like PM2.5, PM10, NO2, CO, SO2, Ozone are in this region only"
   ]
  },
  {
   "cell_type": "code",
   "execution_count": 8,
   "metadata": {},
   "outputs": [
    {
     "name": "stdout",
     "output_type": "stream",
     "text": [
      " Place:  ['Agra']\n"
     ]
    }
   ],
   "source": [
    "print(\" Place: \",df['city'].unique())"
   ]
  },
  {
   "cell_type": "code",
   "execution_count": 9,
   "metadata": {},
   "outputs": [
    {
     "name": "stdout",
     "output_type": "stream",
     "text": [
      "Country:  ['IN']\n"
     ]
    }
   ],
   "source": [
    "print(\"Country: \",df['country'].unique())"
   ]
  },
  {
   "cell_type": "markdown",
   "metadata": {},
   "source": [
    "* Country of data India i.e IN"
   ]
  },
  {
   "cell_type": "markdown",
   "metadata": {},
   "source": [
    "## Visual  Exploratory Data Analysis (EDA)"
   ]
  },
  {
   "cell_type": "code",
   "execution_count": 10,
   "metadata": {},
   "outputs": [
    {
     "data": {
      "text/plain": [
       "<matplotlib.axes._subplots.AxesSubplot at 0x21ef6ead400>"
      ]
     },
     "execution_count": 10,
     "metadata": {},
     "output_type": "execute_result"
    },
    {
     "data": {
      "image/png": "[encoded data removed]",
      "text/plain": [
       "<Figure size 432x288 with 1 Axes>"
      ]
     },
     "metadata": {
      "needs_background": "light"
     },
     "output_type": "display_data"
    }
   ],
   "source": [
    "# Count the range of Parameters like PM2.5, PM10, NO2, CO, SO2 and Ozone\n",
    "sns.countplot(df['parameter'])"
   ]
  },
  {
   "cell_type": "markdown",
   "metadata": {},
   "source": [
    "### Histogram Chart"
   ]
  },
  {
   "cell_type": "code",
   "execution_count": 11,
   "metadata": {},
   "outputs": [
    {
     "data": {
      "text/plain": [
       "<matplotlib.axes._subplots.AxesSubplot at 0x21ef6eadba8>"
      ]
     },
     "execution_count": 11,
     "metadata": {},
     "output_type": "execute_result"
    },
    {
     "data": {
      "image/png": "[encoded data removed]",
      "text/plain": [
       "<Figure size 432x288 with 1 Axes>"
      ]
     },
     "metadata": {
      "needs_background": "light"
     },
     "output_type": "display_data"
    }
   ],
   "source": [
    "df['value'].hist()"
   ]
  },
  {
   "cell_type": "markdown",
   "metadata": {},
   "source": [
    "### Seaborn boxplot find the outleirs exists in the dataset in value "
   ]
  },
  {
   "cell_type": "code",
   "execution_count": 12,
   "metadata": {},
   "outputs": [
    {
     "name": "stdout",
     "output_type": "stream",
     "text": [
      "AxesSubplot(0.125,0.125;0.775x0.755)\n"
     ]
    },
    {
     "data": {
      "image/png": "[encoded data removed]",
      "text/plain": [
       "<Figure size 432x288 with 1 Axes>"
      ]
     },
     "metadata": {
      "needs_background": "light"
     },
     "output_type": "display_data"
    }
   ],
   "source": [
    "print(sns.boxplot(df['value']))"
   ]
  },
  {
   "cell_type": "markdown",
   "metadata": {},
   "source": [
    "* Here are many outlayer exists in the dataset After remove some data from negative ranges beyond -2000 and positive after 8000 so that some outleirs remove in our dataset remain will be store in dataformate"
   ]
  },
  {
   "cell_type": "code",
   "execution_count": 13,
   "metadata": {},
   "outputs": [
    {
     "name": "stdout",
     "output_type": "stream",
     "text": [
      "AxesSubplot(0.125,0.125;0.775x0.755)\n"
     ]
    },
    {
     "data": {
      "image/png": "[encoded data removed]",
      "text/plain": [
       "<Figure size 432x288 with 1 Axes>"
      ]
     },
     "metadata": {
      "needs_background": "light"
     },
     "output_type": "display_data"
    }
   ],
   "source": [
    "df = df[df['value']>=-2000]\n",
    "df= df[df['value']<=8000]\n",
    "print(sns.boxplot(df['value']))"
   ]
  },
  {
   "cell_type": "markdown",
   "metadata": {},
   "source": [
    "### Rows and col of our dataset after removing outliers present in our data"
   ]
  },
  {
   "cell_type": "code",
   "execution_count": 14,
   "metadata": {},
   "outputs": [
    {
     "data": {
      "text/plain": [
       "(65504, 11)"
      ]
     },
     "execution_count": 14,
     "metadata": {},
     "output_type": "execute_result"
    }
   ],
   "source": [
    "df.shape"
   ]
  },
  {
   "cell_type": "markdown",
   "metadata": {},
   "source": [
    "* here are the new dataset  after removing some rows in the dataset  some outleir also remove from data"
   ]
  },
  {
   "cell_type": "markdown",
   "metadata": {},
   "source": [
    "### Maximum Value in value col related to parameter like co,so2,pm25,no2 and o3"
   ]
  },
  {
   "cell_type": "code",
   "execution_count": 15,
   "metadata": {},
   "outputs": [
    {
     "data": {
      "text/plain": [
       "parameter\n",
       "co      7930.0\n",
       "no2      118.1\n",
       "o3       407.7\n",
       "pm25     465.0\n",
       "so2     1662.7\n",
       "Name: value, dtype: float64"
      ]
     },
     "execution_count": 15,
     "metadata": {},
     "output_type": "execute_result"
    }
   ],
   "source": [
    "df.groupby(df['parameter']).value.max()"
   ]
  },
  {
   "cell_type": "code",
   "execution_count": 16,
   "metadata": {},
   "outputs": [
    {
     "data": {
      "text/plain": [
       "Text(0, 0.5, 'Sum of value')"
      ]
     },
     "execution_count": 16,
     "metadata": {},
     "output_type": "execute_result"
    },
    {
     "data": {
      "image/png": "[encoded data removed]",
      "text/plain": [
       "<Figure size 432x288 with 1 Axes>"
      ]
     },
     "metadata": {
      "needs_background": "light"
     },
     "output_type": "display_data"
    }
   ],
   "source": [
    "plt.plot(df.groupby(df['parameter']).value.max())\n",
    "plt.title('Parameter And It Sum of Values')\n",
    "plt.xlabel('Parameter')\n",
    "plt.ylabel('Sum of value')"
   ]
  },
  {
   "cell_type": "markdown",
   "metadata": {},
   "source": [
    "* It is observe that parameter having max value is CO and least is no2 "
   ]
  },
  {
   "cell_type": "code",
   "execution_count": 17,
   "metadata": {},
   "outputs": [
    {
     "data": {
      "text/plain": [
       "array(['pm25', 'so2', 'no2', 'co', 'o3'], dtype=object)"
      ]
     },
     "execution_count": 17,
     "metadata": {},
     "output_type": "execute_result"
    }
   ],
   "source": [
    "# all param value\n",
    "df['parameter'].unique()"
   ]
  },
  {
   "cell_type": "markdown",
   "metadata": {},
   "source": [
    "Plotting of each parameter one by one with related to its range of value"
   ]
  },
  {
   "cell_type": "code",
   "execution_count": 18,
   "metadata": {},
   "outputs": [
    {
     "data": {
      "text/plain": [
       "Text(0, 0.5, 'Range of value')"
      ]
     },
     "execution_count": 18,
     "metadata": {},
     "output_type": "execute_result"
    },
    {
     "data": {
      "image/png": "[encoded data removed]",
      "text/plain": [
       "<Figure size 432x288 with 1 Axes>"
      ]
     },
     "metadata": {
      "needs_background": "light"
     },
     "output_type": "display_data"
    }
   ],
   "source": [
    "# Plotting of each param of co with relate to its value in  µg/m³\n",
    "plt.hist(df.loc[df['parameter']=='co']['value'])\n",
    "plt.title('Relationship bet Parameter CO and Range of Value')\n",
    "plt.xlabel('Co')\n",
    "plt.ylabel('Range of value')"
   ]
  },
  {
   "cell_type": "code",
   "execution_count": 19,
   "metadata": {},
   "outputs": [
    {
     "data": {
      "text/plain": [
       "Text(0, 0.5, 'Range of value')"
      ]
     },
     "execution_count": 19,
     "metadata": {},
     "output_type": "execute_result"
    },
    {
     "data": {
      "image/png": "[encoded data removed]",
      "text/plain": [
       "<Figure size 432x288 with 1 Axes>"
      ]
     },
     "metadata": {
      "needs_background": "light"
     },
     "output_type": "display_data"
    }
   ],
   "source": [
    "# Plotting of each param of so2 with relate to its value in  µg/m³\n",
    "\n",
    "plt.hist(df.loc[df['parameter']=='so2']['value'])\n",
    "plt.title('Relationship bet Parameter SO2 and Range of Value')\n",
    "plt.xlabel('SO2')\n",
    "plt.ylabel('Range of value')"
   ]
  },
  {
   "cell_type": "code",
   "execution_count": 20,
   "metadata": {},
   "outputs": [
    {
     "data": {
      "text/plain": [
       "Text(0, 0.5, 'Range of value')"
      ]
     },
     "execution_count": 20,
     "metadata": {},
     "output_type": "execute_result"
    },
    {
     "data": {
      "image/png": "[encoded data removed]",
      "text/plain": [
       "<Figure size 432x288 with 1 Axes>"
      ]
     },
     "metadata": {
      "needs_background": "light"
     },
     "output_type": "display_data"
    }
   ],
   "source": [
    "# Plotting of each param of no2 with relate to its value in  µg/m³\n",
    "\n",
    "plt.hist(df.loc[df['parameter']=='no2']['value'])\n",
    "plt.title('Relationship bet Parameter NO2 and Range of Value')\n",
    "plt.xlabel('NO2')\n",
    "plt.ylabel('Range of value')"
   ]
  },
  {
   "cell_type": "code",
   "execution_count": 21,
   "metadata": {},
   "outputs": [
    {
     "data": {
      "text/plain": [
       "Text(0, 0.5, 'Range of value')"
      ]
     },
     "execution_count": 21,
     "metadata": {},
     "output_type": "execute_result"
    },
    {
     "data": {
      "image/png": "[encoded data removed]",
      "text/plain": [
       "<Figure size 432x288 with 1 Axes>"
      ]
     },
     "metadata": {
      "needs_background": "light"
     },
     "output_type": "display_data"
    }
   ],
   "source": [
    "# Plotting of each param of pm25 with relate to its value in  µg/m³\n",
    "\n",
    "plt.hist(df.loc[df['parameter']=='pm25']['value'])\n",
    "plt.title('Relationship bet Parameter PM25 and Range of Value')\n",
    "plt.xlabel('PM25')\n",
    "plt.ylabel('Range of value')"
   ]
  },
  {
   "cell_type": "code",
   "execution_count": 22,
   "metadata": {},
   "outputs": [
    {
     "data": {
      "text/plain": [
       "Text(0, 0.5, 'Range of value')"
      ]
     },
     "execution_count": 22,
     "metadata": {},
     "output_type": "execute_result"
    },
    {
     "data": {
      "image/png": "[encoded data removed]",
      "text/plain": [
       "<Figure size 432x288 with 1 Axes>"
      ]
     },
     "metadata": {
      "needs_background": "light"
     },
     "output_type": "display_data"
    }
   ],
   "source": [
    "# Plotting of each param of o3 with relate to its value in  µg/m³\n",
    "\n",
    "plt.hist(df.loc[df['parameter']=='o3']['value'])\n",
    "plt.title('Relationship bet Parameter O3 and Range of Value')\n",
    "plt.xlabel('Ozone/ O3')\n",
    "plt.ylabel('Range of value')"
   ]
  },
  {
   "cell_type": "markdown",
   "metadata": {},
   "source": [
    "### Date from where it start and end for the datset"
   ]
  },
  {
   "cell_type": "code",
   "execution_count": 23,
   "metadata": {},
   "outputs": [
    {
     "name": "stdout",
     "output_type": "stream",
     "text": [
      "Date Starting from: 2019-08-23T09:00:00+05:30\n",
      "Date Ending to:  2020-02-29T21:45:00+05:30\n"
     ]
    }
   ],
   "source": [
    "\n",
    "print(\"Date Starting from:\",df['local'][65535])\n",
    "print(\"Date Ending to: \",df['local'][0])"
   ]
  },
  {
   "cell_type": "markdown",
   "metadata": {},
   "source": [
    "### Convert local col to datetime formate and store in new col date_parsed"
   ]
  },
  {
   "cell_type": "code",
   "execution_count": 24,
   "metadata": {},
   "outputs": [
    {
     "data": {
      "text/html": [
       "<div>\n",
       "<style scoped>\n",
       "    .dataframe tbody tr th:only-of-type {\n",
       "        vertical-align: middle;\n",
       "    }\n",
       "\n",
       "    .dataframe tbody tr th {\n",
       "        vertical-align: top;\n",
       "    }\n",
       "\n",
       "    .dataframe thead th {\n",
       "        text-align: right;\n",
       "    }\n",
       "</style>\n",
       "<table border=\"1\" class=\"dataframe\">\n",
       "  <thead>\n",
       "    <tr style=\"text-align: right;\">\n",
       "      <th></th>\n",
       "      <th>location</th>\n",
       "      <th>city</th>\n",
       "      <th>country</th>\n",
       "      <th>utc</th>\n",
       "      <th>local</th>\n",
       "      <th>parameter</th>\n",
       "      <th>value</th>\n",
       "      <th>unit</th>\n",
       "      <th>latitude</th>\n",
       "      <th>longitude</th>\n",
       "      <th>attribution</th>\n",
       "      <th>date_parsed</th>\n",
       "    </tr>\n",
       "  </thead>\n",
       "  <tbody>\n",
       "    <tr>\n",
       "      <th>0</th>\n",
       "      <td>Sanjay Palace, Agra - UPPCB</td>\n",
       "      <td>Agra</td>\n",
       "      <td>IN</td>\n",
       "      <td>2020-02-29T16:15:00Z</td>\n",
       "      <td>2020-02-29T21:45:00+05:30</td>\n",
       "      <td>pm25</td>\n",
       "      <td>61.0</td>\n",
       "      <td>µg/m³</td>\n",
       "      <td>27.198658</td>\n",
       "      <td>78.005981</td>\n",
       "      <td>[{\"url\":\"https://app.cpcbccr.com/ccr/#/caaqm-d...</td>\n",
       "      <td>2020-02-29 21:45:00+05:30</td>\n",
       "    </tr>\n",
       "    <tr>\n",
       "      <th>1</th>\n",
       "      <td>Sanjay Palace, Agra - UPPCB</td>\n",
       "      <td>Agra</td>\n",
       "      <td>IN</td>\n",
       "      <td>2020-02-29T16:00:00Z</td>\n",
       "      <td>2020-02-29T21:30:00+05:30</td>\n",
       "      <td>so2</td>\n",
       "      <td>16.8</td>\n",
       "      <td>µg/m³</td>\n",
       "      <td>27.198658</td>\n",
       "      <td>78.005981</td>\n",
       "      <td>[{\"url\":\"https://app.cpcbccr.com/ccr/#/caaqm-d...</td>\n",
       "      <td>2020-02-29 21:30:00+05:30</td>\n",
       "    </tr>\n",
       "    <tr>\n",
       "      <th>2</th>\n",
       "      <td>Sanjay Palace, Agra - UPPCB</td>\n",
       "      <td>Agra</td>\n",
       "      <td>IN</td>\n",
       "      <td>2020-02-29T16:00:00Z</td>\n",
       "      <td>2020-02-29T21:30:00+05:30</td>\n",
       "      <td>no2</td>\n",
       "      <td>55.1</td>\n",
       "      <td>µg/m³</td>\n",
       "      <td>27.198658</td>\n",
       "      <td>78.005981</td>\n",
       "      <td>[{\"url\":\"https://app.cpcbccr.com/ccr/#/caaqm-d...</td>\n",
       "      <td>2020-02-29 21:30:00+05:30</td>\n",
       "    </tr>\n",
       "    <tr>\n",
       "      <th>3</th>\n",
       "      <td>Sanjay Palace, Agra - UPPCB</td>\n",
       "      <td>Agra</td>\n",
       "      <td>IN</td>\n",
       "      <td>2020-02-29T16:00:00Z</td>\n",
       "      <td>2020-02-29T21:30:00+05:30</td>\n",
       "      <td>pm25</td>\n",
       "      <td>60.0</td>\n",
       "      <td>µg/m³</td>\n",
       "      <td>27.198658</td>\n",
       "      <td>78.005981</td>\n",
       "      <td>[{\"url\":\"https://app.cpcbccr.com/ccr/#/caaqm-d...</td>\n",
       "      <td>2020-02-29 21:30:00+05:30</td>\n",
       "    </tr>\n",
       "    <tr>\n",
       "      <th>4</th>\n",
       "      <td>Sanjay Palace, Agra - UPPCB</td>\n",
       "      <td>Agra</td>\n",
       "      <td>IN</td>\n",
       "      <td>2020-02-29T16:00:00Z</td>\n",
       "      <td>2020-02-29T21:30:00+05:30</td>\n",
       "      <td>co</td>\n",
       "      <td>1040.0</td>\n",
       "      <td>µg/m³</td>\n",
       "      <td>27.198658</td>\n",
       "      <td>78.005981</td>\n",
       "      <td>[{\"url\":\"https://app.cpcbccr.com/ccr/#/caaqm-d...</td>\n",
       "      <td>2020-02-29 21:30:00+05:30</td>\n",
       "    </tr>\n",
       "  </tbody>\n",
       "</table>\n",
       "</div>"
      ],
      "text/plain": [
       "                      location  city country                   utc  \\\n",
       "0  Sanjay Palace, Agra - UPPCB  Agra      IN  2020-02-29T16:15:00Z   \n",
       "1  Sanjay Palace, Agra - UPPCB  Agra      IN  2020-02-29T16:00:00Z   \n",
       "2  Sanjay Palace, Agra - UPPCB  Agra      IN  2020-02-29T16:00:00Z   \n",
       "3  Sanjay Palace, Agra - UPPCB  Agra      IN  2020-02-29T16:00:00Z   \n",
       "4  Sanjay Palace, Agra - UPPCB  Agra      IN  2020-02-29T16:00:00Z   \n",
       "\n",
       "                       local parameter   value   unit   latitude  longitude  \\\n",
       "0  2020-02-29T21:45:00+05:30      pm25    61.0  µg/m³  27.198658  78.005981   \n",
       "1  2020-02-29T21:30:00+05:30       so2    16.8  µg/m³  27.198658  78.005981   \n",
       "2  2020-02-29T21:30:00+05:30       no2    55.1  µg/m³  27.198658  78.005981   \n",
       "3  2020-02-29T21:30:00+05:30      pm25    60.0  µg/m³  27.198658  78.005981   \n",
       "4  2020-02-29T21:30:00+05:30        co  1040.0  µg/m³  27.198658  78.005981   \n",
       "\n",
       "                                         attribution               date_parsed  \n",
       "0  [{\"url\":\"https://app.cpcbccr.com/ccr/#/caaqm-d... 2020-02-29 21:45:00+05:30  \n",
       "1  [{\"url\":\"https://app.cpcbccr.com/ccr/#/caaqm-d... 2020-02-29 21:30:00+05:30  \n",
       "2  [{\"url\":\"https://app.cpcbccr.com/ccr/#/caaqm-d... 2020-02-29 21:30:00+05:30  \n",
       "3  [{\"url\":\"https://app.cpcbccr.com/ccr/#/caaqm-d... 2020-02-29 21:30:00+05:30  \n",
       "4  [{\"url\":\"https://app.cpcbccr.com/ccr/#/caaqm-d... 2020-02-29 21:30:00+05:30  "
      ]
     },
     "execution_count": 24,
     "metadata": {},
     "output_type": "execute_result"
    }
   ],
   "source": [
    "df['date_parsed'] = pd.to_datetime(df['local'])\n",
    "df.head()"
   ]
  },
  {
   "cell_type": "markdown",
   "metadata": {},
   "source": [
    "### Timestamp Data"
   ]
  },
  {
   "cell_type": "markdown",
   "metadata": {},
   "source": [
    "Once we have our dates in the Timestamp format, we can extract a variety of properties like the year, month and day. Converting dates into several simpler features can make the data easier to analyze and use in predictive models. Access date properties from a Series of Timestamps with the syntax: Series.dt.property. To illustrate, let's extract some features from the first column of our date data and put them in a new DataFrame:\n",
    "\n"
   ]
  },
  {
   "cell_type": "code",
   "execution_count": 25,
   "metadata": {},
   "outputs": [],
   "source": [
    "my_date =pd.DataFrame({\"year\": df['date_parsed'].dt.year,\n",
    "              \"month\":df['date_parsed'].dt.month,\n",
    "              \"day\": df['date_parsed'].dt.day,\n",
    "              \"hour\": df['date_parsed'].dt.hour,\n",
    "              \"dayofyear\": df['date_parsed'].dt.dayofyear,\n",
    "              \"week\": df['date_parsed'].dt.week,\n",
    "              \"weekofyear\": df['date_parsed'].dt.weekofyear,\n",
    "              \"dayofweek\": df['date_parsed'].dt.dayofweek,\n",
    "              \"weekday\": df['date_parsed'].dt.weekday,\n",
    "              \"quarter\": df['date_parsed'].dt.quarter,\n",
    "             })\n"
   ]
  },
  {
   "cell_type": "code",
   "execution_count": 26,
   "metadata": {},
   "outputs": [
    {
     "data": {
      "text/html": [
       "<div>\n",
       "<style scoped>\n",
       "    .dataframe tbody tr th:only-of-type {\n",
       "        vertical-align: middle;\n",
       "    }\n",
       "\n",
       "    .dataframe tbody tr th {\n",
       "        vertical-align: top;\n",
       "    }\n",
       "\n",
       "    .dataframe thead th {\n",
       "        text-align: right;\n",
       "    }\n",
       "</style>\n",
       "<table border=\"1\" class=\"dataframe\">\n",
       "  <thead>\n",
       "    <tr style=\"text-align: right;\">\n",
       "      <th></th>\n",
       "      <th>year</th>\n",
       "      <th>month</th>\n",
       "      <th>day</th>\n",
       "      <th>hour</th>\n",
       "      <th>dayofyear</th>\n",
       "      <th>week</th>\n",
       "      <th>weekofyear</th>\n",
       "      <th>dayofweek</th>\n",
       "      <th>weekday</th>\n",
       "      <th>quarter</th>\n",
       "    </tr>\n",
       "  </thead>\n",
       "  <tbody>\n",
       "    <tr>\n",
       "      <th>0</th>\n",
       "      <td>2020</td>\n",
       "      <td>2</td>\n",
       "      <td>29</td>\n",
       "      <td>21</td>\n",
       "      <td>60</td>\n",
       "      <td>9</td>\n",
       "      <td>9</td>\n",
       "      <td>5</td>\n",
       "      <td>5</td>\n",
       "      <td>1</td>\n",
       "    </tr>\n",
       "    <tr>\n",
       "      <th>1</th>\n",
       "      <td>2020</td>\n",
       "      <td>2</td>\n",
       "      <td>29</td>\n",
       "      <td>21</td>\n",
       "      <td>60</td>\n",
       "      <td>9</td>\n",
       "      <td>9</td>\n",
       "      <td>5</td>\n",
       "      <td>5</td>\n",
       "      <td>1</td>\n",
       "    </tr>\n",
       "    <tr>\n",
       "      <th>2</th>\n",
       "      <td>2020</td>\n",
       "      <td>2</td>\n",
       "      <td>29</td>\n",
       "      <td>21</td>\n",
       "      <td>60</td>\n",
       "      <td>9</td>\n",
       "      <td>9</td>\n",
       "      <td>5</td>\n",
       "      <td>5</td>\n",
       "      <td>1</td>\n",
       "    </tr>\n",
       "    <tr>\n",
       "      <th>3</th>\n",
       "      <td>2020</td>\n",
       "      <td>2</td>\n",
       "      <td>29</td>\n",
       "      <td>21</td>\n",
       "      <td>60</td>\n",
       "      <td>9</td>\n",
       "      <td>9</td>\n",
       "      <td>5</td>\n",
       "      <td>5</td>\n",
       "      <td>1</td>\n",
       "    </tr>\n",
       "    <tr>\n",
       "      <th>4</th>\n",
       "      <td>2020</td>\n",
       "      <td>2</td>\n",
       "      <td>29</td>\n",
       "      <td>21</td>\n",
       "      <td>60</td>\n",
       "      <td>9</td>\n",
       "      <td>9</td>\n",
       "      <td>5</td>\n",
       "      <td>5</td>\n",
       "      <td>1</td>\n",
       "    </tr>\n",
       "  </tbody>\n",
       "</table>\n",
       "</div>"
      ],
      "text/plain": [
       "   year  month  day  hour  dayofyear  week  weekofyear  dayofweek  weekday  \\\n",
       "0  2020      2   29    21         60     9           9          5        5   \n",
       "1  2020      2   29    21         60     9           9          5        5   \n",
       "2  2020      2   29    21         60     9           9          5        5   \n",
       "3  2020      2   29    21         60     9           9          5        5   \n",
       "4  2020      2   29    21         60     9           9          5        5   \n",
       "\n",
       "   quarter  \n",
       "0        1  \n",
       "1        1  \n",
       "2        1  \n",
       "3        1  \n",
       "4        1  "
      ]
     },
     "execution_count": 26,
     "metadata": {},
     "output_type": "execute_result"
    }
   ],
   "source": [
    "my_date.head()"
   ]
  },
  {
   "cell_type": "markdown",
   "metadata": {},
   "source": [
    "Description of datetime formate dataset which contain year, month, quarter etc"
   ]
  },
  {
   "cell_type": "code",
   "execution_count": 27,
   "metadata": {},
   "outputs": [
    {
     "data": {
      "text/html": [
       "<div>\n",
       "<style scoped>\n",
       "    .dataframe tbody tr th:only-of-type {\n",
       "        vertical-align: middle;\n",
       "    }\n",
       "\n",
       "    .dataframe tbody tr th {\n",
       "        vertical-align: top;\n",
       "    }\n",
       "\n",
       "    .dataframe thead th {\n",
       "        text-align: right;\n",
       "    }\n",
       "</style>\n",
       "<table border=\"1\" class=\"dataframe\">\n",
       "  <thead>\n",
       "    <tr style=\"text-align: right;\">\n",
       "      <th></th>\n",
       "      <th>year</th>\n",
       "      <th>month</th>\n",
       "      <th>day</th>\n",
       "      <th>hour</th>\n",
       "      <th>dayofyear</th>\n",
       "      <th>week</th>\n",
       "      <th>weekofyear</th>\n",
       "      <th>dayofweek</th>\n",
       "      <th>weekday</th>\n",
       "      <th>quarter</th>\n",
       "    </tr>\n",
       "  </thead>\n",
       "  <tbody>\n",
       "    <tr>\n",
       "      <th>count</th>\n",
       "      <td>65504.000000</td>\n",
       "      <td>65504.000000</td>\n",
       "      <td>65504.000000</td>\n",
       "      <td>65504.000000</td>\n",
       "      <td>65504.000000</td>\n",
       "      <td>65504.000000</td>\n",
       "      <td>65504.000000</td>\n",
       "      <td>65504.000000</td>\n",
       "      <td>65504.000000</td>\n",
       "      <td>65504.000000</td>\n",
       "    </tr>\n",
       "    <tr>\n",
       "      <th>mean</th>\n",
       "      <td>2019.373229</td>\n",
       "      <td>7.035815</td>\n",
       "      <td>16.518243</td>\n",
       "      <td>11.588865</td>\n",
       "      <td>199.884938</td>\n",
       "      <td>28.758442</td>\n",
       "      <td>28.758442</td>\n",
       "      <td>2.981681</td>\n",
       "      <td>2.981681</td>\n",
       "      <td>2.710674</td>\n",
       "    </tr>\n",
       "    <tr>\n",
       "      <th>std</th>\n",
       "      <td>0.483666</td>\n",
       "      <td>4.398955</td>\n",
       "      <td>8.687007</td>\n",
       "      <td>6.986091</td>\n",
       "      <td>134.087909</td>\n",
       "      <td>19.143924</td>\n",
       "      <td>19.143924</td>\n",
       "      <td>1.989561</td>\n",
       "      <td>1.989561</td>\n",
       "      <td>1.366151</td>\n",
       "    </tr>\n",
       "    <tr>\n",
       "      <th>min</th>\n",
       "      <td>2019.000000</td>\n",
       "      <td>1.000000</td>\n",
       "      <td>1.000000</td>\n",
       "      <td>0.000000</td>\n",
       "      <td>1.000000</td>\n",
       "      <td>1.000000</td>\n",
       "      <td>1.000000</td>\n",
       "      <td>0.000000</td>\n",
       "      <td>0.000000</td>\n",
       "      <td>1.000000</td>\n",
       "    </tr>\n",
       "    <tr>\n",
       "      <th>25%</th>\n",
       "      <td>2019.000000</td>\n",
       "      <td>2.000000</td>\n",
       "      <td>9.000000</td>\n",
       "      <td>5.000000</td>\n",
       "      <td>41.000000</td>\n",
       "      <td>6.000000</td>\n",
       "      <td>6.000000</td>\n",
       "      <td>1.000000</td>\n",
       "      <td>1.000000</td>\n",
       "      <td>1.000000</td>\n",
       "    </tr>\n",
       "    <tr>\n",
       "      <th>50%</th>\n",
       "      <td>2019.000000</td>\n",
       "      <td>9.000000</td>\n",
       "      <td>17.000000</td>\n",
       "      <td>12.000000</td>\n",
       "      <td>265.000000</td>\n",
       "      <td>38.000000</td>\n",
       "      <td>38.000000</td>\n",
       "      <td>3.000000</td>\n",
       "      <td>3.000000</td>\n",
       "      <td>3.000000</td>\n",
       "    </tr>\n",
       "    <tr>\n",
       "      <th>75%</th>\n",
       "      <td>2020.000000</td>\n",
       "      <td>11.000000</td>\n",
       "      <td>24.000000</td>\n",
       "      <td>18.000000</td>\n",
       "      <td>318.000000</td>\n",
       "      <td>46.000000</td>\n",
       "      <td>46.000000</td>\n",
       "      <td>5.000000</td>\n",
       "      <td>5.000000</td>\n",
       "      <td>4.000000</td>\n",
       "    </tr>\n",
       "    <tr>\n",
       "      <th>max</th>\n",
       "      <td>2020.000000</td>\n",
       "      <td>12.000000</td>\n",
       "      <td>31.000000</td>\n",
       "      <td>23.000000</td>\n",
       "      <td>365.000000</td>\n",
       "      <td>52.000000</td>\n",
       "      <td>52.000000</td>\n",
       "      <td>6.000000</td>\n",
       "      <td>6.000000</td>\n",
       "      <td>4.000000</td>\n",
       "    </tr>\n",
       "  </tbody>\n",
       "</table>\n",
       "</div>"
      ],
      "text/plain": [
       "               year         month           day          hour     dayofyear  \\\n",
       "count  65504.000000  65504.000000  65504.000000  65504.000000  65504.000000   \n",
       "mean    2019.373229      7.035815     16.518243     11.588865    199.884938   \n",
       "std        0.483666      4.398955      8.687007      6.986091    134.087909   \n",
       "min     2019.000000      1.000000      1.000000      0.000000      1.000000   \n",
       "25%     2019.000000      2.000000      9.000000      5.000000     41.000000   \n",
       "50%     2019.000000      9.000000     17.000000     12.000000    265.000000   \n",
       "75%     2020.000000     11.000000     24.000000     18.000000    318.000000   \n",
       "max     2020.000000     12.000000     31.000000     23.000000    365.000000   \n",
       "\n",
       "               week    weekofyear     dayofweek       weekday       quarter  \n",
       "count  65504.000000  65504.000000  65504.000000  65504.000000  65504.000000  \n",
       "mean      28.758442     28.758442      2.981681      2.981681      2.710674  \n",
       "std       19.143924     19.143924      1.989561      1.989561      1.366151  \n",
       "min        1.000000      1.000000      0.000000      0.000000      1.000000  \n",
       "25%        6.000000      6.000000      1.000000      1.000000      1.000000  \n",
       "50%       38.000000     38.000000      3.000000      3.000000      3.000000  \n",
       "75%       46.000000     46.000000      5.000000      5.000000      4.000000  \n",
       "max       52.000000     52.000000      6.000000      6.000000      4.000000  "
      ]
     },
     "execution_count": 27,
     "metadata": {},
     "output_type": "execute_result"
    }
   ],
   "source": [
    "my_date.describe()"
   ]
  },
  {
   "cell_type": "markdown",
   "metadata": {},
   "source": [
    "Concatenate of data with previous datset df"
   ]
  },
  {
   "cell_type": "code",
   "execution_count": 28,
   "metadata": {},
   "outputs": [],
   "source": [
    "df = pd.concat([df,my_date],1)"
   ]
  },
  {
   "cell_type": "markdown",
   "metadata": {},
   "source": [
    "After concatenation here are my new datset  with separate col like  year ,month ,days and quarter etc ."
   ]
  },
  {
   "cell_type": "code",
   "execution_count": 29,
   "metadata": {},
   "outputs": [
    {
     "data": {
      "text/html": [
       "<div>\n",
       "<style scoped>\n",
       "    .dataframe tbody tr th:only-of-type {\n",
       "        vertical-align: middle;\n",
       "    }\n",
       "\n",
       "    .dataframe tbody tr th {\n",
       "        vertical-align: top;\n",
       "    }\n",
       "\n",
       "    .dataframe thead th {\n",
       "        text-align: right;\n",
       "    }\n",
       "</style>\n",
       "<table border=\"1\" class=\"dataframe\">\n",
       "  <thead>\n",
       "    <tr style=\"text-align: right;\">\n",
       "      <th></th>\n",
       "      <th>location</th>\n",
       "      <th>city</th>\n",
       "      <th>country</th>\n",
       "      <th>utc</th>\n",
       "      <th>local</th>\n",
       "      <th>parameter</th>\n",
       "      <th>value</th>\n",
       "      <th>unit</th>\n",
       "      <th>latitude</th>\n",
       "      <th>longitude</th>\n",
       "      <th>...</th>\n",
       "      <th>year</th>\n",
       "      <th>month</th>\n",
       "      <th>day</th>\n",
       "      <th>hour</th>\n",
       "      <th>dayofyear</th>\n",
       "      <th>week</th>\n",
       "      <th>weekofyear</th>\n",
       "      <th>dayofweek</th>\n",
       "      <th>weekday</th>\n",
       "      <th>quarter</th>\n",
       "    </tr>\n",
       "  </thead>\n",
       "  <tbody>\n",
       "    <tr>\n",
       "      <th>0</th>\n",
       "      <td>Sanjay Palace, Agra - UPPCB</td>\n",
       "      <td>Agra</td>\n",
       "      <td>IN</td>\n",
       "      <td>2020-02-29T16:15:00Z</td>\n",
       "      <td>2020-02-29T21:45:00+05:30</td>\n",
       "      <td>pm25</td>\n",
       "      <td>61.0</td>\n",
       "      <td>µg/m³</td>\n",
       "      <td>27.198658</td>\n",
       "      <td>78.005981</td>\n",
       "      <td>...</td>\n",
       "      <td>2020</td>\n",
       "      <td>2</td>\n",
       "      <td>29</td>\n",
       "      <td>21</td>\n",
       "      <td>60</td>\n",
       "      <td>9</td>\n",
       "      <td>9</td>\n",
       "      <td>5</td>\n",
       "      <td>5</td>\n",
       "      <td>1</td>\n",
       "    </tr>\n",
       "    <tr>\n",
       "      <th>1</th>\n",
       "      <td>Sanjay Palace, Agra - UPPCB</td>\n",
       "      <td>Agra</td>\n",
       "      <td>IN</td>\n",
       "      <td>2020-02-29T16:00:00Z</td>\n",
       "      <td>2020-02-29T21:30:00+05:30</td>\n",
       "      <td>so2</td>\n",
       "      <td>16.8</td>\n",
       "      <td>µg/m³</td>\n",
       "      <td>27.198658</td>\n",
       "      <td>78.005981</td>\n",
       "      <td>...</td>\n",
       "      <td>2020</td>\n",
       "      <td>2</td>\n",
       "      <td>29</td>\n",
       "      <td>21</td>\n",
       "      <td>60</td>\n",
       "      <td>9</td>\n",
       "      <td>9</td>\n",
       "      <td>5</td>\n",
       "      <td>5</td>\n",
       "      <td>1</td>\n",
       "    </tr>\n",
       "    <tr>\n",
       "      <th>2</th>\n",
       "      <td>Sanjay Palace, Agra - UPPCB</td>\n",
       "      <td>Agra</td>\n",
       "      <td>IN</td>\n",
       "      <td>2020-02-29T16:00:00Z</td>\n",
       "      <td>2020-02-29T21:30:00+05:30</td>\n",
       "      <td>no2</td>\n",
       "      <td>55.1</td>\n",
       "      <td>µg/m³</td>\n",
       "      <td>27.198658</td>\n",
       "      <td>78.005981</td>\n",
       "      <td>...</td>\n",
       "      <td>2020</td>\n",
       "      <td>2</td>\n",
       "      <td>29</td>\n",
       "      <td>21</td>\n",
       "      <td>60</td>\n",
       "      <td>9</td>\n",
       "      <td>9</td>\n",
       "      <td>5</td>\n",
       "      <td>5</td>\n",
       "      <td>1</td>\n",
       "    </tr>\n",
       "    <tr>\n",
       "      <th>3</th>\n",
       "      <td>Sanjay Palace, Agra - UPPCB</td>\n",
       "      <td>Agra</td>\n",
       "      <td>IN</td>\n",
       "      <td>2020-02-29T16:00:00Z</td>\n",
       "      <td>2020-02-29T21:30:00+05:30</td>\n",
       "      <td>pm25</td>\n",
       "      <td>60.0</td>\n",
       "      <td>µg/m³</td>\n",
       "      <td>27.198658</td>\n",
       "      <td>78.005981</td>\n",
       "      <td>...</td>\n",
       "      <td>2020</td>\n",
       "      <td>2</td>\n",
       "      <td>29</td>\n",
       "      <td>21</td>\n",
       "      <td>60</td>\n",
       "      <td>9</td>\n",
       "      <td>9</td>\n",
       "      <td>5</td>\n",
       "      <td>5</td>\n",
       "      <td>1</td>\n",
       "    </tr>\n",
       "    <tr>\n",
       "      <th>4</th>\n",
       "      <td>Sanjay Palace, Agra - UPPCB</td>\n",
       "      <td>Agra</td>\n",
       "      <td>IN</td>\n",
       "      <td>2020-02-29T16:00:00Z</td>\n",
       "      <td>2020-02-29T21:30:00+05:30</td>\n",
       "      <td>co</td>\n",
       "      <td>1040.0</td>\n",
       "      <td>µg/m³</td>\n",
       "      <td>27.198658</td>\n",
       "      <td>78.005981</td>\n",
       "      <td>...</td>\n",
       "      <td>2020</td>\n",
       "      <td>2</td>\n",
       "      <td>29</td>\n",
       "      <td>21</td>\n",
       "      <td>60</td>\n",
       "      <td>9</td>\n",
       "      <td>9</td>\n",
       "      <td>5</td>\n",
       "      <td>5</td>\n",
       "      <td>1</td>\n",
       "    </tr>\n",
       "  </tbody>\n",
       "</table>\n",
       "<p>5 rows × 22 columns</p>\n",
       "</div>"
      ],
      "text/plain": [
       "                      location  city country                   utc  \\\n",
       "0  Sanjay Palace, Agra - UPPCB  Agra      IN  2020-02-29T16:15:00Z   \n",
       "1  Sanjay Palace, Agra - UPPCB  Agra      IN  2020-02-29T16:00:00Z   \n",
       "2  Sanjay Palace, Agra - UPPCB  Agra      IN  2020-02-29T16:00:00Z   \n",
       "3  Sanjay Palace, Agra - UPPCB  Agra      IN  2020-02-29T16:00:00Z   \n",
       "4  Sanjay Palace, Agra - UPPCB  Agra      IN  2020-02-29T16:00:00Z   \n",
       "\n",
       "                       local parameter   value   unit   latitude  longitude  \\\n",
       "0  2020-02-29T21:45:00+05:30      pm25    61.0  µg/m³  27.198658  78.005981   \n",
       "1  2020-02-29T21:30:00+05:30       so2    16.8  µg/m³  27.198658  78.005981   \n",
       "2  2020-02-29T21:30:00+05:30       no2    55.1  µg/m³  27.198658  78.005981   \n",
       "3  2020-02-29T21:30:00+05:30      pm25    60.0  µg/m³  27.198658  78.005981   \n",
       "4  2020-02-29T21:30:00+05:30        co  1040.0  µg/m³  27.198658  78.005981   \n",
       "\n",
       "   ...  year month  day  hour  dayofyear  week  weekofyear  dayofweek  \\\n",
       "0  ...  2020     2   29    21         60     9           9          5   \n",
       "1  ...  2020     2   29    21         60     9           9          5   \n",
       "2  ...  2020     2   29    21         60     9           9          5   \n",
       "3  ...  2020     2   29    21         60     9           9          5   \n",
       "4  ...  2020     2   29    21         60     9           9          5   \n",
       "\n",
       "   weekday  quarter  \n",
       "0        5        1  \n",
       "1        5        1  \n",
       "2        5        1  \n",
       "3        5        1  \n",
       "4        5        1  \n",
       "\n",
       "[5 rows x 22 columns]"
      ]
     },
     "execution_count": 29,
     "metadata": {},
     "output_type": "execute_result"
    }
   ],
   "source": [
    "# Top five rows of combine dataset\n",
    "df.head()"
   ]
  },
  {
   "cell_type": "markdown",
   "metadata": {},
   "source": [
    "### Grouping of parameter and month with relate to its mean value of col name value "
   ]
  },
  {
   "cell_type": "markdown",
   "metadata": {},
   "source": [
    " Data related to its param like co2,so2,03 etc in terms of  month with mean descending value of value col\n"
   ]
  },
  {
   "cell_type": "code",
   "execution_count": 30,
   "metadata": {},
   "outputs": [
    {
     "data": {
      "text/html": [
       "<div>\n",
       "<style scoped>\n",
       "    .dataframe tbody tr th:only-of-type {\n",
       "        vertical-align: middle;\n",
       "    }\n",
       "\n",
       "    .dataframe tbody tr th {\n",
       "        vertical-align: top;\n",
       "    }\n",
       "\n",
       "    .dataframe thead th {\n",
       "        text-align: right;\n",
       "    }\n",
       "</style>\n",
       "<table border=\"1\" class=\"dataframe\">\n",
       "  <thead>\n",
       "    <tr style=\"text-align: right;\">\n",
       "      <th></th>\n",
       "      <th></th>\n",
       "      <th>value</th>\n",
       "      <th>latitude</th>\n",
       "      <th>longitude</th>\n",
       "      <th>year</th>\n",
       "      <th>day</th>\n",
       "      <th>hour</th>\n",
       "      <th>dayofyear</th>\n",
       "      <th>week</th>\n",
       "      <th>weekofyear</th>\n",
       "      <th>dayofweek</th>\n",
       "      <th>weekday</th>\n",
       "      <th>quarter</th>\n",
       "    </tr>\n",
       "    <tr>\n",
       "      <th>parameter</th>\n",
       "      <th>month</th>\n",
       "      <th></th>\n",
       "      <th></th>\n",
       "      <th></th>\n",
       "      <th></th>\n",
       "      <th></th>\n",
       "      <th></th>\n",
       "      <th></th>\n",
       "      <th></th>\n",
       "      <th></th>\n",
       "      <th></th>\n",
       "      <th></th>\n",
       "      <th></th>\n",
       "    </tr>\n",
       "  </thead>\n",
       "  <tbody>\n",
       "    <tr>\n",
       "      <th rowspan=\"5\" valign=\"top\">co</th>\n",
       "      <th>1</th>\n",
       "      <td>1607.884161</td>\n",
       "      <td>27.198658</td>\n",
       "      <td>78.005981</td>\n",
       "      <td>2020.0</td>\n",
       "      <td>15.866430</td>\n",
       "      <td>11.501970</td>\n",
       "      <td>15.866430</td>\n",
       "      <td>2.975571</td>\n",
       "      <td>2.975571</td>\n",
       "      <td>3.037431</td>\n",
       "      <td>3.037431</td>\n",
       "      <td>1.0</td>\n",
       "    </tr>\n",
       "    <tr>\n",
       "      <th>11</th>\n",
       "      <td>1339.107612</td>\n",
       "      <td>27.198658</td>\n",
       "      <td>78.005981</td>\n",
       "      <td>2019.0</td>\n",
       "      <td>20.739501</td>\n",
       "      <td>11.583990</td>\n",
       "      <td>324.739501</td>\n",
       "      <td>46.975066</td>\n",
       "      <td>46.975066</td>\n",
       "      <td>2.914042</td>\n",
       "      <td>2.914042</td>\n",
       "      <td>4.0</td>\n",
       "    </tr>\n",
       "    <tr>\n",
       "      <th>12</th>\n",
       "      <td>1147.829766</td>\n",
       "      <td>27.198658</td>\n",
       "      <td>78.005981</td>\n",
       "      <td>2019.0</td>\n",
       "      <td>14.281234</td>\n",
       "      <td>11.909408</td>\n",
       "      <td>348.281234</td>\n",
       "      <td>47.392235</td>\n",
       "      <td>47.392235</td>\n",
       "      <td>2.699353</td>\n",
       "      <td>2.699353</td>\n",
       "      <td>4.0</td>\n",
       "    </tr>\n",
       "    <tr>\n",
       "      <th>2</th>\n",
       "      <td>1084.954052</td>\n",
       "      <td>27.198658</td>\n",
       "      <td>78.005981</td>\n",
       "      <td>2020.0</td>\n",
       "      <td>14.963241</td>\n",
       "      <td>11.466165</td>\n",
       "      <td>45.963241</td>\n",
       "      <td>7.274436</td>\n",
       "      <td>7.274436</td>\n",
       "      <td>3.042189</td>\n",
       "      <td>3.042189</td>\n",
       "      <td>1.0</td>\n",
       "    </tr>\n",
       "    <tr>\n",
       "      <th>10</th>\n",
       "      <td>965.737439</td>\n",
       "      <td>27.198658</td>\n",
       "      <td>78.005981</td>\n",
       "      <td>2019.0</td>\n",
       "      <td>15.426661</td>\n",
       "      <td>11.446110</td>\n",
       "      <td>288.426661</td>\n",
       "      <td>41.781199</td>\n",
       "      <td>41.781199</td>\n",
       "      <td>2.958266</td>\n",
       "      <td>2.958266</td>\n",
       "      <td>4.0</td>\n",
       "    </tr>\n",
       "  </tbody>\n",
       "</table>\n",
       "</div>"
      ],
      "text/plain": [
       "                       value   latitude  longitude    year        day  \\\n",
       "parameter month                                                         \n",
       "co        1      1607.884161  27.198658  78.005981  2020.0  15.866430   \n",
       "          11     1339.107612  27.198658  78.005981  2019.0  20.739501   \n",
       "          12     1147.829766  27.198658  78.005981  2019.0  14.281234   \n",
       "          2      1084.954052  27.198658  78.005981  2020.0  14.963241   \n",
       "          10      965.737439  27.198658  78.005981  2019.0  15.426661   \n",
       "\n",
       "                      hour   dayofyear       week  weekofyear  dayofweek  \\\n",
       "parameter month                                                            \n",
       "co        1      11.501970   15.866430   2.975571    2.975571   3.037431   \n",
       "          11     11.583990  324.739501  46.975066   46.975066   2.914042   \n",
       "          12     11.909408  348.281234  47.392235   47.392235   2.699353   \n",
       "          2      11.466165   45.963241   7.274436    7.274436   3.042189   \n",
       "          10     11.446110  288.426661  41.781199   41.781199   2.958266   \n",
       "\n",
       "                  weekday  quarter  \n",
       "parameter month                     \n",
       "co        1      3.037431      1.0  \n",
       "          11     2.914042      4.0  \n",
       "          12     2.699353      4.0  \n",
       "          2      3.042189      1.0  \n",
       "          10     2.958266      4.0  "
      ]
     },
     "execution_count": 30,
     "metadata": {},
     "output_type": "execute_result"
    }
   ],
   "source": [
    "df.groupby(['parameter','month']).mean().sort_values('value',ascending=False).head()"
   ]
  },
  {
   "cell_type": "markdown",
   "metadata": {},
   "source": [
    "* As related to data , for month =1 and year =2020 has the highest mean vlaue of param like co in agra  than month=11 in year= 2019 and so on "
   ]
  },
  {
   "cell_type": "markdown",
   "metadata": {},
   "source": [
    "### Data related to its param like co2,so2,03 etc in terms of  day with mean descending value of value col\n"
   ]
  },
  {
   "cell_type": "code",
   "execution_count": 31,
   "metadata": {},
   "outputs": [
    {
     "data": {
      "text/html": [
       "<div>\n",
       "<style scoped>\n",
       "    .dataframe tbody tr th:only-of-type {\n",
       "        vertical-align: middle;\n",
       "    }\n",
       "\n",
       "    .dataframe tbody tr th {\n",
       "        vertical-align: top;\n",
       "    }\n",
       "\n",
       "    .dataframe thead th {\n",
       "        text-align: right;\n",
       "    }\n",
       "</style>\n",
       "<table border=\"1\" class=\"dataframe\">\n",
       "  <thead>\n",
       "    <tr style=\"text-align: right;\">\n",
       "      <th></th>\n",
       "      <th></th>\n",
       "      <th>value</th>\n",
       "      <th>latitude</th>\n",
       "      <th>longitude</th>\n",
       "      <th>year</th>\n",
       "      <th>month</th>\n",
       "      <th>hour</th>\n",
       "      <th>dayofyear</th>\n",
       "      <th>week</th>\n",
       "      <th>weekofyear</th>\n",
       "      <th>dayofweek</th>\n",
       "      <th>weekday</th>\n",
       "      <th>quarter</th>\n",
       "    </tr>\n",
       "    <tr>\n",
       "      <th>parameter</th>\n",
       "      <th>day</th>\n",
       "      <th></th>\n",
       "      <th></th>\n",
       "      <th></th>\n",
       "      <th></th>\n",
       "      <th></th>\n",
       "      <th></th>\n",
       "      <th></th>\n",
       "      <th></th>\n",
       "      <th></th>\n",
       "      <th></th>\n",
       "      <th></th>\n",
       "      <th></th>\n",
       "    </tr>\n",
       "  </thead>\n",
       "  <tbody>\n",
       "    <tr>\n",
       "      <th rowspan=\"5\" valign=\"top\">co</th>\n",
       "      <th>5</th>\n",
       "      <td>1573.470588</td>\n",
       "      <td>27.198658</td>\n",
       "      <td>78.005981</td>\n",
       "      <td>2019.508824</td>\n",
       "      <td>6.182353</td>\n",
       "      <td>11.791176</td>\n",
       "      <td>162.455882</td>\n",
       "      <td>23.714706</td>\n",
       "      <td>23.714706</td>\n",
       "      <td>3.961765</td>\n",
       "      <td>3.961765</td>\n",
       "      <td>2.473529</td>\n",
       "    </tr>\n",
       "    <tr>\n",
       "      <th>15</th>\n",
       "      <td>1463.084337</td>\n",
       "      <td>27.198658</td>\n",
       "      <td>78.005981</td>\n",
       "      <td>2019.375904</td>\n",
       "      <td>7.455422</td>\n",
       "      <td>11.202410</td>\n",
       "      <td>211.156627</td>\n",
       "      <td>30.693976</td>\n",
       "      <td>30.693976</td>\n",
       "      <td>3.674699</td>\n",
       "      <td>3.674699</td>\n",
       "      <td>2.872289</td>\n",
       "    </tr>\n",
       "    <tr>\n",
       "      <th>12</th>\n",
       "      <td>1445.632184</td>\n",
       "      <td>27.198658</td>\n",
       "      <td>78.005981</td>\n",
       "      <td>2019.397701</td>\n",
       "      <td>7.222989</td>\n",
       "      <td>11.462069</td>\n",
       "      <td>201.094253</td>\n",
       "      <td>29.296552</td>\n",
       "      <td>29.296552</td>\n",
       "      <td>3.416092</td>\n",
       "      <td>3.416092</td>\n",
       "      <td>2.806897</td>\n",
       "    </tr>\n",
       "    <tr>\n",
       "      <th>13</th>\n",
       "      <td>1403.488372</td>\n",
       "      <td>27.198658</td>\n",
       "      <td>78.005981</td>\n",
       "      <td>2019.393023</td>\n",
       "      <td>7.251163</td>\n",
       "      <td>11.425581</td>\n",
       "      <td>202.955814</td>\n",
       "      <td>29.613953</td>\n",
       "      <td>29.613953</td>\n",
       "      <td>3.051163</td>\n",
       "      <td>3.051163</td>\n",
       "      <td>2.820930</td>\n",
       "    </tr>\n",
       "    <tr>\n",
       "      <th>22</th>\n",
       "      <td>1372.869955</td>\n",
       "      <td>27.198658</td>\n",
       "      <td>78.005981</td>\n",
       "      <td>2019.383408</td>\n",
       "      <td>6.854260</td>\n",
       "      <td>11.892377</td>\n",
       "      <td>199.917040</td>\n",
       "      <td>29.085202</td>\n",
       "      <td>29.085202</td>\n",
       "      <td>3.704036</td>\n",
       "      <td>3.704036</td>\n",
       "      <td>2.668161</td>\n",
       "    </tr>\n",
       "  </tbody>\n",
       "</table>\n",
       "</div>"
      ],
      "text/plain": [
       "                     value   latitude  longitude         year     month  \\\n",
       "parameter day                                                             \n",
       "co        5    1573.470588  27.198658  78.005981  2019.508824  6.182353   \n",
       "          15   1463.084337  27.198658  78.005981  2019.375904  7.455422   \n",
       "          12   1445.632184  27.198658  78.005981  2019.397701  7.222989   \n",
       "          13   1403.488372  27.198658  78.005981  2019.393023  7.251163   \n",
       "          22   1372.869955  27.198658  78.005981  2019.383408  6.854260   \n",
       "\n",
       "                    hour   dayofyear       week  weekofyear  dayofweek  \\\n",
       "parameter day                                                            \n",
       "co        5    11.791176  162.455882  23.714706   23.714706   3.961765   \n",
       "          15   11.202410  211.156627  30.693976   30.693976   3.674699   \n",
       "          12   11.462069  201.094253  29.296552   29.296552   3.416092   \n",
       "          13   11.425581  202.955814  29.613953   29.613953   3.051163   \n",
       "          22   11.892377  199.917040  29.085202   29.085202   3.704036   \n",
       "\n",
       "                weekday   quarter  \n",
       "parameter day                      \n",
       "co        5    3.961765  2.473529  \n",
       "          15   3.674699  2.872289  \n",
       "          12   3.416092  2.806897  \n",
       "          13   3.051163  2.820930  \n",
       "          22   3.704036  2.668161  "
      ]
     },
     "execution_count": 31,
     "metadata": {},
     "output_type": "execute_result"
    }
   ],
   "source": [
    "df.groupby(['parameter','day']).mean().sort_values('value',ascending=False).head()"
   ]
  },
  {
   "cell_type": "markdown",
   "metadata": {},
   "source": [
    "* As related to data , for day =5  has the highest mean vlaue of param like co in agra  than day=15 and so on "
   ]
  },
  {
   "cell_type": "markdown",
   "metadata": {},
   "source": [
    "### Data related to its param like co2,so2,03 etc in terms of  quarter with mean descending value of value col\n"
   ]
  },
  {
   "cell_type": "code",
   "execution_count": 32,
   "metadata": {},
   "outputs": [
    {
     "data": {
      "text/html": [
       "<div>\n",
       "<style scoped>\n",
       "    .dataframe tbody tr th:only-of-type {\n",
       "        vertical-align: middle;\n",
       "    }\n",
       "\n",
       "    .dataframe tbody tr th {\n",
       "        vertical-align: top;\n",
       "    }\n",
       "\n",
       "    .dataframe thead th {\n",
       "        text-align: right;\n",
       "    }\n",
       "</style>\n",
       "<table border=\"1\" class=\"dataframe\">\n",
       "  <thead>\n",
       "    <tr style=\"text-align: right;\">\n",
       "      <th></th>\n",
       "      <th></th>\n",
       "      <th>value</th>\n",
       "      <th>latitude</th>\n",
       "      <th>longitude</th>\n",
       "      <th>year</th>\n",
       "      <th>month</th>\n",
       "      <th>day</th>\n",
       "      <th>hour</th>\n",
       "      <th>dayofyear</th>\n",
       "      <th>week</th>\n",
       "      <th>weekofyear</th>\n",
       "      <th>dayofweek</th>\n",
       "      <th>weekday</th>\n",
       "    </tr>\n",
       "    <tr>\n",
       "      <th>parameter</th>\n",
       "      <th>quarter</th>\n",
       "      <th></th>\n",
       "      <th></th>\n",
       "      <th></th>\n",
       "      <th></th>\n",
       "      <th></th>\n",
       "      <th></th>\n",
       "      <th></th>\n",
       "      <th></th>\n",
       "      <th></th>\n",
       "      <th></th>\n",
       "      <th></th>\n",
       "      <th></th>\n",
       "    </tr>\n",
       "  </thead>\n",
       "  <tbody>\n",
       "    <tr>\n",
       "      <th rowspan=\"3\" valign=\"top\">co</th>\n",
       "      <th>1</th>\n",
       "      <td>1354.053122</td>\n",
       "      <td>27.198658</td>\n",
       "      <td>78.005981</td>\n",
       "      <td>2020.0</td>\n",
       "      <td>1.485401</td>\n",
       "      <td>15.428021</td>\n",
       "      <td>11.484590</td>\n",
       "      <td>30.475466</td>\n",
       "      <td>5.062247</td>\n",
       "      <td>5.062247</td>\n",
       "      <td>3.039740</td>\n",
       "      <td>3.039740</td>\n",
       "    </tr>\n",
       "    <tr>\n",
       "      <th>4</th>\n",
       "      <td>1121.518080</td>\n",
       "      <td>27.198658</td>\n",
       "      <td>78.005981</td>\n",
       "      <td>2019.0</td>\n",
       "      <td>10.923513</td>\n",
       "      <td>16.392435</td>\n",
       "      <td>11.636227</td>\n",
       "      <td>317.686552</td>\n",
       "      <td>44.978670</td>\n",
       "      <td>44.978670</td>\n",
       "      <td>2.860357</td>\n",
       "      <td>2.860357</td>\n",
       "    </tr>\n",
       "    <tr>\n",
       "      <th>3</th>\n",
       "      <td>510.651997</td>\n",
       "      <td>27.198658</td>\n",
       "      <td>78.005981</td>\n",
       "      <td>2019.0</td>\n",
       "      <td>8.612062</td>\n",
       "      <td>25.259984</td>\n",
       "      <td>12.070090</td>\n",
       "      <td>256.233904</td>\n",
       "      <td>37.135289</td>\n",
       "      <td>37.135289</td>\n",
       "      <td>3.286879</td>\n",
       "      <td>3.286879</td>\n",
       "    </tr>\n",
       "    <tr>\n",
       "      <th rowspan=\"2\" valign=\"top\">pm25</th>\n",
       "      <th>1</th>\n",
       "      <td>99.371324</td>\n",
       "      <td>27.198658</td>\n",
       "      <td>78.005981</td>\n",
       "      <td>2020.0</td>\n",
       "      <td>1.517734</td>\n",
       "      <td>16.384948</td>\n",
       "      <td>11.488106</td>\n",
       "      <td>32.434689</td>\n",
       "      <td>5.346237</td>\n",
       "      <td>5.346237</td>\n",
       "      <td>3.011029</td>\n",
       "      <td>3.011029</td>\n",
       "    </tr>\n",
       "    <tr>\n",
       "      <th>4</th>\n",
       "      <td>65.471212</td>\n",
       "      <td>27.198658</td>\n",
       "      <td>78.005981</td>\n",
       "      <td>2019.0</td>\n",
       "      <td>10.915152</td>\n",
       "      <td>16.294444</td>\n",
       "      <td>11.600000</td>\n",
       "      <td>317.334512</td>\n",
       "      <td>45.275926</td>\n",
       "      <td>45.275926</td>\n",
       "      <td>2.868350</td>\n",
       "      <td>2.868350</td>\n",
       "    </tr>\n",
       "  </tbody>\n",
       "</table>\n",
       "</div>"
      ],
      "text/plain": [
       "                         value   latitude  longitude    year      month  \\\n",
       "parameter quarter                                                         \n",
       "co        1        1354.053122  27.198658  78.005981  2020.0   1.485401   \n",
       "          4        1121.518080  27.198658  78.005981  2019.0  10.923513   \n",
       "          3         510.651997  27.198658  78.005981  2019.0   8.612062   \n",
       "pm25      1          99.371324  27.198658  78.005981  2020.0   1.517734   \n",
       "          4          65.471212  27.198658  78.005981  2019.0  10.915152   \n",
       "\n",
       "                         day       hour   dayofyear       week  weekofyear  \\\n",
       "parameter quarter                                                            \n",
       "co        1        15.428021  11.484590   30.475466   5.062247    5.062247   \n",
       "          4        16.392435  11.636227  317.686552  44.978670   44.978670   \n",
       "          3        25.259984  12.070090  256.233904  37.135289   37.135289   \n",
       "pm25      1        16.384948  11.488106   32.434689   5.346237    5.346237   \n",
       "          4        16.294444  11.600000  317.334512  45.275926   45.275926   \n",
       "\n",
       "                   dayofweek   weekday  \n",
       "parameter quarter                       \n",
       "co        1         3.039740  3.039740  \n",
       "          4         2.860357  2.860357  \n",
       "          3         3.286879  3.286879  \n",
       "pm25      1         3.011029  3.011029  \n",
       "          4         2.868350  2.868350  "
      ]
     },
     "execution_count": 32,
     "metadata": {},
     "output_type": "execute_result"
    }
   ],
   "source": [
    "df.groupby(['parameter','quarter']).mean().sort_values('value',ascending=False).head()"
   ]
  },
  {
   "cell_type": "markdown",
   "metadata": {},
   "source": [
    "* As related to data , for quarter =1 and year =2020 has the highest mean vlaue of param like co in agra  than quarter=4 in year= 2019 and so on "
   ]
  },
  {
   "cell_type": "markdown",
   "metadata": {},
   "source": [
    "### Data related to its param like co2,so2,03 etc in terms of  year with mean descending value of value col\n"
   ]
  },
  {
   "cell_type": "code",
   "execution_count": 33,
   "metadata": {},
   "outputs": [
    {
     "data": {
      "text/html": [
       "<div>\n",
       "<style scoped>\n",
       "    .dataframe tbody tr th:only-of-type {\n",
       "        vertical-align: middle;\n",
       "    }\n",
       "\n",
       "    .dataframe tbody tr th {\n",
       "        vertical-align: top;\n",
       "    }\n",
       "\n",
       "    .dataframe thead th {\n",
       "        text-align: right;\n",
       "    }\n",
       "</style>\n",
       "<table border=\"1\" class=\"dataframe\">\n",
       "  <thead>\n",
       "    <tr style=\"text-align: right;\">\n",
       "      <th></th>\n",
       "      <th></th>\n",
       "      <th>value</th>\n",
       "      <th>latitude</th>\n",
       "      <th>longitude</th>\n",
       "      <th>month</th>\n",
       "      <th>day</th>\n",
       "      <th>hour</th>\n",
       "      <th>dayofyear</th>\n",
       "      <th>week</th>\n",
       "      <th>weekofyear</th>\n",
       "      <th>dayofweek</th>\n",
       "      <th>weekday</th>\n",
       "      <th>quarter</th>\n",
       "    </tr>\n",
       "    <tr>\n",
       "      <th>parameter</th>\n",
       "      <th>year</th>\n",
       "      <th></th>\n",
       "      <th></th>\n",
       "      <th></th>\n",
       "      <th></th>\n",
       "      <th></th>\n",
       "      <th></th>\n",
       "      <th></th>\n",
       "      <th></th>\n",
       "      <th></th>\n",
       "      <th></th>\n",
       "      <th></th>\n",
       "      <th></th>\n",
       "    </tr>\n",
       "  </thead>\n",
       "  <tbody>\n",
       "    <tr>\n",
       "      <th rowspan=\"2\" valign=\"top\">co</th>\n",
       "      <th>2020</th>\n",
       "      <td>1354.053122</td>\n",
       "      <td>27.198658</td>\n",
       "      <td>78.005981</td>\n",
       "      <td>1.485401</td>\n",
       "      <td>15.428021</td>\n",
       "      <td>11.484590</td>\n",
       "      <td>30.475466</td>\n",
       "      <td>5.062247</td>\n",
       "      <td>5.062247</td>\n",
       "      <td>3.039740</td>\n",
       "      <td>3.039740</td>\n",
       "      <td>1.000000</td>\n",
       "    </tr>\n",
       "    <tr>\n",
       "      <th>2019</th>\n",
       "      <td>1017.819590</td>\n",
       "      <td>27.198658</td>\n",
       "      <td>78.005981</td>\n",
       "      <td>10.531129</td>\n",
       "      <td>17.897759</td>\n",
       "      <td>11.709878</td>\n",
       "      <td>307.254566</td>\n",
       "      <td>43.647205</td>\n",
       "      <td>43.647205</td>\n",
       "      <td>2.932761</td>\n",
       "      <td>2.932761</td>\n",
       "      <td>3.830243</td>\n",
       "    </tr>\n",
       "    <tr>\n",
       "      <th>pm25</th>\n",
       "      <th>2020</th>\n",
       "      <td>99.371324</td>\n",
       "      <td>27.198658</td>\n",
       "      <td>78.005981</td>\n",
       "      <td>1.517734</td>\n",
       "      <td>16.384948</td>\n",
       "      <td>11.488106</td>\n",
       "      <td>32.434689</td>\n",
       "      <td>5.346237</td>\n",
       "      <td>5.346237</td>\n",
       "      <td>3.011029</td>\n",
       "      <td>3.011029</td>\n",
       "      <td>1.000000</td>\n",
       "    </tr>\n",
       "    <tr>\n",
       "      <th>no2</th>\n",
       "      <th>2020</th>\n",
       "      <td>62.571273</td>\n",
       "      <td>27.198658</td>\n",
       "      <td>78.005981</td>\n",
       "      <td>1.483280</td>\n",
       "      <td>15.490330</td>\n",
       "      <td>11.477639</td>\n",
       "      <td>30.471998</td>\n",
       "      <td>5.062248</td>\n",
       "      <td>5.062248</td>\n",
       "      <td>3.036261</td>\n",
       "      <td>3.036261</td>\n",
       "      <td>1.000000</td>\n",
       "    </tr>\n",
       "    <tr>\n",
       "      <th>pm25</th>\n",
       "      <th>2019</th>\n",
       "      <td>55.006391</td>\n",
       "      <td>27.198658</td>\n",
       "      <td>78.005981</td>\n",
       "      <td>10.311753</td>\n",
       "      <td>16.329625</td>\n",
       "      <td>11.633921</td>\n",
       "      <td>299.059179</td>\n",
       "      <td>42.846254</td>\n",
       "      <td>42.846254</td>\n",
       "      <td>2.947331</td>\n",
       "      <td>2.947331</td>\n",
       "      <td>3.703042</td>\n",
       "    </tr>\n",
       "    <tr>\n",
       "      <th>no2</th>\n",
       "      <th>2019</th>\n",
       "      <td>39.169386</td>\n",
       "      <td>27.198658</td>\n",
       "      <td>78.005981</td>\n",
       "      <td>10.219408</td>\n",
       "      <td>16.868108</td>\n",
       "      <td>11.617436</td>\n",
       "      <td>296.772187</td>\n",
       "      <td>42.301771</td>\n",
       "      <td>42.301771</td>\n",
       "      <td>2.969072</td>\n",
       "      <td>2.969072</td>\n",
       "      <td>3.672456</td>\n",
       "    </tr>\n",
       "    <tr>\n",
       "      <th rowspan=\"2\" valign=\"top\">so2</th>\n",
       "      <th>2020</th>\n",
       "      <td>21.150604</td>\n",
       "      <td>27.198658</td>\n",
       "      <td>78.005981</td>\n",
       "      <td>1.483280</td>\n",
       "      <td>15.490330</td>\n",
       "      <td>11.477639</td>\n",
       "      <td>30.471998</td>\n",
       "      <td>5.062248</td>\n",
       "      <td>5.062248</td>\n",
       "      <td>3.036261</td>\n",
       "      <td>3.036261</td>\n",
       "      <td>1.000000</td>\n",
       "    </tr>\n",
       "    <tr>\n",
       "      <th>2019</th>\n",
       "      <td>18.905359</td>\n",
       "      <td>27.198658</td>\n",
       "      <td>78.005981</td>\n",
       "      <td>10.238214</td>\n",
       "      <td>16.762239</td>\n",
       "      <td>11.631769</td>\n",
       "      <td>297.241266</td>\n",
       "      <td>42.363030</td>\n",
       "      <td>42.363030</td>\n",
       "      <td>2.967439</td>\n",
       "      <td>2.967439</td>\n",
       "      <td>3.678462</td>\n",
       "    </tr>\n",
       "    <tr>\n",
       "      <th rowspan=\"2\" valign=\"top\">o3</th>\n",
       "      <th>2019</th>\n",
       "      <td>15.759540</td>\n",
       "      <td>27.198658</td>\n",
       "      <td>78.005981</td>\n",
       "      <td>10.439290</td>\n",
       "      <td>17.522602</td>\n",
       "      <td>11.686991</td>\n",
       "      <td>304.088042</td>\n",
       "      <td>43.236005</td>\n",
       "      <td>43.236005</td>\n",
       "      <td>2.935348</td>\n",
       "      <td>2.935348</td>\n",
       "      <td>3.788568</td>\n",
       "    </tr>\n",
       "    <tr>\n",
       "      <th>2020</th>\n",
       "      <td>6.843413</td>\n",
       "      <td>27.198658</td>\n",
       "      <td>78.005981</td>\n",
       "      <td>1.483280</td>\n",
       "      <td>15.490330</td>\n",
       "      <td>11.477639</td>\n",
       "      <td>30.471998</td>\n",
       "      <td>5.062248</td>\n",
       "      <td>5.062248</td>\n",
       "      <td>3.036261</td>\n",
       "      <td>3.036261</td>\n",
       "      <td>1.000000</td>\n",
       "    </tr>\n",
       "  </tbody>\n",
       "</table>\n",
       "</div>"
      ],
      "text/plain": [
       "                      value   latitude  longitude      month        day  \\\n",
       "parameter year                                                            \n",
       "co        2020  1354.053122  27.198658  78.005981   1.485401  15.428021   \n",
       "          2019  1017.819590  27.198658  78.005981  10.531129  17.897759   \n",
       "pm25      2020    99.371324  27.198658  78.005981   1.517734  16.384948   \n",
       "no2       2020    62.571273  27.198658  78.005981   1.483280  15.490330   \n",
       "pm25      2019    55.006391  27.198658  78.005981  10.311753  16.329625   \n",
       "no2       2019    39.169386  27.198658  78.005981  10.219408  16.868108   \n",
       "so2       2020    21.150604  27.198658  78.005981   1.483280  15.490330   \n",
       "          2019    18.905359  27.198658  78.005981  10.238214  16.762239   \n",
       "o3        2019    15.759540  27.198658  78.005981  10.439290  17.522602   \n",
       "          2020     6.843413  27.198658  78.005981   1.483280  15.490330   \n",
       "\n",
       "                     hour   dayofyear       week  weekofyear  dayofweek  \\\n",
       "parameter year                                                            \n",
       "co        2020  11.484590   30.475466   5.062247    5.062247   3.039740   \n",
       "          2019  11.709878  307.254566  43.647205   43.647205   2.932761   \n",
       "pm25      2020  11.488106   32.434689   5.346237    5.346237   3.011029   \n",
       "no2       2020  11.477639   30.471998   5.062248    5.062248   3.036261   \n",
       "pm25      2019  11.633921  299.059179  42.846254   42.846254   2.947331   \n",
       "no2       2019  11.617436  296.772187  42.301771   42.301771   2.969072   \n",
       "so2       2020  11.477639   30.471998   5.062248    5.062248   3.036261   \n",
       "          2019  11.631769  297.241266  42.363030   42.363030   2.967439   \n",
       "o3        2019  11.686991  304.088042  43.236005   43.236005   2.935348   \n",
       "          2020  11.477639   30.471998   5.062248    5.062248   3.036261   \n",
       "\n",
       "                 weekday   quarter  \n",
       "parameter year                      \n",
       "co        2020  3.039740  1.000000  \n",
       "          2019  2.932761  3.830243  \n",
       "pm25      2020  3.011029  1.000000  \n",
       "no2       2020  3.036261  1.000000  \n",
       "pm25      2019  2.947331  3.703042  \n",
       "no2       2019  2.969072  3.672456  \n",
       "so2       2020  3.036261  1.000000  \n",
       "          2019  2.967439  3.678462  \n",
       "o3        2019  2.935348  3.788568  \n",
       "          2020  3.036261  1.000000  "
      ]
     },
     "execution_count": 33,
     "metadata": {},
     "output_type": "execute_result"
    }
   ],
   "source": [
    "df.groupby(['parameter','year']).mean().sort_values('value',ascending=False)"
   ]
  },
  {
   "cell_type": "markdown",
   "metadata": {},
   "source": [
    "* As related to data, year =2020 has the highest mean vlaue of param like co in agra ."
   ]
  },
  {
   "cell_type": "markdown",
   "metadata": {},
   "source": [
    "#### Data related to its param like co2,so2,03 etc in terms of  week with mean descending value of value col\n"
   ]
  },
  {
   "cell_type": "code",
   "execution_count": 34,
   "metadata": {},
   "outputs": [
    {
     "data": {
      "text/html": [
       "<div>\n",
       "<style scoped>\n",
       "    .dataframe tbody tr th:only-of-type {\n",
       "        vertical-align: middle;\n",
       "    }\n",
       "\n",
       "    .dataframe tbody tr th {\n",
       "        vertical-align: top;\n",
       "    }\n",
       "\n",
       "    .dataframe thead th {\n",
       "        text-align: right;\n",
       "    }\n",
       "</style>\n",
       "<table border=\"1\" class=\"dataframe\">\n",
       "  <thead>\n",
       "    <tr style=\"text-align: right;\">\n",
       "      <th></th>\n",
       "      <th></th>\n",
       "      <th>value</th>\n",
       "      <th>latitude</th>\n",
       "      <th>longitude</th>\n",
       "      <th>year</th>\n",
       "      <th>month</th>\n",
       "      <th>day</th>\n",
       "      <th>hour</th>\n",
       "      <th>dayofyear</th>\n",
       "      <th>weekofyear</th>\n",
       "      <th>dayofweek</th>\n",
       "      <th>weekday</th>\n",
       "      <th>quarter</th>\n",
       "    </tr>\n",
       "    <tr>\n",
       "      <th>parameter</th>\n",
       "      <th>week</th>\n",
       "      <th></th>\n",
       "      <th></th>\n",
       "      <th></th>\n",
       "      <th></th>\n",
       "      <th></th>\n",
       "      <th></th>\n",
       "      <th></th>\n",
       "      <th></th>\n",
       "      <th></th>\n",
       "      <th></th>\n",
       "      <th></th>\n",
       "      <th></th>\n",
       "    </tr>\n",
       "  </thead>\n",
       "  <tbody>\n",
       "    <tr>\n",
       "      <th rowspan=\"5\" valign=\"top\">co</th>\n",
       "      <th>4</th>\n",
       "      <td>1841.331058</td>\n",
       "      <td>27.198658</td>\n",
       "      <td>78.005981</td>\n",
       "      <td>2020.0</td>\n",
       "      <td>1.0</td>\n",
       "      <td>22.948805</td>\n",
       "      <td>11.493174</td>\n",
       "      <td>22.948805</td>\n",
       "      <td>4.0</td>\n",
       "      <td>2.948805</td>\n",
       "      <td>2.948805</td>\n",
       "      <td>1.0</td>\n",
       "    </tr>\n",
       "    <tr>\n",
       "      <th>3</th>\n",
       "      <td>1657.966728</td>\n",
       "      <td>27.198658</td>\n",
       "      <td>78.005981</td>\n",
       "      <td>2020.0</td>\n",
       "      <td>1.0</td>\n",
       "      <td>16.107209</td>\n",
       "      <td>11.397412</td>\n",
       "      <td>16.107209</td>\n",
       "      <td>3.0</td>\n",
       "      <td>3.107209</td>\n",
       "      <td>3.107209</td>\n",
       "      <td>1.0</td>\n",
       "    </tr>\n",
       "    <tr>\n",
       "      <th>46</th>\n",
       "      <td>1505.328185</td>\n",
       "      <td>27.198658</td>\n",
       "      <td>78.005981</td>\n",
       "      <td>2019.0</td>\n",
       "      <td>11.0</td>\n",
       "      <td>14.270270</td>\n",
       "      <td>11.851351</td>\n",
       "      <td>318.270270</td>\n",
       "      <td>46.0</td>\n",
       "      <td>3.270270</td>\n",
       "      <td>3.270270</td>\n",
       "      <td>4.0</td>\n",
       "    </tr>\n",
       "    <tr>\n",
       "      <th>44</th>\n",
       "      <td>1494.238095</td>\n",
       "      <td>27.198658</td>\n",
       "      <td>78.005981</td>\n",
       "      <td>2019.0</td>\n",
       "      <td>10.0</td>\n",
       "      <td>28.766667</td>\n",
       "      <td>10.309524</td>\n",
       "      <td>301.766667</td>\n",
       "      <td>44.0</td>\n",
       "      <td>0.766667</td>\n",
       "      <td>0.766667</td>\n",
       "      <td>4.0</td>\n",
       "    </tr>\n",
       "    <tr>\n",
       "      <th>47</th>\n",
       "      <td>1470.019011</td>\n",
       "      <td>27.198658</td>\n",
       "      <td>78.005981</td>\n",
       "      <td>2019.0</td>\n",
       "      <td>11.0</td>\n",
       "      <td>20.796578</td>\n",
       "      <td>11.342205</td>\n",
       "      <td>324.796578</td>\n",
       "      <td>47.0</td>\n",
       "      <td>2.796578</td>\n",
       "      <td>2.796578</td>\n",
       "      <td>4.0</td>\n",
       "    </tr>\n",
       "  </tbody>\n",
       "</table>\n",
       "</div>"
      ],
      "text/plain": [
       "                      value   latitude  longitude    year  month        day  \\\n",
       "parameter week                                                                \n",
       "co        4     1841.331058  27.198658  78.005981  2020.0    1.0  22.948805   \n",
       "          3     1657.966728  27.198658  78.005981  2020.0    1.0  16.107209   \n",
       "          46    1505.328185  27.198658  78.005981  2019.0   11.0  14.270270   \n",
       "          44    1494.238095  27.198658  78.005981  2019.0   10.0  28.766667   \n",
       "          47    1470.019011  27.198658  78.005981  2019.0   11.0  20.796578   \n",
       "\n",
       "                     hour   dayofyear  weekofyear  dayofweek   weekday  \\\n",
       "parameter week                                                           \n",
       "co        4     11.493174   22.948805         4.0   2.948805  2.948805   \n",
       "          3     11.397412   16.107209         3.0   3.107209  3.107209   \n",
       "          46    11.851351  318.270270        46.0   3.270270  3.270270   \n",
       "          44    10.309524  301.766667        44.0   0.766667  0.766667   \n",
       "          47    11.342205  324.796578        47.0   2.796578  2.796578   \n",
       "\n",
       "                quarter  \n",
       "parameter week           \n",
       "co        4         1.0  \n",
       "          3         1.0  \n",
       "          46        4.0  \n",
       "          44        4.0  \n",
       "          47        4.0  "
      ]
     },
     "execution_count": 34,
     "metadata": {},
     "output_type": "execute_result"
    }
   ],
   "source": [
    "df.groupby(['parameter','week']).mean().sort_values('value',ascending=False).head()"
   ]
  },
  {
   "cell_type": "markdown",
   "metadata": {},
   "source": [
    "* As related to data week=4 and year =2020 has the highest mean vlaue of param like co in agra ."
   ]
  },
  {
   "cell_type": "markdown",
   "metadata": {},
   "source": [
    "### Correlation of data"
   ]
  },
  {
   "cell_type": "code",
   "execution_count": 35,
   "metadata": {},
   "outputs": [
    {
     "data": {
      "text/html": [
       "<div>\n",
       "<style scoped>\n",
       "    .dataframe tbody tr th:only-of-type {\n",
       "        vertical-align: middle;\n",
       "    }\n",
       "\n",
       "    .dataframe tbody tr th {\n",
       "        vertical-align: top;\n",
       "    }\n",
       "\n",
       "    .dataframe thead th {\n",
       "        text-align: right;\n",
       "    }\n",
       "</style>\n",
       "<table border=\"1\" class=\"dataframe\">\n",
       "  <thead>\n",
       "    <tr style=\"text-align: right;\">\n",
       "      <th></th>\n",
       "      <th>value</th>\n",
       "      <th>latitude</th>\n",
       "      <th>longitude</th>\n",
       "      <th>year</th>\n",
       "      <th>month</th>\n",
       "      <th>day</th>\n",
       "      <th>hour</th>\n",
       "      <th>dayofyear</th>\n",
       "      <th>week</th>\n",
       "      <th>weekofyear</th>\n",
       "      <th>dayofweek</th>\n",
       "      <th>weekday</th>\n",
       "      <th>quarter</th>\n",
       "    </tr>\n",
       "  </thead>\n",
       "  <tbody>\n",
       "    <tr>\n",
       "      <th>value</th>\n",
       "      <td>1.000000e+00</td>\n",
       "      <td>-3.293971e-15</td>\n",
       "      <td>-1.738668e-14</td>\n",
       "      <td>7.932861e-02</td>\n",
       "      <td>-6.177619e-02</td>\n",
       "      <td>9.717365e-03</td>\n",
       "      <td>5.308506e-02</td>\n",
       "      <td>-6.084834e-02</td>\n",
       "      <td>-6.033982e-02</td>\n",
       "      <td>-6.033982e-02</td>\n",
       "      <td>-1.197184e-02</td>\n",
       "      <td>-1.197184e-02</td>\n",
       "      <td>-5.116432e-02</td>\n",
       "    </tr>\n",
       "    <tr>\n",
       "      <th>latitude</th>\n",
       "      <td>-3.293971e-15</td>\n",
       "      <td>1.000000e+00</td>\n",
       "      <td>1.000000e+00</td>\n",
       "      <td>-3.901104e-13</td>\n",
       "      <td>1.455354e-13</td>\n",
       "      <td>-5.575933e-14</td>\n",
       "      <td>3.152703e-15</td>\n",
       "      <td>-1.216569e-13</td>\n",
       "      <td>3.314547e-14</td>\n",
       "      <td>3.314547e-14</td>\n",
       "      <td>-1.757333e-14</td>\n",
       "      <td>-1.757333e-14</td>\n",
       "      <td>3.288371e-13</td>\n",
       "    </tr>\n",
       "    <tr>\n",
       "      <th>longitude</th>\n",
       "      <td>-1.738668e-14</td>\n",
       "      <td>1.000000e+00</td>\n",
       "      <td>1.000000e+00</td>\n",
       "      <td>-5.551647e-13</td>\n",
       "      <td>-2.789274e-13</td>\n",
       "      <td>-5.603709e-15</td>\n",
       "      <td>2.482121e-15</td>\n",
       "      <td>4.739667e-13</td>\n",
       "      <td>-4.873154e-13</td>\n",
       "      <td>-4.873154e-13</td>\n",
       "      <td>3.676668e-15</td>\n",
       "      <td>3.676668e-15</td>\n",
       "      <td>3.159599e-13</td>\n",
       "    </tr>\n",
       "    <tr>\n",
       "      <th>year</th>\n",
       "      <td>7.932861e-02</td>\n",
       "      <td>-3.901104e-13</td>\n",
       "      <td>-5.551647e-13</td>\n",
       "      <td>1.000000e+00</td>\n",
       "      <td>-9.728254e-01</td>\n",
       "      <td>-7.739686e-02</td>\n",
       "      <td>-1.191236e-02</td>\n",
       "      <td>-9.728349e-01</td>\n",
       "      <td>-9.530129e-01</td>\n",
       "      <td>-9.530129e-01</td>\n",
       "      <td>1.959111e-02</td>\n",
       "      <td>1.959111e-02</td>\n",
       "      <td>-9.662852e-01</td>\n",
       "    </tr>\n",
       "    <tr>\n",
       "      <th>month</th>\n",
       "      <td>-6.177619e-02</td>\n",
       "      <td>1.455354e-13</td>\n",
       "      <td>-2.789274e-13</td>\n",
       "      <td>-9.728254e-01</td>\n",
       "      <td>1.000000e+00</td>\n",
       "      <td>4.240364e-02</td>\n",
       "      <td>1.273892e-02</td>\n",
       "      <td>9.979076e-01</td>\n",
       "      <td>9.705393e-01</td>\n",
       "      <td>9.705393e-01</td>\n",
       "      <td>-3.589339e-02</td>\n",
       "      <td>-3.589339e-02</td>\n",
       "      <td>9.844317e-01</td>\n",
       "    </tr>\n",
       "    <tr>\n",
       "      <th>day</th>\n",
       "      <td>9.717365e-03</td>\n",
       "      <td>-5.575933e-14</td>\n",
       "      <td>-5.603709e-15</td>\n",
       "      <td>-7.739686e-02</td>\n",
       "      <td>4.240364e-02</td>\n",
       "      <td>1.000000e+00</td>\n",
       "      <td>-9.813242e-03</td>\n",
       "      <td>1.068737e-01</td>\n",
       "      <td>7.034481e-02</td>\n",
       "      <td>7.034481e-02</td>\n",
       "      <td>1.415224e-02</td>\n",
       "      <td>1.415224e-02</td>\n",
       "      <td>4.920765e-02</td>\n",
       "    </tr>\n",
       "    <tr>\n",
       "      <th>hour</th>\n",
       "      <td>5.308506e-02</td>\n",
       "      <td>3.152703e-15</td>\n",
       "      <td>2.482121e-15</td>\n",
       "      <td>-1.191236e-02</td>\n",
       "      <td>1.273892e-02</td>\n",
       "      <td>-9.813242e-03</td>\n",
       "      <td>1.000000e+00</td>\n",
       "      <td>1.203541e-02</td>\n",
       "      <td>8.868450e-03</td>\n",
       "      <td>8.868450e-03</td>\n",
       "      <td>1.185838e-03</td>\n",
       "      <td>1.185838e-03</td>\n",
       "      <td>1.035914e-02</td>\n",
       "    </tr>\n",
       "    <tr>\n",
       "      <th>dayofyear</th>\n",
       "      <td>-6.084834e-02</td>\n",
       "      <td>-1.216569e-13</td>\n",
       "      <td>4.739667e-13</td>\n",
       "      <td>-9.728349e-01</td>\n",
       "      <td>9.979076e-01</td>\n",
       "      <td>1.068737e-01</td>\n",
       "      <td>1.203541e-02</td>\n",
       "      <td>1.000000e+00</td>\n",
       "      <td>9.703916e-01</td>\n",
       "      <td>9.703916e-01</td>\n",
       "      <td>-3.486975e-02</td>\n",
       "      <td>-3.486975e-02</td>\n",
       "      <td>9.826378e-01</td>\n",
       "    </tr>\n",
       "    <tr>\n",
       "      <th>week</th>\n",
       "      <td>-6.033982e-02</td>\n",
       "      <td>3.314547e-14</td>\n",
       "      <td>-4.873154e-13</td>\n",
       "      <td>-9.530129e-01</td>\n",
       "      <td>9.705393e-01</td>\n",
       "      <td>7.034481e-02</td>\n",
       "      <td>8.868450e-03</td>\n",
       "      <td>9.703916e-01</td>\n",
       "      <td>1.000000e+00</td>\n",
       "      <td>1.000000e+00</td>\n",
       "      <td>-2.406725e-02</td>\n",
       "      <td>-2.406725e-02</td>\n",
       "      <td>9.593465e-01</td>\n",
       "    </tr>\n",
       "    <tr>\n",
       "      <th>weekofyear</th>\n",
       "      <td>-6.033982e-02</td>\n",
       "      <td>3.314547e-14</td>\n",
       "      <td>-4.873154e-13</td>\n",
       "      <td>-9.530129e-01</td>\n",
       "      <td>9.705393e-01</td>\n",
       "      <td>7.034481e-02</td>\n",
       "      <td>8.868450e-03</td>\n",
       "      <td>9.703916e-01</td>\n",
       "      <td>1.000000e+00</td>\n",
       "      <td>1.000000e+00</td>\n",
       "      <td>-2.406725e-02</td>\n",
       "      <td>-2.406725e-02</td>\n",
       "      <td>9.593465e-01</td>\n",
       "    </tr>\n",
       "    <tr>\n",
       "      <th>dayofweek</th>\n",
       "      <td>-1.197184e-02</td>\n",
       "      <td>-1.757333e-14</td>\n",
       "      <td>3.676668e-15</td>\n",
       "      <td>1.959111e-02</td>\n",
       "      <td>-3.589339e-02</td>\n",
       "      <td>1.415224e-02</td>\n",
       "      <td>1.185838e-03</td>\n",
       "      <td>-3.486975e-02</td>\n",
       "      <td>-2.406725e-02</td>\n",
       "      <td>-2.406725e-02</td>\n",
       "      <td>1.000000e+00</td>\n",
       "      <td>1.000000e+00</td>\n",
       "      <td>-3.401032e-02</td>\n",
       "    </tr>\n",
       "    <tr>\n",
       "      <th>weekday</th>\n",
       "      <td>-1.197184e-02</td>\n",
       "      <td>-1.757333e-14</td>\n",
       "      <td>3.676668e-15</td>\n",
       "      <td>1.959111e-02</td>\n",
       "      <td>-3.589339e-02</td>\n",
       "      <td>1.415224e-02</td>\n",
       "      <td>1.185838e-03</td>\n",
       "      <td>-3.486975e-02</td>\n",
       "      <td>-2.406725e-02</td>\n",
       "      <td>-2.406725e-02</td>\n",
       "      <td>1.000000e+00</td>\n",
       "      <td>1.000000e+00</td>\n",
       "      <td>-3.401032e-02</td>\n",
       "    </tr>\n",
       "    <tr>\n",
       "      <th>quarter</th>\n",
       "      <td>-5.116432e-02</td>\n",
       "      <td>3.288371e-13</td>\n",
       "      <td>3.159599e-13</td>\n",
       "      <td>-9.662852e-01</td>\n",
       "      <td>9.844317e-01</td>\n",
       "      <td>4.920765e-02</td>\n",
       "      <td>1.035914e-02</td>\n",
       "      <td>9.826378e-01</td>\n",
       "      <td>9.593465e-01</td>\n",
       "      <td>9.593465e-01</td>\n",
       "      <td>-3.401032e-02</td>\n",
       "      <td>-3.401032e-02</td>\n",
       "      <td>1.000000e+00</td>\n",
       "    </tr>\n",
       "  </tbody>\n",
       "</table>\n",
       "</div>"
      ],
      "text/plain": [
       "                   value      latitude     longitude          year  \\\n",
       "value       1.000000e+00 -3.293971e-15 -1.738668e-14  7.932861e-02   \n",
       "latitude   -3.293971e-15  1.000000e+00  1.000000e+00 -3.901104e-13   \n",
       "longitude  -1.738668e-14  1.000000e+00  1.000000e+00 -5.551647e-13   \n",
       "year        7.932861e-02 -3.901104e-13 -5.551647e-13  1.000000e+00   \n",
       "month      -6.177619e-02  1.455354e-13 -2.789274e-13 -9.728254e-01   \n",
       "day         9.717365e-03 -5.575933e-14 -5.603709e-15 -7.739686e-02   \n",
       "hour        5.308506e-02  3.152703e-15  2.482121e-15 -1.191236e-02   \n",
       "dayofyear  -6.084834e-02 -1.216569e-13  4.739667e-13 -9.728349e-01   \n",
       "week       -6.033982e-02  3.314547e-14 -4.873154e-13 -9.530129e-01   \n",
       "weekofyear -6.033982e-02  3.314547e-14 -4.873154e-13 -9.530129e-01   \n",
       "dayofweek  -1.197184e-02 -1.757333e-14  3.676668e-15  1.959111e-02   \n",
       "weekday    -1.197184e-02 -1.757333e-14  3.676668e-15  1.959111e-02   \n",
       "quarter    -5.116432e-02  3.288371e-13  3.159599e-13 -9.662852e-01   \n",
       "\n",
       "                   month           day          hour     dayofyear  \\\n",
       "value      -6.177619e-02  9.717365e-03  5.308506e-02 -6.084834e-02   \n",
       "latitude    1.455354e-13 -5.575933e-14  3.152703e-15 -1.216569e-13   \n",
       "longitude  -2.789274e-13 -5.603709e-15  2.482121e-15  4.739667e-13   \n",
       "year       -9.728254e-01 -7.739686e-02 -1.191236e-02 -9.728349e-01   \n",
       "month       1.000000e+00  4.240364e-02  1.273892e-02  9.979076e-01   \n",
       "day         4.240364e-02  1.000000e+00 -9.813242e-03  1.068737e-01   \n",
       "hour        1.273892e-02 -9.813242e-03  1.000000e+00  1.203541e-02   \n",
       "dayofyear   9.979076e-01  1.068737e-01  1.203541e-02  1.000000e+00   \n",
       "week        9.705393e-01  7.034481e-02  8.868450e-03  9.703916e-01   \n",
       "weekofyear  9.705393e-01  7.034481e-02  8.868450e-03  9.703916e-01   \n",
       "dayofweek  -3.589339e-02  1.415224e-02  1.185838e-03 -3.486975e-02   \n",
       "weekday    -3.589339e-02  1.415224e-02  1.185838e-03 -3.486975e-02   \n",
       "quarter     9.844317e-01  4.920765e-02  1.035914e-02  9.826378e-01   \n",
       "\n",
       "                    week    weekofyear     dayofweek       weekday  \\\n",
       "value      -6.033982e-02 -6.033982e-02 -1.197184e-02 -1.197184e-02   \n",
       "latitude    3.314547e-14  3.314547e-14 -1.757333e-14 -1.757333e-14   \n",
       "longitude  -4.873154e-13 -4.873154e-13  3.676668e-15  3.676668e-15   \n",
       "year       -9.530129e-01 -9.530129e-01  1.959111e-02  1.959111e-02   \n",
       "month       9.705393e-01  9.705393e-01 -3.589339e-02 -3.589339e-02   \n",
       "day         7.034481e-02  7.034481e-02  1.415224e-02  1.415224e-02   \n",
       "hour        8.868450e-03  8.868450e-03  1.185838e-03  1.185838e-03   \n",
       "dayofyear   9.703916e-01  9.703916e-01 -3.486975e-02 -3.486975e-02   \n",
       "week        1.000000e+00  1.000000e+00 -2.406725e-02 -2.406725e-02   \n",
       "weekofyear  1.000000e+00  1.000000e+00 -2.406725e-02 -2.406725e-02   \n",
       "dayofweek  -2.406725e-02 -2.406725e-02  1.000000e+00  1.000000e+00   \n",
       "weekday    -2.406725e-02 -2.406725e-02  1.000000e+00  1.000000e+00   \n",
       "quarter     9.593465e-01  9.593465e-01 -3.401032e-02 -3.401032e-02   \n",
       "\n",
       "                 quarter  \n",
       "value      -5.116432e-02  \n",
       "latitude    3.288371e-13  \n",
       "longitude   3.159599e-13  \n",
       "year       -9.662852e-01  \n",
       "month       9.844317e-01  \n",
       "day         4.920765e-02  \n",
       "hour        1.035914e-02  \n",
       "dayofyear   9.826378e-01  \n",
       "week        9.593465e-01  \n",
       "weekofyear  9.593465e-01  \n",
       "dayofweek  -3.401032e-02  \n",
       "weekday    -3.401032e-02  \n",
       "quarter     1.000000e+00  "
      ]
     },
     "execution_count": 35,
     "metadata": {},
     "output_type": "execute_result"
    }
   ],
   "source": [
    "# To find the correlation exists between the data either positive ,negatnve \n",
    "# and no correlation exists between multiple columns in the data\n",
    "df.corr()\n"
   ]
  },
  {
   "cell_type": "markdown",
   "metadata": {},
   "source": [
    "### Diagram of correlation using seaborn.heatmap()"
   ]
  },
  {
   "cell_type": "code",
   "execution_count": 36,
   "metadata": {},
   "outputs": [
    {
     "data": {
      "text/plain": [
       "<matplotlib.axes._subplots.AxesSubplot at 0x21ef70ea470>"
      ]
     },
     "execution_count": 36,
     "metadata": {},
     "output_type": "execute_result"
    },
    {
     "data": {
      "image/png": "[encoded data removed]",
      "text/plain": [
       "<Figure size 2160x2160 with 2 Axes>"
      ]
     },
     "metadata": {
      "needs_background": "light"
     },
     "output_type": "display_data"
    }
   ],
   "source": [
    "plt.figure(figsize=[30,30])\n",
    "sns.heatmap(df.corr(),annot=True)"
   ]
  },
  {
   "cell_type": "markdown",
   "metadata": {},
   "source": [
    "### Convert param like pm25,so2,co,no2,o3 into its numercals value like 1,2,3 and so on. So that ml possible for the data"
   ]
  },
  {
   "cell_type": "code",
   "execution_count": 37,
   "metadata": {},
   "outputs": [],
   "source": [
    "df['int_parameter']=pd.factorize(df['parameter'])[0] + 1"
   ]
  },
  {
   "cell_type": "code",
   "execution_count": 38,
   "metadata": {},
   "outputs": [],
   "source": [
    "X=df['value'].values\n",
    "y=df['int_parameter'].values"
   ]
  },
  {
   "cell_type": "code",
   "execution_count": 39,
   "metadata": {},
   "outputs": [],
   "source": [
    "X=X.reshape(-1,1)\n",
    "y=y.reshape(-1,1)"
   ]
  },
  {
   "cell_type": "markdown",
   "metadata": {},
   "source": [
    "### Scaling or normalizing the dataset"
   ]
  },
  {
   "cell_type": "code",
   "execution_count": 40,
   "metadata": {},
   "outputs": [],
   "source": [
    "from sklearn.preprocessing import StandardScaler\n",
    "std = StandardScaler()"
   ]
  },
  {
   "cell_type": "code",
   "execution_count": 41,
   "metadata": {},
   "outputs": [],
   "source": [
    "X=std.fit_transform(X)"
   ]
  },
  {
   "cell_type": "markdown",
   "metadata": {},
   "source": [
    "### Splitting the dataset into training and testing"
   ]
  },
  {
   "cell_type": "code",
   "execution_count": 42,
   "metadata": {},
   "outputs": [],
   "source": [
    "from sklearn.model_selection import train_test_split\n",
    "train_x,test_x,train_y,test_y=train_test_split(X,y,test_size=0.2,random_state=101)"
   ]
  },
  {
   "cell_type": "markdown",
   "metadata": {},
   "source": [
    "### Training our model using Other  Classifier\n",
    " * Fitting Machine learning  algo and compare there training and testing score\n",
    " * To check Data underfitting or Overfitting the model by comparing there score.\n",
    "      * In underfitting condition- model accuracy is very low.\n",
    "      * In Overfitting condtion- training  accuracy is high but testing accuracy is exponentially low as compare to training. \n",
    " * Chose the best algo suited for our model\n"
   ]
  },
  {
   "cell_type": "code",
   "execution_count": 43,
   "metadata": {},
   "outputs": [],
   "source": [
    "lr=LogisticRegression()\n",
    "dt = DecisionTreeClassifier()\n",
    "rf = RandomForestClassifier(max_depth=12)\n",
    "ab = AdaBoostClassifier(n_estimators=70)\n",
    "bc = BaggingClassifier()"
   ]
  },
  {
   "cell_type": "code",
   "execution_count": 44,
   "metadata": {},
   "outputs": [],
   "source": [
    "ml_model = []\n",
    "ml_model.append((\"DecisionTreeClassifier\",dt))\n",
    "ml_model.append((\"LogisticR\",dt))\n",
    "ml_model.append(('RandomForestClassifier',rf))\n",
    "ml_model.append(('AdaBoost',ab))\n",
    "ml_model.append(('Bagging',bc))\n"
   ]
  },
  {
   "cell_type": "code",
   "execution_count": 45,
   "metadata": {},
   "outputs": [
    {
     "name": "stdout",
     "output_type": "stream",
     "text": [
      "DecisionTreeClassifier = (training score): 0.878118 (testing score:) 0.871995\n",
      "\n",
      "\n",
      "LogisticR = (training score): 0.878118 (testing score:) 0.871995\n",
      "\n",
      "\n"
     ]
    },
    {
     "name": "stderr",
     "output_type": "stream",
     "text": [
      "C:\\Users\\hp\\Anaconda3\\lib\\site-packages\\sklearn\\ensemble\\forest.py:246: FutureWarning: The default value of n_estimators will change from 10 in version 0.20 to 100 in 0.22.\n",
      "  \"10 in version 0.20 to 100 in 0.22.\", FutureWarning)\n",
      "C:\\Users\\hp\\Anaconda3\\lib\\site-packages\\ipykernel_launcher.py:2: DataConversionWarning: A column-vector y was passed when a 1d array was expected. Please change the shape of y to (n_samples,), for example using ravel().\n",
      "  \n"
     ]
    },
    {
     "name": "stdout",
     "output_type": "stream",
     "text": [
      "RandomForestClassifier = (training score): 0.796672 (testing score:) 0.795817\n",
      "\n",
      "\n"
     ]
    },
    {
     "name": "stderr",
     "output_type": "stream",
     "text": [
      "C:\\Users\\hp\\Anaconda3\\lib\\site-packages\\sklearn\\utils\\validation.py:761: DataConversionWarning: A column-vector y was passed when a 1d array was expected. Please change the shape of y to (n_samples, ), for example using ravel().\n",
      "  y = column_or_1d(y, warn=True)\n"
     ]
    },
    {
     "name": "stdout",
     "output_type": "stream",
     "text": [
      "AdaBoost = (training score): 0.682003 (testing score:) 0.679261\n",
      "\n",
      "\n"
     ]
    },
    {
     "name": "stderr",
     "output_type": "stream",
     "text": [
      "C:\\Users\\hp\\Anaconda3\\lib\\site-packages\\sklearn\\ensemble\\bagging.py:622: DataConversionWarning: A column-vector y was passed when a 1d array was expected. Please change the shape of y to (n_samples, ), for example using ravel().\n",
      "  y = column_or_1d(y, warn=True)\n"
     ]
    },
    {
     "name": "stdout",
     "output_type": "stream",
     "text": [
      "Bagging = (training score): 0.877564 (testing score:) 0.871995\n",
      "\n",
      "\n"
     ]
    }
   ],
   "source": [
    "for name, algo in ml_model:\n",
    "    algo.fit(train_x,train_y)\n",
    "    train_score=algo.score(train_x,train_y)\n",
    "    test_score = algo.score(test_x,test_y)\n",
    "    msg = \"%s = (training score): %f (testing score:) %f\"%(name,train_score,test_score)\n",
    "    print(msg)\n",
    "    print('\\n')\n"
   ]
  },
  {
   "cell_type": "markdown",
   "metadata": {},
   "source": [
    "### Bagging perform well in our dataset  which is 87% training and 87% testing which is neither overfitting nor underfit the dataset\n",
    "\n",
    "* Now predict the model using Bagging "
   ]
  },
  {
   "cell_type": "code",
   "execution_count": 46,
   "metadata": {},
   "outputs": [],
   "source": [
    "# Prediction\n",
    "pred = bc.predict(test_x)\n"
   ]
  },
  {
   "cell_type": "markdown",
   "metadata": {},
   "source": [
    "### Confusion matrix and classification report"
   ]
  },
  {
   "cell_type": "code",
   "execution_count": 47,
   "metadata": {},
   "outputs": [
    {
     "data": {
      "text/plain": [
       "array([[2504,   86,    2,   13,   10],\n",
       "       [  47, 2426,   77,   81,  142],\n",
       "       [ 282,  236, 2250,    0,   73],\n",
       "       [  75,    0,    0, 2298,    8],\n",
       "       [  57,  261,  186,   41, 1946]], dtype=int64)"
      ]
     },
     "execution_count": 47,
     "metadata": {},
     "output_type": "execute_result"
    }
   ],
   "source": [
    "from sklearn.metrics import confusion_matrix,classification_report\n",
    "\n",
    "confusion_matrix(test_y,pred)"
   ]
  },
  {
   "cell_type": "code",
   "execution_count": 48,
   "metadata": {},
   "outputs": [
    {
     "name": "stdout",
     "output_type": "stream",
     "text": [
      "              precision    recall  f1-score   support\n",
      "\n",
      "           1       0.84      0.96      0.90      2615\n",
      "           2       0.81      0.87      0.84      2773\n",
      "           3       0.89      0.79      0.84      2841\n",
      "           4       0.94      0.97      0.95      2381\n",
      "           5       0.89      0.78      0.83      2491\n",
      "\n",
      "   micro avg       0.87      0.87      0.87     13101\n",
      "   macro avg       0.88      0.87      0.87     13101\n",
      "weighted avg       0.87      0.87      0.87     13101\n",
      "\n"
     ]
    }
   ],
   "source": [
    "print(classification_report(test_y,pred))"
   ]
  },
  {
   "cell_type": "code",
   "execution_count": 49,
   "metadata": {},
   "outputs": [],
   "source": [
    "my_pred = pd.DataFrame(bc.predict(X),columns=['prediction'])\n",
    "\n",
    "X = pd.DataFrame(X,columns=[\"value\"])"
   ]
  },
  {
   "cell_type": "markdown",
   "metadata": {},
   "source": [
    "### Final Result and submission of csv result prediction "
   ]
  },
  {
   "cell_type": "code",
   "execution_count": 50,
   "metadata": {},
   "outputs": [],
   "source": [
    "# Result or Prediction store in csv formate\n",
    "pred = pd.concat([X,my_pred],1)\n",
    "pred.to_csv('my_pred.csv',index=False)"
   ]
  },
  {
   "cell_type": "code",
   "execution_count": 51,
   "metadata": {},
   "outputs": [
    {
     "data": {
      "text/html": [
       "<div>\n",
       "<style scoped>\n",
       "    .dataframe tbody tr th:only-of-type {\n",
       "        vertical-align: middle;\n",
       "    }\n",
       "\n",
       "    .dataframe tbody tr th {\n",
       "        vertical-align: top;\n",
       "    }\n",
       "\n",
       "    .dataframe thead th {\n",
       "        text-align: right;\n",
       "    }\n",
       "</style>\n",
       "<table border=\"1\" class=\"dataframe\">\n",
       "  <thead>\n",
       "    <tr style=\"text-align: right;\">\n",
       "      <th></th>\n",
       "      <th>value</th>\n",
       "      <th>prediction</th>\n",
       "    </tr>\n",
       "  </thead>\n",
       "  <tbody>\n",
       "    <tr>\n",
       "      <th>0</th>\n",
       "      <td>-0.289207</td>\n",
       "      <td>1</td>\n",
       "    </tr>\n",
       "    <tr>\n",
       "      <th>1</th>\n",
       "      <td>-0.358697</td>\n",
       "      <td>2</td>\n",
       "    </tr>\n",
       "    <tr>\n",
       "      <th>2</th>\n",
       "      <td>-0.298483</td>\n",
       "      <td>3</td>\n",
       "    </tr>\n",
       "    <tr>\n",
       "      <th>3</th>\n",
       "      <td>-0.290779</td>\n",
       "      <td>1</td>\n",
       "    </tr>\n",
       "    <tr>\n",
       "      <th>4</th>\n",
       "      <td>1.249945</td>\n",
       "      <td>4</td>\n",
       "    </tr>\n",
       "  </tbody>\n",
       "</table>\n",
       "</div>"
      ],
      "text/plain": [
       "      value  prediction\n",
       "0 -0.289207           1\n",
       "1 -0.358697           2\n",
       "2 -0.298483           3\n",
       "3 -0.290779           1\n",
       "4  1.249945           4"
      ]
     },
     "execution_count": 51,
     "metadata": {},
     "output_type": "execute_result"
    }
   ],
   "source": [
    "pred.head()"
   ]
  },
  {
   "cell_type": "code",
   "execution_count": 52,
   "metadata": {},
   "outputs": [
    {
     "name": "stdout",
     "output_type": "stream",
     "text": [
      "AxesSubplot(0.125,0.125;0.775x0.755)\n"
     ]
    },
    {
     "data": {
      "image/png": "[encoded data removed]",
      "text/plain": [
       "<Figure size 432x288 with 1 Axes>"
      ]
     },
     "metadata": {
      "needs_background": "light"
     },
     "output_type": "display_data"
    }
   ],
   "source": [
    "print(sns.countplot(pred['prediction']))"
   ]
  },
  {
   "cell_type": "code",
   "execution_count": 53,
   "metadata": {},
   "outputs": [
    {
     "data": {
      "text/plain": [
       "<matplotlib.collections.PathCollection at 0x21ef9813fd0>"
      ]
     },
     "execution_count": 53,
     "metadata": {},
     "output_type": "execute_result"
    },
    {
     "data": {
      "image/png": "[encoded data removed]",
      "text/plain": [
       "<Figure size 432x288 with 1 Axes>"
      ]
     },
     "metadata": {
      "needs_background": "light"
     },
     "output_type": "display_data"
    }
   ],
   "source": [
    "plt.scatter(pred['prediction'],pred['value'],color=['green'])"
   ]
  },
  {
   "cell_type": "code",
   "execution_count": null,
   "metadata": {},
   "outputs": [],
   "source": []
  }
 ],
 "metadata": {
  "kernelspec": {
   "display_name": "Python 3",
   "language": "python",
   "name": "python3"
  },
  "language_info": {
   "codemirror_mode": {
    "name": "ipython",
    "version": 3
   },
   "file_extension": ".py",
   "mimetype": "text/x-python",
   "name": "python",
   "nbconvert_exporter": "python",
   "pygments_lexer": "ipython3",
   "version": "3.7.3"
  }
 },
 "nbformat": 4,
 "nbformat_minor": 2
}
